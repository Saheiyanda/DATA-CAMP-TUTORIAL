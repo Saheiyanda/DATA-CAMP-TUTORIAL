{
 "cells": [
  {
   "cell_type": "code",
   "execution_count": null,
   "id": "1c3a348d",
   "metadata": {},
   "outputs": [],
   "source": [
    "# Merge sequels and financials on index id\n",
    "sequels_fin = sequels.merge(financials, on='id', how='left')\n",
    "\n",
    "# Self merge with suffixes as inner join with left on sequel and right on id\n",
    "orig_seq = sequels_fin.merge(sequels_fin, how= 'inner', left_on='sequel', \n",
    "                             right_on= 'id', right_index= True,\n",
    "                             suffixes=('_org','_seq'))\n",
    "\n",
    "# Add calculation to subtract revenue_org from revenue_seq \n",
    "orig_seq['diff'] = orig_seq['revenue_seq'] - orig_seq['revenue_org']\n",
    "orig_seq.head()"
   ]
  },
  {
   "cell_type": "code",
   "execution_count": null,
   "id": "f7351ffe",
   "metadata": {},
   "outputs": [],
   "source": [
    "# Merge sequels and financials on index id\n",
    "sequels_fin = sequels.merge(financials, on='id', how='left')\n",
    "\n",
    "# Self merge with suffixes as inner join with left on sequel and right on id\n",
    "orig_seq = sequels_fin.merge(sequels_fin, how='inner', left_on='sequel', \n",
    "                             right_on='id', right_index=True,\n",
    "                             suffixes=('_org','_seq'))\n",
    "\n",
    "# Add calculation to subtract revenue_org from revenue_seq \n",
    "orig_seq['diff'] = orig_seq['revenue_seq'] - orig_seq['revenue_org']\n",
    "\n",
    "# Select the title_org, title_seq, and diff \n",
    "titles_diff = orig_seq[['title_org','title_seq','diff']]\n",
    "\n",
    "# Print the first rows of the sorted titles_diff\n",
    "print(titles_diff.sort_values(\"diff\",ascending = False).head())"
   ]
  },
  {
   "cell_type": "code",
   "execution_count": null,
   "id": "864a8210",
   "metadata": {},
   "outputs": [],
   "source": [
    "# Merge employees and top_cust a note on anti join\n",
    "empl_cust = employees.merge(top_cust, on='srid', \n",
    "                                 how='left', indicator=True)\n",
    "\n",
    "# Select the srid column where _merge is left_only\n",
    "srid_list = empl_cust.loc[empl_cust['_merge'] == 'left_only', 'srid']\n",
    "\n",
    "# Get employees not working with top customers\n",
    "print(employees[employees['srid'].isin(srid_list)])"
   ]
  },
  {
   "cell_type": "code",
   "execution_count": null,
   "id": "e6a22f18",
   "metadata": {},
   "outputs": [],
   "source": [
    "# Merge the non_mus_tck and top_invoices tables on tid\n",
    "# Nice job! In this exercise, you replicated a semi join to filter the table of tracks by the table of invoice items to find \n",
    "# the top revenue non-musical tracks. With some additional data manipulation, you discovered that \n",
    "# 'TV-shows' is the non-musical genre that has the most top revenue-generating tracks. \n",
    "# Now that you've done both semi- and anti joins, it's time to move to the next topic.\n",
    "\n",
    "tracks_invoices = non_mus_tcks.merge(top_invoices,on = 'tid',how = 'inner')\n",
    "print(non_mus_tcks.head())\n",
    "print()\n",
    "print(tracks_invoices.head())\n",
    "\n",
    "# Use .isin() to subset non_mus_tcks to rows with tid in tracks_invoices\n",
    "top_tracks = non_mus_tcks[non_mus_tcks['tid'].isin(tracks_invoices['tid'])]\n",
    "print()\n",
    "print(top_tracks)\n",
    "# Group the top_tracks by gid and count the tid rows\n",
    "cnt_by_gid = top_tracks.groupby(['gid'], as_index=False).agg({'tid':'count'})\n",
    "print()\n",
    "print(cnt_by_gid)\n",
    "\n",
    "# Merge the genres table to cnt_by_gid on gid and print\n",
    "print(cnt_by_gid.merge(genres,on = 'gid',how = 'left'))"
   ]
  },
  {
   "cell_type": "code",
   "execution_count": null,
   "id": "1ca4b919",
   "metadata": {},
   "outputs": [],
   "source": [
    "# Concatenate the tracks, show only columns names that are in all tables\n",
    "tracks_from_albums = pd.concat([tracks_master,tracks_ride,tracks_st],\n",
    "                               join='inner',\n",
    "                               sort=True)\n",
    "print(tracks_from_albums)"
   ]
  },
  {
   "cell_type": "code",
   "execution_count": null,
   "id": "c6e34e4e",
   "metadata": {},
   "outputs": [],
   "source": [
    "# Concatenate the tables and add keys\n",
    "print(inv_jul.head())\n",
    "print()\n",
    "print(inv_aug.head())\n",
    "print()\n",
    "print(inv_sep)\n",
    "inv_jul_thr_sep = pd.concat([inv_jul,inv_aug,inv_sep], \n",
    "                            keys=['7Jul','8Aug','9Sep'])\n",
    "\n",
    "# Group the invoices by the index keys and find avg of the total column\n",
    "avg_inv_by_month = inv_jul_thr_sep.groupby(level=0).agg({'total':'mean'})\n",
    "\n",
    "# Bar plot of avg_inv_by_month\n",
    "avg_inv_by_month.plot(kind='bar')\n",
    "plt.show()"
   ]
  },
  {
   "cell_type": "code",
   "execution_count": null,
   "id": "5f580975",
   "metadata": {},
   "outputs": [],
   "source": [
    "#The .concat() method is excellent when you need a lot of control over how concatenation is performed. \n",
    "#However, if you do not need as much control, \n",
    "#then the .append() method is another option. \n",
    "#You'll try this method out by appending the track lists together from different Metallica albums. \n",
    "#From there, you will merge it with the invoice_items table to determine which track sold the most."
   ]
  },
  {
   "cell_type": "code",
   "execution_count": null,
   "id": "05628953",
   "metadata": {},
   "outputs": [],
   "source": [
    "# Use the .append() method to combine the tracks tables\n",
    "print(tracks_master.head())\n",
    "print()\n",
    "print(tracks_ride)\n",
    "print()\n",
    "print(tracks_st.head())\n",
    "print()\n",
    "print(invoice_items.head())\n",
    "\n",
    "metallica_tracks = tracks_ride.append([tracks_master,tracks_st], sort=False)\n",
    "\n",
    "# Merge metallica_tracks and invoice_items\n",
    "tracks_invoices = metallica_tracks.merge(invoice_items,on='tid',how='inner')\n",
    "print(tracks_invoices.head())\n",
    "\n",
    "# For each tid and name sum the quantity sold\n",
    "tracks_sold = tracks_invoices.groupby(['tid','name']).agg({'quantity':'sum'})\n",
    "\n",
    "# Sort in decending order by quantity and print the results\n",
    "print(tracks_sold.sort_values('quantity',ascending = False))"
   ]
  },
  {
   "cell_type": "code",
   "execution_count": null,
   "id": "f1b96475",
   "metadata": {},
   "outputs": [],
   "source": [
    "# Concatenate the classic tables vertically\n",
    "print(classic_18.head())\n",
    "print()\n",
    "print(classic_19.head())\n",
    "classic_18_19 = pd.concat([classic_18,classic_19],ignore_index=True,sort = True)\n",
    "\n",
    "# Concatenate the pop tables vertically\n",
    "pop_18_19 = pd.concat([pop_18,pop_19],ignore_index=True,sort=True)"
   ]
  },
  {
   "cell_type": "code",
   "execution_count": null,
   "id": "1c64ed45",
   "metadata": {},
   "outputs": [],
   "source": [
    "# Concatenate the classic tables vertically\n",
    "classic_18_19 = pd.concat([classic_18, classic_19], ignore_index=True)\n",
    "\n",
    "# Concatenate the pop tables vertically\n",
    "pop_18_19 = pd.concat([pop_18, pop_19], ignore_index=True)\n",
    "\n",
    "# Merge classic_18_19 with pop_18_19\n",
    "classic_pop = classic_18_19.merge(pop_18_19,on='tid',how='inner')\n",
    "print(classic_pop)\n",
    "print()\n",
    "# Using .isin(), filter classic_18_19 rows where tid is in classic_pop\n",
    "popular_classic = classic_18_19[classic_18_19['tid'].isin(classic_pop['tid'])]\n",
    "\n",
    "# Print popular chart\n",
    "print(popular_classic)"
   ]
  },
  {
   "cell_type": "code",
   "execution_count": null,
   "id": "50beb506",
   "metadata": {},
   "outputs": [],
   "source": [
    "# Use merge_ordered() to merge gdp and sp500 on year and date\n",
    "print(sp500.head())\n",
    "print()\n",
    "print(gdp.head())\n",
    "gdp_sp500 = pd.merge_ordered(gdp,sp500, left_on='year', right_on='date', \n",
    "                             how='left')\n",
    "\n",
    "# Print gdp_sp500\n",
    "print(gdp_sp500)"
   ]
  },
  {
   "cell_type": "code",
   "execution_count": null,
   "id": "40713033",
   "metadata": {},
   "outputs": [],
   "source": [
    "# Use merge_ordered() to merge gdp and sp500, interpolate missing value\n",
    "print(gdp.head())\n",
    "print(sp500.head())\n",
    "\n",
    "gdp_sp500 = pd.merge_ordered(gdp,sp500,left_on = 'year',right_on='date',how='left',fill_method='ffill')\n",
    "\n",
    "\n",
    "# Print gdp_sp500\n",
    "print (gdp_sp500)"
   ]
  },
  {
   "cell_type": "code",
   "execution_count": null,
   "id": "63423640",
   "metadata": {},
   "outputs": [],
   "source": [
    "# Use merge_ordered() to merge gdp and sp500, interpolate missing value\n",
    "gdp_sp500 = pd.merge_ordered(gdp, sp500, left_on='year', right_on='date', \n",
    "                             how='left',  fill_method='ffill')\n",
    "\n",
    "# Subset the gdp and returns columns\n",
    "gdp_returns = gdp_sp500[['gdp','returns']]\n",
    "\n",
    "# Print gdp_returns correlation\n",
    "print (gdp_returns.corr())"
   ]
  },
  {
   "cell_type": "code",
   "execution_count": null,
   "id": "7b87d675",
   "metadata": {},
   "outputs": [],
   "source": [
    "# Use merge_ordered() to merge inflation, unemployment with inner join\n",
    "inflation_unemploy = pd.merge_ordered(inflation,unemployment,on='date',how='inner')\n",
    "\n",
    "# Print inflation_unemploy \n",
    "print(inflation_unemploy.head())\n",
    "\n",
    "# Plot a scatter plot of unemployment_rate vs cpi of inflation_unemploy\n",
    "inflation_unemploy.plot(x='unemployment_rate',y='cpi',kind='scatter')\n",
    "plt.show()"
   ]
  },
  {
   "cell_type": "code",
   "execution_count": null,
   "id": "f283b861",
   "metadata": {},
   "outputs": [],
   "source": [
    "# Merge gdp and pop on date and country with fill and notice rows 2 and 3\n",
    "ctry_date = pd.merge_ordered(gdp,pop,on=['date','country'] ,\n",
    "                             fill_method='ffill')\n",
    "\n",
    "# Print ctry_date\n",
    "print(ctry_date)"
   ]
  },
  {
   "cell_type": "code",
   "execution_count": null,
   "id": "671ed550",
   "metadata": {},
   "outputs": [],
   "source": [
    "# Merge gdp and pop on country and date with fill\n",
    "date_ctry = pd.merge_ordered(gdp,pop,on=['country','date'],fill_method='ffill')\n",
    "\n",
    "# Print date_ctry\n",
    "print(date_ctry)"
   ]
  },
  {
   "cell_type": "code",
   "execution_count": 2,
   "id": "03714052",
   "metadata": {},
   "outputs": [],
   "source": [
    "import pandas as pd\n",
    "licenses = pd.read_pickle('https://assets.datacamp.com/production/repositories/5486/datasets/2a4d8e5d91f6f2b41477fa6ea81da91e4f09305e/licenses.p')\n"
   ]
  },
  {
   "cell_type": "code",
   "execution_count": 4,
   "id": "03042184",
   "metadata": {},
   "outputs": [],
   "source": [
    "# licenses.head()"
   ]
  },
  {
   "cell_type": "code",
   "execution_count": 6,
   "id": "14e3198f",
   "metadata": {},
   "outputs": [],
   "source": [
    "import pandas as pd\n",
    "# jpm = pd.read_csv('https://docs.google.com/spreadsheets/d/e/2PACX-1vSFa6OoGruMG6TlJT9Hn5UYuABJ-o6nvwbXU5EkSSOHq0r2zO0ZP84KFfOZcdKIzeSuNwF-6MsgGzX_/pub?gid=653764921&single=true&output=csv')\n",
    "\n",
    "# jpm[\"date_time\"] = pd.to_datetime(jpm[\"date_time\"])\n",
    "\n",
    "# wells = pd.read_csv('https://docs.google.com/spreadsheets/d/e/2PACX-1vSFa6OoGruMG6TlJT9Hn5UYuABJ-o6nvwbXU5EkSSOHq0r2zO0ZP84KFfOZcdKIzeSuNwF-6MsgGzX_/pub?gid=1331252858&single=true&output=csv')\n",
    "\n",
    "# wells[\"date_time\"] = pd.to_datetime(wells[\"date_time\"])\n",
    "\n",
    "# bac = pd.read_csv('https://docs.google.com/spreadsheets/d/e/2PACX-1vSFa6OoGruMG6TlJT9Hn5UYuABJ-o6nvwbXU5EkSSOHq0r2zO0ZP84KFfOZcdKIzeSuNwF-6MsgGzX_/pub?gid=1413472476&single=true&output=csv')\n",
    "\n",
    "# bac[\"date_time\"] = pd.to_datetime(bac[\"date_time\"])"
   ]
  },
  {
   "cell_type": "code",
   "execution_count": null,
   "id": "f02bb0da",
   "metadata": {},
   "outputs": [],
   "source": [
    "# Merge gdp and recession on date using merge_asof()\n",
    "gdp_recession = pd.merge_asof(gdp,recession,on='date')\n",
    "\n",
    "# Create a list based on the row value of gdp_recession['econ_status']\n",
    "is_recession = ['r' if s=='recession' else 'g' for s in gdp_recession['econ_status']]\n",
    "\n",
    "# Plot a bar chart of gdp_recession\n",
    "gdp_recession.plot(kind='bar', y='gdp', x='date', color=is_recession, rot=90)\n",
    "plt.show()"
   ]
  },
  {
   "cell_type": "code",
   "execution_count": 3,
   "id": "93916d74",
   "metadata": {},
   "outputs": [
    {
     "data": {
      "text/html": [
       "<div>\n",
       "<style scoped>\n",
       "    .dataframe tbody tr th:only-of-type {\n",
       "        vertical-align: middle;\n",
       "    }\n",
       "\n",
       "    .dataframe tbody tr th {\n",
       "        vertical-align: top;\n",
       "    }\n",
       "\n",
       "    .dataframe thead th {\n",
       "        text-align: right;\n",
       "    }\n",
       "</style>\n",
       "<table border=\"1\" class=\"dataframe\">\n",
       "  <thead>\n",
       "    <tr style=\"text-align: right;\">\n",
       "      <th></th>\n",
       "      <th>date</th>\n",
       "      <th>country</th>\n",
       "      <th>gdp</th>\n",
       "      <th>series_code</th>\n",
       "    </tr>\n",
       "  </thead>\n",
       "  <tbody>\n",
       "    <tr>\n",
       "      <th>0</th>\n",
       "      <td>1990-01-01</td>\n",
       "      <td>Australia</td>\n",
       "      <td>158051.132</td>\n",
       "      <td>NYGDPMKTPSAKD</td>\n",
       "    </tr>\n",
       "    <tr>\n",
       "      <th>1</th>\n",
       "      <td>1990-04-01</td>\n",
       "      <td>Australia</td>\n",
       "      <td>158263.582</td>\n",
       "      <td>NYGDPMKTPSAKD</td>\n",
       "    </tr>\n",
       "    <tr>\n",
       "      <th>2</th>\n",
       "      <td>1990-07-01</td>\n",
       "      <td>Australia</td>\n",
       "      <td>157329.279</td>\n",
       "      <td>NYGDPMKTPSAKD</td>\n",
       "    </tr>\n",
       "    <tr>\n",
       "      <th>3</th>\n",
       "      <td>1990-09-01</td>\n",
       "      <td>Australia</td>\n",
       "      <td>158240.678</td>\n",
       "      <td>NYGDPMKTPSAKD</td>\n",
       "    </tr>\n",
       "    <tr>\n",
       "      <th>4</th>\n",
       "      <td>1991-01-01</td>\n",
       "      <td>Australia</td>\n",
       "      <td>156195.954</td>\n",
       "      <td>NYGDPMKTPSAKD</td>\n",
       "    </tr>\n",
       "  </tbody>\n",
       "</table>\n",
       "</div>"
      ],
      "text/plain": [
       "        date    country         gdp    series_code\n",
       "0 1990-01-01  Australia  158051.132  NYGDPMKTPSAKD\n",
       "1 1990-04-01  Australia  158263.582  NYGDPMKTPSAKD\n",
       "2 1990-07-01  Australia  157329.279  NYGDPMKTPSAKD\n",
       "3 1990-09-01  Australia  158240.678  NYGDPMKTPSAKD\n",
       "4 1991-01-01  Australia  156195.954  NYGDPMKTPSAKD"
      ]
     },
     "execution_count": 3,
     "metadata": {},
     "output_type": "execute_result"
    }
   ],
   "source": [
    "# Merge gdp and pop on date and country with fill\n",
    "import pandas as pd\n",
    "gdp = pd.read_csv('https://docs.google.com/spreadsheets/d/e/2PACX-1vSFa6OoGruMG6TlJT9Hn5UYuABJ-o6nvwbXU5EkSSOHq0r2zO0ZP84KFfOZcdKIzeSuNwF-6MsgGzX_/pub?gid=1348453958&single=true&output=csv')\n",
    "gdp.head()\n",
    "gdp[\"date\"] = pd.to_datetime(gdp[\"date\"])\n",
    "gdp.head()\n",
    "\n",
    "\n",
    "# gdp_pop =pd.merge_ordered(gdp,pop,on = ['country','date'],fill_method='ffill')\n",
    "# print(gdp_pop.head())\n",
    "# print()\n",
    "# print(gdp.head())\n",
    "# print()\n",
    "# print(pop.head())\n",
    "\n",
    "# # Add a column named gdp_per_capita to gdp_pop that divides the gdp by pop\n",
    "# gdp_pop['gdp_per_capital'] = gdp_pop['gdp']/gdp_pop['pop']\n",
    "# gdp_pop.head()\n",
    "\n",
    "# # Select dates equal to or greater than 1991-01-01\n",
    "# recent_gdp_pop = gdp_pivot.query('date >= \"1991-01-01\"')\n",
    "\n",
    "# # Plot recent_gdp_pop\n",
    "# recent_gdp_pop.plot(rot=90)\n",
    "# plt.show()"
   ]
  },
  {
   "cell_type": "code",
   "execution_count": 7,
   "id": "40590d75",
   "metadata": {},
   "outputs": [
    {
     "name": "stdout",
     "output_type": "stream",
     "text": [
      "   year  jan  feb  mar  apr  may  jun  jul  aug  sep  oct  nov  dec\n",
      "0  2010  9.8  9.8  9.9  9.9  9.6  9.4  9.4  9.5  9.5  9.4  9.8  9.3\n",
      "1  2011  9.1  9.0  9.0  9.1  9.0  9.1  9.0  9.0  9.0  8.8  8.6  8.5\n",
      "2  2012  8.3  8.3  8.2  8.2  8.2  8.2  8.2  8.1  7.8  7.8  7.7  7.9\n",
      "3  2013  8.0  7.7  7.5  7.6  7.5  7.5  7.3  7.2  7.2  7.2  6.9  6.7\n",
      "4  2014  6.6  6.7  6.7  6.2  6.3  6.1  6.2  6.1  5.9  5.7  5.8  5.6\n",
      "\n",
      "(11, 13)\n",
      "Index(['year', 'jan', 'feb', 'mar', 'apr', 'may', 'jun', 'jul', 'aug', 'sep',\n",
      "       'oct', 'nov', 'dec'],\n",
      "      dtype='object')\n"
     ]
    }
   ],
   "source": [
    "import pandas as pd\n",
    "ur_wide = pd.read_csv('https://docs.google.com/spreadsheets/d/e/2PACX-1vSFa6OoGruMG6TlJT9Hn5UYuABJ-o6nvwbXU5EkSSOHq0r2zO0ZP84KFfOZcdKIzeSuNwF-6MsgGzX_/pub?gid=854767693&single=true&output=csv')\n",
    "print(ur_wide.head()) # obtaining few rows from the data\n",
    "print()\n",
    "print(ur_wide.shape) # getting the data shape\n",
    "print(ur_wide.columns)\n",
    "\n"
   ]
  },
  {
   "cell_type": "code",
   "execution_count": 9,
   "id": "a7d6406c",
   "metadata": {},
   "outputs": [
    {
     "name": "stdout",
     "output_type": "stream",
     "text": [
      "   year month  unempl_rate\n",
      "0  2010   jan          9.8\n",
      "1  2011   jan          9.1\n",
      "2  2012   jan          8.3\n",
      "3  2013   jan          8.0\n",
      "4  2014   jan          6.6\n",
      "year           0\n",
      "month          0\n",
      "unempl_rate    9\n",
      "dtype: int64\n"
     ]
    }
   ],
   "source": [
    "# Unpivot everything besides the year column\n",
    "ur_tall = ur_wide.melt(id_vars=['year'], var_name='month', value_name='unempl_rate')\n",
    "print(ur_tall.head())\n",
    "print(ur_tall.isnull().sum()) # getting the missing column"
   ]
  },
  {
   "cell_type": "code",
   "execution_count": 13,
   "id": "29ab821d",
   "metadata": {},
   "outputs": [
    {
     "name": "stdout",
     "output_type": "stream",
     "text": [
      "   year month unempl_rate\n",
      "0  2010   jan         9.8\n",
      "1  2011   jan         9.1\n",
      "2  2012   jan         8.3\n",
      "3  2013   jan         8.0\n",
      "4  2014   jan         6.6\n",
      "(123, 3)\n",
      "   year month unempl_rate\n",
      "0  2010   jan         9.8\n",
      "1  2011   jan         9.1\n",
      "2  2012   jan         8.3\n",
      "3  2013   jan         8.0\n",
      "4  2014   jan         6.6\n",
      "(123, 3)\n",
      "<class 'pandas.core.frame.DataFrame'>\n"
     ]
    }
   ],
   "source": [
    "ur_tall = ur_tall[ur_tall['unempl_rate'] != \"nan\"] # checking for column without missing value\n",
    "print(ur_tall.head())\n",
    "print(ur_tall.shape)\n",
    "ur_tall = ur_tall.dropna()\n",
    "print(ur_tall.head())\n",
    "print(ur_tall.shape)\n",
    "print(type(ur_tall)) # checking the data type\n"
   ]
  },
  {
   "cell_type": "code",
   "execution_count": 18,
   "id": "20775e5d",
   "metadata": {},
   "outputs": [],
   "source": [
    " ur_tall = ur_tall.astype(str)\n",
    "print(ur_tall.head())\n",
    "print(type(ur_tall))"
   ]
  },
  {
   "cell_type": "code",
   "execution_count": 20,
   "id": "77dc42e6",
   "metadata": {},
   "outputs": [
    {
     "name": "stdout",
     "output_type": "stream",
     "text": [
      "   year month unempl_rate       date\n",
      "0  2010   jan         9.8 2010-01-01\n",
      "1  2011   jan         9.1 2011-01-01\n",
      "2  2012   jan         8.3 2012-01-01\n",
      "3  2013   jan         8.0 2013-01-01\n",
      "4  2014   jan         6.6 2014-01-01\n"
     ]
    }
   ],
   "source": [
    "# Create a date column using the month and year columns of ur_tall\n",
    "ur_tall['date'] = pd.to_datetime(ur_tall['month'] + '-' + ur_tall['year'])\n",
    "print(ur_tall.head())"
   ]
  },
  {
   "cell_type": "code",
   "execution_count": null,
   "id": "626dba26",
   "metadata": {},
   "outputs": [],
   "source": []
  },
  {
   "cell_type": "code",
   "execution_count": 21,
   "id": "07de4256",
   "metadata": {},
   "outputs": [
    {
     "name": "stdout",
     "output_type": "stream",
     "text": [
      "    year month unempl_rate       date\n",
      "0   2010   jan         9.8 2010-01-01\n",
      "11  2010   feb         9.8 2010-02-01\n",
      "22  2010   mar         9.9 2010-03-01\n",
      "33  2010   apr         9.9 2010-04-01\n",
      "44  2010   may         9.6 2010-05-01\n"
     ]
    }
   ],
   "source": [
    "# Sort ur_tall by date in ascending order\n",
    "ur_sorted = ur_tall.sort_values('date')\n",
    "print(ur_sorted.head())"
   ]
  },
  {
   "cell_type": "code",
   "execution_count": 22,
   "id": "6a151a9b",
   "metadata": {},
   "outputs": [
    {
     "name": "stdout",
     "output_type": "stream",
     "text": [
      "    year month  unempl_rate       date\n",
      "0   2010   jan          9.8 2010-01-01\n",
      "11  2010   feb          9.8 2010-02-01\n",
      "22  2010   mar          9.9 2010-03-01\n",
      "33  2010   apr          9.9 2010-04-01\n",
      "44  2010   may          9.6 2010-05-01\n"
     ]
    }
   ],
   "source": [
    "ur_sorted['unempl_rate'] = pd.to_numeric(ur_sorted['unempl_rate'])\n",
    "print(ur_sorted.head())"
   ]
  },
  {
   "cell_type": "code",
   "execution_count": 27,
   "id": "81847b50",
   "metadata": {},
   "outputs": [
    {
     "data": {
      "image/png": "[encoded data removed]",
      "text/plain": [
       "<Figure size 432x288 with 1 Axes>"
      ]
     },
     "metadata": {
      "needs_background": "light"
     },
     "output_type": "display_data"
    }
   ],
   "source": [
    "import matplotlib.pyplot as plt\n",
    "# Plot the unempl_rate by date\n",
    "ur_sorted.plot(x='date', y='unempl_rate')\n",
    "plt.show()\n"
   ]
  },
  {
   "cell_type": "code",
   "execution_count": 28,
   "id": "57a23ba6",
   "metadata": {},
   "outputs": [
    {
     "data": {
      "text/html": [
       "<div>\n",
       "<style scoped>\n",
       "    .dataframe tbody tr th:only-of-type {\n",
       "        vertical-align: middle;\n",
       "    }\n",
       "\n",
       "    .dataframe tbody tr th {\n",
       "        vertical-align: top;\n",
       "    }\n",
       "\n",
       "    .dataframe thead th {\n",
       "        text-align: right;\n",
       "    }\n",
       "</style>\n",
       "<table border=\"1\" class=\"dataframe\">\n",
       "  <thead>\n",
       "    <tr style=\"text-align: right;\">\n",
       "      <th></th>\n",
       "      <th>metric</th>\n",
       "      <th>2007-02-01</th>\n",
       "      <th>2007-03-01</th>\n",
       "      <th>2007-04-01</th>\n",
       "      <th>2007-05-01</th>\n",
       "      <th>2007-06-01</th>\n",
       "      <th>2007-07-01</th>\n",
       "      <th>2007-08-01</th>\n",
       "      <th>2007-09-01</th>\n",
       "      <th>2007-10-01</th>\n",
       "      <th>...</th>\n",
       "      <th>2009-03-01</th>\n",
       "      <th>2009-04-01</th>\n",
       "      <th>2009-05-01</th>\n",
       "      <th>2009-06-01</th>\n",
       "      <th>2009-07-01</th>\n",
       "      <th>2009-08-01</th>\n",
       "      <th>2009-09-01</th>\n",
       "      <th>2009-10-01</th>\n",
       "      <th>2009-11-01</th>\n",
       "      <th>2009-12-01</th>\n",
       "    </tr>\n",
       "  </thead>\n",
       "  <tbody>\n",
       "    <tr>\n",
       "      <th>0</th>\n",
       "      <td>open</td>\n",
       "      <td>0.033</td>\n",
       "      <td>-0.060</td>\n",
       "      <td>0.025</td>\n",
       "      <td>-0.004</td>\n",
       "      <td>0.061</td>\n",
       "      <td>0.027</td>\n",
       "      <td>-0.059</td>\n",
       "      <td>-0.046</td>\n",
       "      <td>0.014</td>\n",
       "      <td>...</td>\n",
       "      <td>0.046</td>\n",
       "      <td>-0.103</td>\n",
       "      <td>0.191</td>\n",
       "      <td>0.107</td>\n",
       "      <td>0.024</td>\n",
       "      <td>-0.007</td>\n",
       "      <td>-0.047</td>\n",
       "      <td>-0.032</td>\n",
       "      <td>0.034</td>\n",
       "      <td>-0.051</td>\n",
       "    </tr>\n",
       "    <tr>\n",
       "      <th>1</th>\n",
       "      <td>high</td>\n",
       "      <td>-0.007</td>\n",
       "      <td>-0.041</td>\n",
       "      <td>0.022</td>\n",
       "      <td>0.031</td>\n",
       "      <td>0.080</td>\n",
       "      <td>-0.022</td>\n",
       "      <td>-0.060</td>\n",
       "      <td>-0.038</td>\n",
       "      <td>0.004</td>\n",
       "      <td>...</td>\n",
       "      <td>-0.004</td>\n",
       "      <td>0.041</td>\n",
       "      <td>0.187</td>\n",
       "      <td>0.068</td>\n",
       "      <td>-0.062</td>\n",
       "      <td>0.032</td>\n",
       "      <td>-0.090</td>\n",
       "      <td>0.012</td>\n",
       "      <td>-0.004</td>\n",
       "      <td>0.099</td>\n",
       "    </tr>\n",
       "    <tr>\n",
       "      <th>2</th>\n",
       "      <td>low</td>\n",
       "      <td>-0.016</td>\n",
       "      <td>-0.008</td>\n",
       "      <td>0.031</td>\n",
       "      <td>-0.002</td>\n",
       "      <td>0.059</td>\n",
       "      <td>-0.027</td>\n",
       "      <td>-0.052</td>\n",
       "      <td>-0.043</td>\n",
       "      <td>0.003</td>\n",
       "      <td>...</td>\n",
       "      <td>-0.062</td>\n",
       "      <td>0.069</td>\n",
       "      <td>0.168</td>\n",
       "      <td>0.123</td>\n",
       "      <td>-0.055</td>\n",
       "      <td>0.040</td>\n",
       "      <td>-0.036</td>\n",
       "      <td>-0.051</td>\n",
       "      <td>0.030</td>\n",
       "      <td>0.007</td>\n",
       "    </tr>\n",
       "    <tr>\n",
       "      <th>3</th>\n",
       "      <td>close</td>\n",
       "      <td>-0.057</td>\n",
       "      <td>0.022</td>\n",
       "      <td>-0.004</td>\n",
       "      <td>0.056</td>\n",
       "      <td>0.029</td>\n",
       "      <td>-0.052</td>\n",
       "      <td>-0.049</td>\n",
       "      <td>0.009</td>\n",
       "      <td>-0.023</td>\n",
       "      <td>...</td>\n",
       "      <td>-0.117</td>\n",
       "      <td>0.164</td>\n",
       "      <td>0.109</td>\n",
       "      <td>0.017</td>\n",
       "      <td>-0.006</td>\n",
       "      <td>-0.029</td>\n",
       "      <td>-0.028</td>\n",
       "      <td>0.026</td>\n",
       "      <td>-0.056</td>\n",
       "      <td>0.201</td>\n",
       "    </tr>\n",
       "  </tbody>\n",
       "</table>\n",
       "<p>4 rows × 36 columns</p>\n",
       "</div>"
      ],
      "text/plain": [
       "  metric  2007-02-01  2007-03-01  2007-04-01  2007-05-01  2007-06-01  \\\n",
       "0   open       0.033      -0.060       0.025      -0.004       0.061   \n",
       "1   high      -0.007      -0.041       0.022       0.031       0.080   \n",
       "2    low      -0.016      -0.008       0.031      -0.002       0.059   \n",
       "3  close      -0.057       0.022      -0.004       0.056       0.029   \n",
       "\n",
       "   2007-07-01  2007-08-01  2007-09-01  2007-10-01  ...  2009-03-01  \\\n",
       "0       0.027      -0.059      -0.046       0.014  ...       0.046   \n",
       "1      -0.022      -0.060      -0.038       0.004  ...      -0.004   \n",
       "2      -0.027      -0.052      -0.043       0.003  ...      -0.062   \n",
       "3      -0.052      -0.049       0.009      -0.023  ...      -0.117   \n",
       "\n",
       "   2009-04-01  2009-05-01  2009-06-01  2009-07-01  2009-08-01  2009-09-01  \\\n",
       "0      -0.103       0.191       0.107       0.024      -0.007      -0.047   \n",
       "1       0.041       0.187       0.068      -0.062       0.032      -0.090   \n",
       "2       0.069       0.168       0.123      -0.055       0.040      -0.036   \n",
       "3       0.164       0.109       0.017      -0.006      -0.029      -0.028   \n",
       "\n",
       "   2009-10-01  2009-11-01  2009-12-01  \n",
       "0      -0.032       0.034      -0.051  \n",
       "1       0.012      -0.004       0.099  \n",
       "2      -0.051       0.030       0.007  \n",
       "3       0.026      -0.056       0.201  \n",
       "\n",
       "[4 rows x 36 columns]"
      ]
     },
     "execution_count": 28,
     "metadata": {},
     "output_type": "execute_result"
    }
   ],
   "source": [
    "ten_yr = pd.read_csv('https://docs.google.com/spreadsheets/d/e/2PACX-1vSFa6OoGruMG6TlJT9Hn5UYuABJ-o6nvwbXU5EkSSOHq0r2zO0ZP84KFfOZcdKIzeSuNwF-6MsgGzX_/pub?gid=1113683844&single=true&output=csv')\n",
    "ten_yr.head()"
   ]
  },
  {
   "cell_type": "code",
   "execution_count": 29,
   "id": "15b5d9a6",
   "metadata": {},
   "outputs": [
    {
     "data": {
      "text/html": [
       "<div>\n",
       "<style scoped>\n",
       "    .dataframe tbody tr th:only-of-type {\n",
       "        vertical-align: middle;\n",
       "    }\n",
       "\n",
       "    .dataframe tbody tr th {\n",
       "        vertical-align: top;\n",
       "    }\n",
       "\n",
       "    .dataframe thead th {\n",
       "        text-align: right;\n",
       "    }\n",
       "</style>\n",
       "<table border=\"1\" class=\"dataframe\">\n",
       "  <thead>\n",
       "    <tr style=\"text-align: right;\">\n",
       "      <th></th>\n",
       "      <th>date</th>\n",
       "      <th>close</th>\n",
       "    </tr>\n",
       "  </thead>\n",
       "  <tbody>\n",
       "    <tr>\n",
       "      <th>0</th>\n",
       "      <td>2007-02-01</td>\n",
       "      <td>0.005094</td>\n",
       "    </tr>\n",
       "    <tr>\n",
       "      <th>1</th>\n",
       "      <td>2007-03-01</td>\n",
       "      <td>-0.026140</td>\n",
       "    </tr>\n",
       "    <tr>\n",
       "      <th>2</th>\n",
       "      <td>2007-04-01</td>\n",
       "      <td>0.048530</td>\n",
       "    </tr>\n",
       "    <tr>\n",
       "      <th>3</th>\n",
       "      <td>2007-05-01</td>\n",
       "      <td>0.052010</td>\n",
       "    </tr>\n",
       "    <tr>\n",
       "      <th>4</th>\n",
       "      <td>2007-06-01</td>\n",
       "      <td>-0.016070</td>\n",
       "    </tr>\n",
       "  </tbody>\n",
       "</table>\n",
       "</div>"
      ],
      "text/plain": [
       "         date     close\n",
       "0  2007-02-01  0.005094\n",
       "1  2007-03-01 -0.026140\n",
       "2  2007-04-01  0.048530\n",
       "3  2007-05-01  0.052010\n",
       "4  2007-06-01 -0.016070"
      ]
     },
     "execution_count": 29,
     "metadata": {},
     "output_type": "execute_result"
    }
   ],
   "source": [
    "dji = pd.read_csv('https://docs.google.com/spreadsheets/d/e/2PACX-1vSFa6OoGruMG6TlJT9Hn5UYuABJ-o6nvwbXU5EkSSOHq0r2zO0ZP84KFfOZcdKIzeSuNwF-6MsgGzX_/pub?gid=648434883&single=true&output=csv')\n",
    "dji.head()"
   ]
  },
  {
   "cell_type": "code",
   "execution_count": 30,
   "id": "fdfcde0a",
   "metadata": {},
   "outputs": [
    {
     "data": {
      "text/html": [
       "<div>\n",
       "<style scoped>\n",
       "    .dataframe tbody tr th:only-of-type {\n",
       "        vertical-align: middle;\n",
       "    }\n",
       "\n",
       "    .dataframe tbody tr th {\n",
       "        vertical-align: top;\n",
       "    }\n",
       "\n",
       "    .dataframe thead th {\n",
       "        text-align: right;\n",
       "    }\n",
       "</style>\n",
       "<table border=\"1\" class=\"dataframe\">\n",
       "  <thead>\n",
       "    <tr style=\"text-align: right;\">\n",
       "      <th></th>\n",
       "      <th>metric</th>\n",
       "      <th>date</th>\n",
       "      <th>close</th>\n",
       "    </tr>\n",
       "  </thead>\n",
       "  <tbody>\n",
       "    <tr>\n",
       "      <th>0</th>\n",
       "      <td>open</td>\n",
       "      <td>2007-02-01</td>\n",
       "      <td>0.033</td>\n",
       "    </tr>\n",
       "    <tr>\n",
       "      <th>1</th>\n",
       "      <td>high</td>\n",
       "      <td>2007-02-01</td>\n",
       "      <td>-0.007</td>\n",
       "    </tr>\n",
       "    <tr>\n",
       "      <th>2</th>\n",
       "      <td>low</td>\n",
       "      <td>2007-02-01</td>\n",
       "      <td>-0.016</td>\n",
       "    </tr>\n",
       "    <tr>\n",
       "      <th>3</th>\n",
       "      <td>close</td>\n",
       "      <td>2007-02-01</td>\n",
       "      <td>-0.057</td>\n",
       "    </tr>\n",
       "    <tr>\n",
       "      <th>4</th>\n",
       "      <td>open</td>\n",
       "      <td>2007-03-01</td>\n",
       "      <td>-0.060</td>\n",
       "    </tr>\n",
       "  </tbody>\n",
       "</table>\n",
       "</div>"
      ],
      "text/plain": [
       "  metric        date  close\n",
       "0   open  2007-02-01  0.033\n",
       "1   high  2007-02-01 -0.007\n",
       "2    low  2007-02-01 -0.016\n",
       "3  close  2007-02-01 -0.057\n",
       "4   open  2007-03-01 -0.060"
      ]
     },
     "execution_count": 30,
     "metadata": {},
     "output_type": "execute_result"
    }
   ],
   "source": [
    "# Use melt on ten_yr, unpivot everything besides the metric column\n",
    "bond_perc = ten_yr.melt(id_vars='metric', var_name='date', value_name='close')\n",
    "bond_perc.head()"
   ]
  },
  {
   "cell_type": "code",
   "execution_count": 31,
   "id": "8ab102d4",
   "metadata": {},
   "outputs": [
    {
     "data": {
      "text/html": [
       "<div>\n",
       "<style scoped>\n",
       "    .dataframe tbody tr th:only-of-type {\n",
       "        vertical-align: middle;\n",
       "    }\n",
       "\n",
       "    .dataframe tbody tr th {\n",
       "        vertical-align: top;\n",
       "    }\n",
       "\n",
       "    .dataframe thead th {\n",
       "        text-align: right;\n",
       "    }\n",
       "</style>\n",
       "<table border=\"1\" class=\"dataframe\">\n",
       "  <thead>\n",
       "    <tr style=\"text-align: right;\">\n",
       "      <th></th>\n",
       "      <th>metric</th>\n",
       "      <th>date</th>\n",
       "      <th>close</th>\n",
       "    </tr>\n",
       "  </thead>\n",
       "  <tbody>\n",
       "    <tr>\n",
       "      <th>0</th>\n",
       "      <td>open</td>\n",
       "      <td>2007-02-01</td>\n",
       "      <td>0.033</td>\n",
       "    </tr>\n",
       "    <tr>\n",
       "      <th>1</th>\n",
       "      <td>high</td>\n",
       "      <td>2007-02-01</td>\n",
       "      <td>-0.007</td>\n",
       "    </tr>\n",
       "    <tr>\n",
       "      <th>2</th>\n",
       "      <td>low</td>\n",
       "      <td>2007-02-01</td>\n",
       "      <td>-0.016</td>\n",
       "    </tr>\n",
       "    <tr>\n",
       "      <th>3</th>\n",
       "      <td>close</td>\n",
       "      <td>2007-02-01</td>\n",
       "      <td>-0.057</td>\n",
       "    </tr>\n",
       "    <tr>\n",
       "      <th>4</th>\n",
       "      <td>open</td>\n",
       "      <td>2007-03-01</td>\n",
       "      <td>-0.060</td>\n",
       "    </tr>\n",
       "  </tbody>\n",
       "</table>\n",
       "</div>"
      ],
      "text/plain": [
       "  metric        date  close\n",
       "0   open  2007-02-01  0.033\n",
       "1   high  2007-02-01 -0.007\n",
       "2    low  2007-02-01 -0.016\n",
       "3  close  2007-02-01 -0.057\n",
       "4   open  2007-03-01 -0.060"
      ]
     },
     "execution_count": 31,
     "metadata": {},
     "output_type": "execute_result"
    }
   ],
   "source": [
    "bond_perc = ten_yr.melt(id_vars='metric',var_name ='date',value_name='close')\n",
    "bond_perc.head()\n"
   ]
  },
  {
   "cell_type": "code",
   "execution_count": 34,
   "id": "bb8e22e2",
   "metadata": {},
   "outputs": [
    {
     "data": {
      "text/html": [
       "<div>\n",
       "<style scoped>\n",
       "    .dataframe tbody tr th:only-of-type {\n",
       "        vertical-align: middle;\n",
       "    }\n",
       "\n",
       "    .dataframe tbody tr th {\n",
       "        vertical-align: top;\n",
       "    }\n",
       "\n",
       "    .dataframe thead th {\n",
       "        text-align: right;\n",
       "    }\n",
       "</style>\n",
       "<table border=\"1\" class=\"dataframe\">\n",
       "  <thead>\n",
       "    <tr style=\"text-align: right;\">\n",
       "      <th></th>\n",
       "      <th>metric</th>\n",
       "      <th>date</th>\n",
       "      <th>close</th>\n",
       "    </tr>\n",
       "  </thead>\n",
       "  <tbody>\n",
       "    <tr>\n",
       "      <th>3</th>\n",
       "      <td>close</td>\n",
       "      <td>2007-02-01</td>\n",
       "      <td>-0.057</td>\n",
       "    </tr>\n",
       "    <tr>\n",
       "      <th>7</th>\n",
       "      <td>close</td>\n",
       "      <td>2007-03-01</td>\n",
       "      <td>0.022</td>\n",
       "    </tr>\n",
       "    <tr>\n",
       "      <th>11</th>\n",
       "      <td>close</td>\n",
       "      <td>2007-04-01</td>\n",
       "      <td>-0.004</td>\n",
       "    </tr>\n",
       "    <tr>\n",
       "      <th>15</th>\n",
       "      <td>close</td>\n",
       "      <td>2007-05-01</td>\n",
       "      <td>0.056</td>\n",
       "    </tr>\n",
       "    <tr>\n",
       "      <th>19</th>\n",
       "      <td>close</td>\n",
       "      <td>2007-06-01</td>\n",
       "      <td>0.029</td>\n",
       "    </tr>\n",
       "  </tbody>\n",
       "</table>\n",
       "</div>"
      ],
      "text/plain": [
       "   metric        date  close\n",
       "3   close  2007-02-01 -0.057\n",
       "7   close  2007-03-01  0.022\n",
       "11  close  2007-04-01 -0.004\n",
       "15  close  2007-05-01  0.056\n",
       "19  close  2007-06-01  0.029"
      ]
     },
     "execution_count": 34,
     "metadata": {},
     "output_type": "execute_result"
    }
   ],
   "source": [
    "bond_perc_close = bond_perc.query('metric == \"close\"')\n",
    "bond_perc_close.head()\n"
   ]
  },
  {
   "cell_type": "code",
   "execution_count": 35,
   "id": "bc5aa067",
   "metadata": {},
   "outputs": [
    {
     "data": {
      "text/html": [
       "<div>\n",
       "<style scoped>\n",
       "    .dataframe tbody tr th:only-of-type {\n",
       "        vertical-align: middle;\n",
       "    }\n",
       "\n",
       "    .dataframe tbody tr th {\n",
       "        vertical-align: top;\n",
       "    }\n",
       "\n",
       "    .dataframe thead th {\n",
       "        text-align: right;\n",
       "    }\n",
       "</style>\n",
       "<table border=\"1\" class=\"dataframe\">\n",
       "  <thead>\n",
       "    <tr style=\"text-align: right;\">\n",
       "      <th></th>\n",
       "      <th>date</th>\n",
       "      <th>close_x</th>\n",
       "      <th>metric</th>\n",
       "      <th>close_y</th>\n",
       "    </tr>\n",
       "  </thead>\n",
       "  <tbody>\n",
       "    <tr>\n",
       "      <th>0</th>\n",
       "      <td>2007-02-01</td>\n",
       "      <td>0.005094</td>\n",
       "      <td>close</td>\n",
       "      <td>-0.057</td>\n",
       "    </tr>\n",
       "    <tr>\n",
       "      <th>1</th>\n",
       "      <td>2007-03-01</td>\n",
       "      <td>-0.026140</td>\n",
       "      <td>close</td>\n",
       "      <td>0.022</td>\n",
       "    </tr>\n",
       "    <tr>\n",
       "      <th>2</th>\n",
       "      <td>2007-04-01</td>\n",
       "      <td>0.048530</td>\n",
       "      <td>close</td>\n",
       "      <td>-0.004</td>\n",
       "    </tr>\n",
       "    <tr>\n",
       "      <th>3</th>\n",
       "      <td>2007-05-01</td>\n",
       "      <td>0.052010</td>\n",
       "      <td>close</td>\n",
       "      <td>0.056</td>\n",
       "    </tr>\n",
       "    <tr>\n",
       "      <th>4</th>\n",
       "      <td>2007-06-01</td>\n",
       "      <td>-0.016070</td>\n",
       "      <td>close</td>\n",
       "      <td>0.029</td>\n",
       "    </tr>\n",
       "  </tbody>\n",
       "</table>\n",
       "</div>"
      ],
      "text/plain": [
       "         date   close_x metric  close_y\n",
       "0  2007-02-01  0.005094  close   -0.057\n",
       "1  2007-03-01 -0.026140  close    0.022\n",
       "2  2007-04-01  0.048530  close   -0.004\n",
       "3  2007-05-01  0.052010  close    0.056\n",
       "4  2007-06-01 -0.016070  close    0.029"
      ]
     },
     "execution_count": 35,
     "metadata": {},
     "output_type": "execute_result"
    }
   ],
   "source": [
    "# Merge (ordered) dji and bond_perc_close on date with an inner join\n",
    "dow_bond = pd.merge_ordered(dji,bond_perc_close,on = 'date',how='inner')\n",
    "dow_bond.head()\n"
   ]
  },
  {
   "cell_type": "code",
   "execution_count": 36,
   "id": "b9100ca5",
   "metadata": {},
   "outputs": [
    {
     "data": {
      "text/html": [
       "<div>\n",
       "<style scoped>\n",
       "    .dataframe tbody tr th:only-of-type {\n",
       "        vertical-align: middle;\n",
       "    }\n",
       "\n",
       "    .dataframe tbody tr th {\n",
       "        vertical-align: top;\n",
       "    }\n",
       "\n",
       "    .dataframe thead th {\n",
       "        text-align: right;\n",
       "    }\n",
       "</style>\n",
       "<table border=\"1\" class=\"dataframe\">\n",
       "  <thead>\n",
       "    <tr style=\"text-align: right;\">\n",
       "      <th></th>\n",
       "      <th>date</th>\n",
       "      <th>close_dow</th>\n",
       "      <th>metric</th>\n",
       "      <th>close_bond</th>\n",
       "    </tr>\n",
       "  </thead>\n",
       "  <tbody>\n",
       "    <tr>\n",
       "      <th>0</th>\n",
       "      <td>2007-02-01</td>\n",
       "      <td>0.005094</td>\n",
       "      <td>close</td>\n",
       "      <td>-0.057</td>\n",
       "    </tr>\n",
       "    <tr>\n",
       "      <th>1</th>\n",
       "      <td>2007-03-01</td>\n",
       "      <td>-0.026140</td>\n",
       "      <td>close</td>\n",
       "      <td>0.022</td>\n",
       "    </tr>\n",
       "    <tr>\n",
       "      <th>2</th>\n",
       "      <td>2007-04-01</td>\n",
       "      <td>0.048530</td>\n",
       "      <td>close</td>\n",
       "      <td>-0.004</td>\n",
       "    </tr>\n",
       "    <tr>\n",
       "      <th>3</th>\n",
       "      <td>2007-05-01</td>\n",
       "      <td>0.052010</td>\n",
       "      <td>close</td>\n",
       "      <td>0.056</td>\n",
       "    </tr>\n",
       "    <tr>\n",
       "      <th>4</th>\n",
       "      <td>2007-06-01</td>\n",
       "      <td>-0.016070</td>\n",
       "      <td>close</td>\n",
       "      <td>0.029</td>\n",
       "    </tr>\n",
       "  </tbody>\n",
       "</table>\n",
       "</div>"
      ],
      "text/plain": [
       "         date  close_dow metric  close_bond\n",
       "0  2007-02-01   0.005094  close      -0.057\n",
       "1  2007-03-01  -0.026140  close       0.022\n",
       "2  2007-04-01   0.048530  close      -0.004\n",
       "3  2007-05-01   0.052010  close       0.056\n",
       "4  2007-06-01  -0.016070  close       0.029"
      ]
     },
     "execution_count": 36,
     "metadata": {},
     "output_type": "execute_result"
    }
   ],
   "source": [
    "dow_bond = pd.merge_ordered(dji,bond_perc_close,on = 'date',how='inner',suffixes = ('_dow','_bond'))\n",
    "dow_bond.head()\n"
   ]
  },
  {
   "cell_type": "code",
   "execution_count": 38,
   "id": "192fb0ee",
   "metadata": {},
   "outputs": [
    {
     "data": {
      "image/png": "[encoded data removed]",
      "text/plain": [
       "<Figure size 432x288 with 1 Axes>"
      ]
     },
     "metadata": {
      "needs_background": "light"
     },
     "output_type": "display_data"
    }
   ],
   "source": [
    "dow_bond.plot(y=['close_dow','close_bond'], x='date', rot=90)\n",
    "plt.show()"
   ]
  },
  {
   "cell_type": "code",
   "execution_count": null,
   "id": "bf9d91dd",
   "metadata": {},
   "outputs": [],
   "source": []
  }
 ],
 "metadata": {
  "kernelspec": {
   "display_name": "Python 3 (ipykernel)",
   "language": "python",
   "name": "python3"
  },
  "language_info": {
   "codemirror_mode": {
    "name": "ipython",
    "version": 3
   },
   "file_extension": ".py",
   "mimetype": "text/x-python",
   "name": "python",
   "nbconvert_exporter": "python",
   "pygments_lexer": "ipython3",
   "version": "3.9.7"
  }
 },
 "nbformat": 4,
 "nbformat_minor": 5
}
