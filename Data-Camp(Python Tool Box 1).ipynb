{
 "cells": [
  {
   "cell_type": "code",
   "execution_count": 1,
   "id": "2771c9f5",
   "metadata": {},
   "outputs": [],
   "source": [
    "object1 = \"data\" + \"analysis\" + \"visualization\"\n",
    "object2 = 1 * 3\n",
    "object3 = \"1\" * 3"
   ]
  },
  {
   "cell_type": "code",
   "execution_count": 2,
   "id": "ef610de5",
   "metadata": {},
   "outputs": [
    {
     "name": "stdout",
     "output_type": "stream",
     "text": [
      "dataanalysisvisualization\n",
      "3\n",
      "111\n"
     ]
    }
   ],
   "source": [
    "print(object1)\n",
    "print(object2)\n",
    "print(object3)"
   ]
  },
  {
   "cell_type": "code",
   "execution_count": 3,
   "id": "4e53e094",
   "metadata": {},
   "outputs": [
    {
     "ename": "NameError",
     "evalue": "name 'x' is not defined",
     "output_type": "error",
     "traceback": [
      "\u001b[1;31m---------------------------------------------------------------------------\u001b[0m",
      "\u001b[1;31mNameError\u001b[0m                                 Traceback (most recent call last)",
      "\u001b[1;32mC:\\Users\\SAHEED~1\\AppData\\Local\\Temp/ipykernel_12780/1606160749.py\u001b[0m in \u001b[0;36m<module>\u001b[1;34m\u001b[0m\n\u001b[1;32m----> 1\u001b[1;33m \u001b[0my1\u001b[0m \u001b[1;33m=\u001b[0m \u001b[0mstr\u001b[0m\u001b[1;33m(\u001b[0m\u001b[0mx\u001b[0m\u001b[1;33m)\u001b[0m\u001b[1;33m\u001b[0m\u001b[1;33m\u001b[0m\u001b[0m\n\u001b[0m\u001b[0;32m      2\u001b[0m \u001b[0my2\u001b[0m \u001b[1;33m=\u001b[0m \u001b[0mprint\u001b[0m\u001b[1;33m(\u001b[0m\u001b[0mx\u001b[0m\u001b[1;33m)\u001b[0m\u001b[1;33m\u001b[0m\u001b[1;33m\u001b[0m\u001b[0m\n\u001b[0;32m      3\u001b[0m \u001b[0mtype\u001b[0m\u001b[1;33m(\u001b[0m\u001b[0my1\u001b[0m\u001b[1;33m)\u001b[0m\u001b[1;33m\u001b[0m\u001b[1;33m\u001b[0m\u001b[0m\n",
      "\u001b[1;31mNameError\u001b[0m: name 'x' is not defined"
     ]
    }
   ],
   "source": [
    "y1 = str(x)\n",
    "y2 = print(x)\n",
    "type(y1)"
   ]
  },
  {
   "cell_type": "code",
   "execution_count": null,
   "id": "9ae31a5e",
   "metadata": {},
   "outputs": [],
   "source": [
    "type(y1)"
   ]
  },
  {
   "cell_type": "code",
   "execution_count": null,
   "id": "021b7e62",
   "metadata": {},
   "outputs": [],
   "source": [
    "y1 = str(2)\n",
    "print(y1)"
   ]
  },
  {
   "cell_type": "code",
   "execution_count": null,
   "id": "05a1cbe7",
   "metadata": {},
   "outputs": [],
   "source": [
    "# Define the function shout\n",
    "def shout():\n",
    "    \"\"\"Print a string with three exclamation marks\"\"\"\n",
    "    # Concatenate the strings: shout_word\n",
    "    shout_word = 'congratulations' + '!!!'\n",
    "\n",
    "    # Print shout_word\n",
    "    print(shout_word)\n",
    "\n",
    "# Call shout\n",
    "shout()"
   ]
  },
  {
   "cell_type": "code",
   "execution_count": null,
   "id": "7662d7dd",
   "metadata": {},
   "outputs": [],
   "source": [
    "def mult():\n",
    "    result = 4 * 5\n",
    "    return result"
   ]
  },
  {
   "cell_type": "code",
   "execution_count": null,
   "id": "1a930ce2",
   "metadata": {},
   "outputs": [],
   "source": [
    "mult()"
   ]
  },
  {
   "cell_type": "code",
   "execution_count": null,
   "id": "1a4d3c82",
   "metadata": {},
   "outputs": [],
   "source": [
    "# Define shout with the parameter, word\n",
    "def shout(word):\n",
    "    \"\"\"Print a string with three exclamation marks\"\"\"\n",
    "    # Concatenate the strings: shout_word\n",
    "    shout_word = word + '!!!'\n",
    "\n",
    "    # Print shout_word\n",
    "    print(shout_word)\n",
    "\n",
    "# Call shout with the string 'congratulations'\n",
    "shout('congratulations')"
   ]
  },
  {
   "cell_type": "code",
   "execution_count": null,
   "id": "1da5f3af",
   "metadata": {},
   "outputs": [],
   "source": [
    "def mult(x):\n",
    "    result = x * 3\n",
    "    nest = result ** 3\n",
    "    print(nest)"
   ]
  },
  {
   "cell_type": "code",
   "execution_count": null,
   "id": "9c97df4c",
   "metadata": {},
   "outputs": [],
   "source": [
    "mult(3)"
   ]
  },
  {
   "cell_type": "code",
   "execution_count": null,
   "id": "c831174b",
   "metadata": {},
   "outputs": [],
   "source": [
    "# Define shout with the parameter, word\n",
    "def shout(word):\n",
    "    \"\"\"Return a string with three exclamation marks\"\"\"\n",
    "    # Concatenate the strings: shout_word\n",
    "    shout_word = word + '!!!'\n",
    "\n",
    "    # Replace print with return\n",
    "    return shout_word\n",
    "\n",
    "# Pass 'congratulations' to shout: yell\n",
    "\n",
    "yell = shout('congratulation')\n",
    "# Print yell\n",
    "print(yell)"
   ]
  },
  {
   "cell_type": "code",
   "execution_count": null,
   "id": "bf5ea11f",
   "metadata": {},
   "outputs": [],
   "source": [
    "# Define shout with parameters word1 and word2\n",
    "def shout(word1, word2):\n",
    "    \"\"\"Concatenate strings with three exclamation marks\"\"\"\n",
    "    # Concatenate word1 with '!!!': shout1\n",
    "    shout1 = word1 + '!!!'\n",
    "    \n",
    "    # Concatenate word2 with '!!!': shout2\n",
    "    shout2 = word2 + '!!!'\n",
    "    \n",
    "    # Concatenate shout1 with shout2: new_shout\n",
    "    new_shout = shout1 + shout2\n",
    "\n",
    "    # Return new_shout\n",
    "    return new_shout\n",
    "\n",
    "# Pass 'congratulations' and 'you' to shout(): yell\n",
    "yell = shout('congratulations','you')\n",
    "\n",
    "# Print yell\n",
    "print(yell)"
   ]
  },
  {
   "cell_type": "code",
   "execution_count": null,
   "id": "e9016285",
   "metadata": {},
   "outputs": [],
   "source": [
    "def add(worda, wordb):\n",
    "    first = worda + wordb\n",
    "    second = first * 2\n",
    "    return second"
   ]
  },
  {
   "cell_type": "code",
   "execution_count": null,
   "id": "66bfb2d1",
   "metadata": {},
   "outputs": [],
   "source": [
    "agg = add('congrat bro','you')\n",
    "print(agg)"
   ]
  },
  {
   "cell_type": "code",
   "execution_count": null,
   "id": "6220596c",
   "metadata": {},
   "outputs": [],
   "source": [
    "# Unpack nums into num1, num2, and num3\n",
    "num1,num2,num3 = (3, 4, 6)\n",
    "print(num1, num2, num3)\n",
    "\n",
    "\n",
    "# Construct even_nums\n",
    "\n",
    "even_nums = (2, 4, 6)"
   ]
  },
  {
   "cell_type": "code",
   "execution_count": null,
   "id": "14b53a50",
   "metadata": {},
   "outputs": [],
   "source": [
    "# Define shout_all with parameters word1 and word2\n",
    "def shout_all(word1, word2):\n",
    "    \n",
    "    # Concatenate word1 with '!!!': shout1\n",
    "    \n",
    "    shout1 = word1 + '!!!'\n",
    "    # Concatenate word2 with '!!!': shout2\n",
    "    \n",
    "    shout2 = word2 + '!!!'\n",
    "    # Construct a tuple with shout1 and shout2: shout_words\n",
    "    shout_words = (shout1,shout2)\n",
    "\n",
    "    # Return shout_words\n",
    "    return shout_words\n",
    "\n",
    "# Pass 'congratulations' and 'you' to shout_all(): yell1, yell2\n",
    "yell1, yell2 = shout_all('congratulations','you')\n",
    " \n",
    "\n",
    "# Print yell1 and yell2\n",
    "print(yell1)\n",
    "print(yell2)"
   ]
  },
  {
   "cell_type": "code",
   "execution_count": null,
   "id": "fdecc37a",
   "metadata": {},
   "outputs": [],
   "source": [
    "# Import pandas\n",
    "import pandas as pd\n",
    "\n",
    "\n",
    "# Import Twitter data as DataFrame: df\n",
    "df = pd.read_csv('tweets.csv')\n",
    "print(df.head())\n",
    "\n",
    "# Initialize an empty dictionary: langs_count\n",
    "langs_count = {}\n",
    "col = df['lang']\n",
    "\n",
    "# Extract column from DataFrame: col\n",
    "col = df['lang']\n",
    "\n",
    "# Iterate over lang column in DataFrame\n",
    "for entry in col:\n",
    "\n",
    "    # If the language is in langs_count, add 1 \n",
    "    if entry in langs_count.keys():\n",
    "        langs_count[entry]= langs_count[entry] + 1\n",
    "    # Else add the language to langs_count, set the value to 1\n",
    "    else:\n",
    "        langs_count[entry]= 1\n",
    "\n",
    "# Print the populated dictionary\n",
    "print(langs_count)"
   ]
  },
  {
   "cell_type": "code",
   "execution_count": null,
   "id": "801a0136",
   "metadata": {},
   "outputs": [],
   "source": [
    "tweets_df = pd.read_csv('tweets.csv')\n",
    "\n",
    "\n",
    "# Define count_entries()\n",
    "def  count_entries(tweets_df, col_name):\n",
    "    \"\"\"Return a dictionary with counts of \n",
    "    occurrences as value for each key.\"\"\"\n",
    "\n",
    "    # Initialize an empty dictionary: langs_count\n",
    "    langs_count = {}\n",
    "    \n",
    "    # Extract column from DataFrame: col\n",
    "    col = tweets_df[col_name]\n",
    "    \n",
    "    # Iterate over lang column in DataFrame\n",
    "    for entry in col:\n",
    "\n",
    "        # If the language is in langs_count, add 1\n",
    "        if entry in langs_count.keys():\n",
    "            langs_count[entry] = langs_count[entry] + 1\n",
    "        # Else add the language to langs_count, set the value to 1\n",
    "        else:\n",
    "            langs_count[entry] = 1\n",
    "\n",
    "    # Return the langs_count dictionary\n",
    "    return langs_count\n",
    "\n",
    "# Call count_entries(): result\n",
    "result = count_entries(tweets_df, 'lang')\n",
    "\n",
    "# Print the result\n",
    "print(result)"
   ]
  },
  {
   "cell_type": "code",
   "execution_count": null,
   "id": "b2add177",
   "metadata": {},
   "outputs": [],
   "source": [
    " tweets_df.head()\n",
    "tweets_df[['lang']]"
   ]
  },
  {
   "cell_type": "code",
   "execution_count": null,
   "id": "0bb29bf2",
   "metadata": {},
   "outputs": [],
   "source": [
    "tweets_df = pd.read_csv('tweets.csv')\n",
    "print(tweets_df.head())\n",
    "print(tweets_df.shape)\n",
    "print(tweets_df.columns)\n",
    "print(tweets_df.index)"
   ]
  },
  {
   "cell_type": "code",
   "execution_count": null,
   "id": "25ffb7a8",
   "metadata": {},
   "outputs": [],
   "source": [
    "def func1():\n",
    "    num = 3\n",
    "    print(num)\n",
    "\n",
    "def func2():\n",
    "    global num\n",
    "    double_num = num * 2\n",
    "    num = 6\n",
    "    print(double_num)"
   ]
  },
  {
   "cell_type": "code",
   "execution_count": null,
   "id": "405dfd18",
   "metadata": {},
   "outputs": [],
   "source": [
    "func1()"
   ]
  },
  {
   "cell_type": "code",
   "execution_count": null,
   "id": "f21d5545",
   "metadata": {},
   "outputs": [],
   "source": [
    "func2()"
   ]
  },
  {
   "cell_type": "code",
   "execution_count": null,
   "id": "9bff1960",
   "metadata": {},
   "outputs": [],
   "source": [
    "# import builtins"
   ]
  },
  {
   "cell_type": "code",
   "execution_count": null,
   "id": "b7449d8d",
   "metadata": {},
   "outputs": [],
   "source": [
    "# dir(builtins)"
   ]
  },
  {
   "cell_type": "code",
   "execution_count": 4,
   "id": "4bf67f9e",
   "metadata": {},
   "outputs": [
    {
     "name": "stdout",
     "output_type": "stream",
     "text": [
      "('a!!!', 'b!!!', 'c!!!')\n"
     ]
    }
   ],
   "source": [
    "# Define three_shouts\n",
    "def three_shouts(word1, word2, word3):\n",
    "    \"\"\"Returns a tuple of strings\n",
    "    concatenated with '!!!'.\"\"\"\n",
    "\n",
    "    # Define inner\n",
    "    def inner(word):\n",
    "        \"\"\"Returns a string concatenated with '!!!'.\"\"\"\n",
    "        return word + '!!!'\n",
    "\n",
    "    # Return a tuple of strings\n",
    "    return (inner(word1), inner(word2), inner(word3))\n",
    "\n",
    "# Call three_shouts() and print\n",
    "print(three_shouts('a', 'b', 'c'))"
   ]
  },
  {
   "cell_type": "code",
   "execution_count": null,
   "id": "85ade3a3",
   "metadata": {},
   "outputs": [],
   "source": [
    "def outer_func():\n",
    "    def inner_func():\n",
    "        print(\"Hello, World!\")\n",
    "    inner_func()\n",
    "outer_func()"
   ]
  },
  {
   "cell_type": "code",
   "execution_count": null,
   "id": "c0a04c1a",
   "metadata": {},
   "outputs": [],
   "source": [
    "def factorial(number):\n",
    "    if not isinstance(number, int):\n",
    "        raise TypeError(\"The number must be whole.\")\n",
    "    if number < 0:\n",
    "        raise ValueError(\"The number must be non-negative.\")\n",
    "    #Factorial calculation\n",
    "    def inner_factorial(number):\n",
    "        if number <= 1:\n",
    "            return 1\n",
    "        return number * inner_factorial(number - 1)\n",
    "    return inner_factorial(number)\n",
    "factorial(4)"
   ]
  },
  {
   "cell_type": "code",
   "execution_count": null,
   "id": "d72bb263",
   "metadata": {},
   "outputs": [],
   "source": [
    "a = 'word' \n",
    "b = 3\n",
    "c = 'word' * 3\n",
    "print(c)"
   ]
  },
  {
   "cell_type": "code",
   "execution_count": null,
   "id": "eaab3422",
   "metadata": {},
   "outputs": [],
   "source": [
    "# Define echo_shout()\n",
    "def echo_shout(word):    \n",
    "    \"\"\"Change the value of a nonlocal variable\"\"\"        \n",
    "    # Concatenate word with itself: echo_word    \n",
    "    echo_word = word*2        \n",
    "    # Print echo_word    \n",
    "    print(echo_word)\n",
    "            \n",
    "    # Define inner function shout()    \n",
    "    def shout():        \n",
    "        \"\"\"Alter a variable in the enclosing scope\"\"\"            \n",
    "        # Use echo_word in nonlocal scope        \n",
    "        nonlocal echo_word                \n",
    "        # Change echo_word to echo_word concatenated with '!!!'        \n",
    "        echo_word = echo_word + '!!!'        \n",
    "     \n",
    "        # Call function shout() \n",
    "        shout()\n",
    "        # Print echo_word    \n",
    "        print(echo_word)\n",
    "        \n",
    "# Call function echo_shout() with argument 'hello'\n",
    "echo_shout('hello')"
   ]
  },
  {
   "cell_type": "code",
   "execution_count": null,
   "id": "bf3f1d53",
   "metadata": {},
   "outputs": [],
   "source": [
    "# Define echo_shout()\n",
    "def echo_shout(word):\n",
    "    \"\"\"Change the value of a nonlocal variable\"\"\"\n",
    "    \n",
    "    # Concatenate word with itself: echo_word\n",
    "    echo_word = word * 2\n",
    "    \n",
    "    # Print echo_word\n",
    "    print(echo_word)\n",
    "    \n",
    "    # Define inner function shout()\n",
    "    def shout():\n",
    "        \"\"\"Alter a variable in the enclosing scope\"\"\"    \n",
    "        # Use echo_word in nonlocal scope\n",
    "        nonlocal echo_word\n",
    "        \n",
    "        # Change echo_word to echo_word concatenated with '!!!'\n",
    "        echo_word = echo_word + '!!!'\n",
    "    \n",
    "    # Call function shout()\n",
    "    shout()\n",
    "    \n",
    "    # Print echo_word\n",
    "    print(echo_word)\n",
    "\n",
    "# Call function echo_shout() with argument 'hello'\n",
    "echo_shout('hello')"
   ]
  },
  {
   "cell_type": "code",
   "execution_count": null,
   "id": "fded71ab",
   "metadata": {},
   "outputs": [],
   "source": [
    "# Define inner function shout()\n",
    "    def shout():\n",
    "        \"\"\"Alter a variable in the enclosing scope\"\"\"    \n",
    "        # Use echo_word in nonlocal scope\n",
    "        nonlocal echo_word\n",
    "        \n",
    "        # Change echo_word to echo_word concatenated with '!!!'\n",
    "        echo_word = echo_word + '!!!'\n",
    "    \n",
    "    # Call function shout()\n",
    "    shout()"
   ]
  },
  {
   "cell_type": "code",
   "execution_count": null,
   "id": "3fa84430",
   "metadata": {},
   "outputs": [],
   "source": [
    "def mult(n):\n",
    "    \n",
    "    times = 2 * n\n",
    "    return times"
   ]
  },
  {
   "cell_type": "code",
   "execution_count": null,
   "id": "8bae94df",
   "metadata": {},
   "outputs": [],
   "source": [
    "mult(4)"
   ]
  },
  {
   "cell_type": "code",
   "execution_count": null,
   "id": "44e9d2f2",
   "metadata": {},
   "outputs": [],
   "source": [
    "# Define shout_echo\n",
    "def shout_echo(word1, echo=1):\n",
    "    \"\"\"Concatenate echo copies of word1 and three\n",
    "     exclamation marks at the end of the string.\"\"\"\n",
    "\n",
    "    # Concatenate echo copies of word1 using *: echo_word\n",
    "    echo_word = echo * word1\n",
    "\n",
    "    # Concatenate '!!!' to echo_word: shout_word\n",
    "    shout_word = echo_word + '!!!'\n",
    "\n",
    "    # Return shout_word\n",
    "    return shout_word\n",
    "\n",
    "# Call shout_echo() with \"Hey\": no_echo\n",
    "no_echo = shout_echo('Hey')\n",
    "\n",
    "# Call shout_echo() with \"Hey\" and echo=5: with_echo\n",
    "with_echo = shout_echo('Hey',echo = 5)\n",
    "\n",
    "# Print no_echo and with_echo\n",
    "print(no_echo)\n",
    "print(with_echo)"
   ]
  },
  {
   "cell_type": "code",
   "execution_count": null,
   "id": "4085f4ea",
   "metadata": {},
   "outputs": [],
   "source": [
    "print('hello' * 2 + '!!!')"
   ]
  },
  {
   "cell_type": "code",
   "execution_count": null,
   "id": "2a1d654b",
   "metadata": {},
   "outputs": [],
   "source": [
    "# Define shout_echo\n",
    "def shout_echo(word1, echo=1, intense = False):\n",
    "    \"\"\"Concatenate echo copies of word1 and three\n",
    "    exclamation marks at the end of the string.\"\"\"\n",
    "\n",
    "    # Concatenate echo copies of word1 using *: echo_word\n",
    "    echo_word = word1 * echo\n",
    "\n",
    "    # Make echo_word uppercase if intense is True\n",
    "    if intense is True:\n",
    "        # Make uppercase and concatenate '!!!': echo_word_new\n",
    "        echo_word_new = word1.upper() + '!!!'\n",
    "    else:\n",
    "        # Concatenate '!!!' to echo_word: echo_word_new\n",
    "        echo_word_new = echo_word + '!!!'\n",
    "\n",
    "    # Return echo_word_new\n",
    "    return echo_word_new\n",
    "\n",
    "# Call shout_echo() with \"Hey\", echo=5 and intense=True: with_big_echo\n",
    "with_big_echo = shout_echo('Hey',echo = 5, intense = True)\n",
    "\n",
    "# Call shout_echo() with \"Hey\" and intense=True: big_no_echo\n",
    "big_no_echo = shout_echo('Hey',intense = True)\n",
    "\n",
    "# Print values\n",
    "print(with_big_echo)\n",
    "print(big_no_echo)"
   ]
  },
  {
   "cell_type": "code",
   "execution_count": null,
   "id": "c6151c80",
   "metadata": {},
   "outputs": [],
   "source": [
    "# Define gibberish\n",
    "def gibberish(*args):\n",
    "    \"\"\"Concatenate strings in *args together.\"\"\"\n",
    "\n",
    "    # Initialize an empty string: hodgepodge\n",
    "    hodgepodge = ''\n",
    "    # Concatenate the strings in args\n",
    "    for word in args:\n",
    "        hodgepodge += word\n",
    "\n",
    "    # Return hodgepodge\n",
    "    return hodgepodge\n",
    "\n",
    "# Call gibberish() with one string: one_word\n",
    "one_word = gibberish('luke')\n",
    "\n",
    "# Call gibberish() with five strings: many_words\n",
    "many_words = gibberish(\"luke\", \"leia\", \"han\", \"obi\", \"darth\")\n",
    "\n",
    "# Print one_word and many_words\n",
    "print(one_word)\n",
    "print(many_words)"
   ]
  },
  {
   "cell_type": "code",
   "execution_count": null,
   "id": "0b309aa8",
   "metadata": {},
   "outputs": [],
   "source": [
    "# Define report_status\n",
    "def report_status(**kwargs):\n",
    "    \"\"\"Print out the status of a movie character.\"\"\"\n",
    "\n",
    "    print(\"\\nBEGIN: REPORT\\n\")\n",
    "\n",
    "    # Iterate over the key-value pairs of kwargs\n",
    "    for key, val in kwargs.items():\n",
    "        # Print out the keys and values, separated by a colon ':'\n",
    "        print(key + \": \" + val)\n",
    "\n",
    "    print(\"\\nEND REPORT\")\n",
    "\n",
    "# First call to report_status()\n",
    "report_status(name='luke', affiliation='jedi', status='missing')\n",
    "\n",
    "# Second call to report_status()\n",
    "report_status(name='anakin', affiliation='sith lord', status='deceased')"
   ]
  },
  {
   "cell_type": "code",
   "execution_count": null,
   "id": "fd7206d1",
   "metadata": {},
   "outputs": [],
   "source": [
    "def var_sum(*args):\n",
    "    sum = 0\n",
    "    for arg in args:\n",
    "        sum += arg\n",
    "        prod = sum * arg\n",
    "    return sum, prod\n",
    " \n",
    "    "
   ]
  },
  {
   "cell_type": "code",
   "execution_count": null,
   "id": "8a69795c",
   "metadata": {},
   "outputs": [],
   "source": [
    "var_sum(2,3)"
   ]
  },
  {
   "cell_type": "code",
   "execution_count": null,
   "id": "4e09a49c",
   "metadata": {},
   "outputs": [],
   "source": [
    "def my_var_sum(*args):\n",
    "  sum = 0\n",
    "  for arg in args:\n",
    "    sum += arg\n",
    "  return sum"
   ]
  },
  {
   "cell_type": "code",
   "execution_count": null,
   "id": "7fddb80b",
   "metadata": {},
   "outputs": [],
   "source": [
    "my_var_sum(2, 3)"
   ]
  },
  {
   "cell_type": "code",
   "execution_count": null,
   "id": "b43f7847",
   "metadata": {},
   "outputs": [],
   "source": [
    "def power_generator(num):\n",
    "\n",
    "    # Create the inner function\n",
    "    def power_n(power):\n",
    "        return num ** power\n",
    "\n",
    "    return power_n\n"
   ]
  },
  {
   "cell_type": "code",
   "execution_count": null,
   "id": "aec3588f",
   "metadata": {},
   "outputs": [],
   "source": [
    "a = power_generator(2)(3)\n",
    "a"
   ]
  },
  {
   "cell_type": "code",
   "execution_count": null,
   "id": "286c035a",
   "metadata": {},
   "outputs": [],
   "source": [
    "b"
   ]
  },
  {
   "cell_type": "code",
   "execution_count": null,
   "id": "e362d9c3",
   "metadata": {},
   "outputs": [],
   "source": [
    "def outer(x):\n",
    "    def inner(x):\n",
    "        return x + 2\n",
    "    \n",
    "    "
   ]
  },
  {
   "cell_type": "code",
   "execution_count": null,
   "id": "27a748b0",
   "metadata": {},
   "outputs": [],
   "source": [
    "print(outer(3))"
   ]
  },
  {
   "cell_type": "code",
   "execution_count": null,
   "id": "896096ac",
   "metadata": {},
   "outputs": [],
   "source": [
    "# Define count_entries()\n",
    "def count_entries(df, col_name = 'lang'):\n",
    "    \"\"\"Return a dictionary with counts of\n",
    "    occurrences as value for each key.\"\"\"\n",
    "\n",
    "    # Initialize an empty dictionary: cols_count\n",
    "    cols_count = {}\n",
    "\n",
    "    # Extract column from DataFrame: col\n",
    "    col = df[col_name]\n",
    "    \n",
    "    # Iterate over the column in DataFrame\n",
    "    for entry in col:\n",
    "\n",
    "        # If entry is in cols_count, add 1\n",
    "        if entry in cols_count.keys():\n",
    "            cols_count[entry] += 1\n",
    "\n",
    "        # Else add the entry to cols_count, set the value to 1\n",
    "        else:\n",
    "            cols_count[entry] = 1\n",
    "\n",
    "    # Return the cols_count dictionary\n",
    "    return cols_count\n",
    "\n",
    "# Call count_entries(): result1\n",
    "result1 = count_entries(tweets_df)\n",
    "\n",
    "# Call count_entries(): result2\n",
    "result2 = count_entries(tweets_df,col_name='source')\n",
    "\n",
    "# Print result1 and result2\n",
    "print(result1)\n",
    "print(result2)"
   ]
  },
  {
   "cell_type": "code",
   "execution_count": null,
   "id": "6532ae15",
   "metadata": {},
   "outputs": [],
   "source": [
    "# Define count_entries()\n",
    "def count_entries(df, *args):\n",
    "    \"\"\"Return a dictionary with counts of\n",
    "    occurrences as value for each key.\"\"\"\n",
    "    \n",
    "    #Initialize an empty dictionary: cols_count\n",
    "    cols_count = {}\n",
    "    \n",
    "    # Iterate over column names in args\n",
    "    for col_name in args:\n",
    "    \n",
    "        # Extract column from DataFrame: col\n",
    "        col = df[col_name]\n",
    "    \n",
    "        # Iterate over the column in DataFrame\n",
    "        for entry in col:\n",
    "    \n",
    "            # If entry is in cols_count, add 1\n",
    "            if entry in cols_count.keys():\n",
    "                cols_count[entry] += 1\n",
    "    \n",
    "            # Else add the entry to cols_count, set the value to 1\n",
    "            else:\n",
    "                cols_count[entry] = 1\n",
    "\n",
    "    # Return the cols_count dictionary\n",
    "    return cols_count\n",
    "\n",
    "# Call count_entries(): result1\n",
    "result1 = count_entries(tweets_df, 'lang')\n",
    "\n",
    "# Call count_entries(): result2\n",
    "result2 = count_entries(tweets_df, 'lang', 'source')\n",
    "\n",
    "# Print result1 and result2\n",
    "print(result1)\n",
    "print(result2)"
   ]
  },
  {
   "cell_type": "code",
   "execution_count": null,
   "id": "489a8926",
   "metadata": {},
   "outputs": [],
   "source": [
    "a = lambda x,y:x**y\n",
    "a(2,3)"
   ]
  },
  {
   "cell_type": "code",
   "execution_count": null,
   "id": "80dff596",
   "metadata": {},
   "outputs": [],
   "source": [
    "print(2,3)"
   ]
  },
  {
   "cell_type": "code",
   "execution_count": null,
   "id": "3759ea3e",
   "metadata": {},
   "outputs": [],
   "source": [
    "add_bangs = lambda a: a + '!!!'\n",
    "add_bangs('hello')"
   ]
  },
  {
   "cell_type": "code",
   "execution_count": null,
   "id": "3ea2e916",
   "metadata": {},
   "outputs": [],
   "source": [
    "# Define echo_word as a lambda function: echo_word\n",
    "echo_word = (lambda word1,echo: word1 * echo)\n",
    "\n",
    "# Call echo_word: result\n",
    "result = echo_word('hey', 5)\n",
    "\n",
    "# Print result\n",
    "print(result)"
   ]
  },
  {
   "cell_type": "code",
   "execution_count": null,
   "id": "c5a70157",
   "metadata": {},
   "outputs": [],
   "source": [
    "nums = [2, 4, 6, 8, 10]\n",
    "\n",
    "result = map(lambda a: a ** 2, nums)"
   ]
  },
  {
   "cell_type": "code",
   "execution_count": null,
   "id": "d94caa77",
   "metadata": {},
   "outputs": [],
   "source": [
    "print(list(result))"
   ]
  },
  {
   "cell_type": "code",
   "execution_count": null,
   "id": "653a5992",
   "metadata": {},
   "outputs": [],
   "source": [
    "# Create a list of strings: spells\n",
    "spells = [\"protego\", \"accio\", \"expecto patronum\", \"legilimens\"]\n",
    "\n",
    "# Use map() to apply a lambda function over spells: shout_spells\n",
    "shout_spells = map(lambda item: item + '!!!', spells)\n",
    "\n",
    "# Convert shout_spells to a list: shout_spells_list\n",
    "shout_spells_list = list(shout_spells)\n",
    "\n",
    "# Print the result\n",
    "print(shout_spells_list)"
   ]
  },
  {
   "cell_type": "code",
   "execution_count": null,
   "id": "45adb34e",
   "metadata": {},
   "outputs": [],
   "source": [
    "# Create a list of strings: fellowship\n",
    "fellowship = ['frodo', 'samwise', 'merry', 'pippin', 'aragorn', 'boromir', 'legolas', 'gimli', 'gandalf']\n",
    "\n",
    "# Use filter() to apply a lambda function over fellowship: result\n",
    "result = filter(lambda member: len(member)>6, fellowship)\n",
    "\n",
    "# Convert result to a list: result_list\n",
    "result_list = list(result)\n",
    "\n",
    "# Print result_list\n",
    "print(result_list)"
   ]
  },
  {
   "cell_type": "code",
   "execution_count": null,
   "id": "426beacd",
   "metadata": {},
   "outputs": [],
   "source": [
    "# Import reduce from functools\n",
    "from functools import reduce\n",
    "\n",
    "# Create a list of strings: stark\n",
    "stark = ['robb', 'sansa', 'arya', 'brandon', 'rickon']\n",
    "\n",
    "# Use reduce() to apply a lambda function over stark: result\n",
    "result = reduce(lambda item1, item2: item1 + item2, stark)\n",
    "\n",
    "# Print the result\n",
    "print(result)"
   ]
  },
  {
   "cell_type": "code",
   "execution_count": null,
   "id": "fd637b59",
   "metadata": {},
   "outputs": [],
   "source": [
    "def shout_echo(word1, echo=1):    \n",
    "\"\"\"Concatenate echo copies of word1 and three    exclamation marks at the end of the string.\"\"\"\n",
    "    # Raise an error with raise    \n",
    "    if echo < 0:        \n",
    "      raise ValueError('echo must be greater than or equal to 0')\n",
    "    # Concatenate echo copies of word1 using *: echo_word    \n",
    "    echo_word = word1 * echo\n",
    "    # Concatenate '!!!' to echo_word: shout_word    \n",
    "    shout_word = echo_word + '!!!'\n",
    "    # Return shout_word    \n",
    "    return shout_word\n",
    "    \n",
    "# Call shout_echo\n",
    "shout_echo(\"particle\", echo=5)"
   ]
  }
 ],
 "metadata": {
  "kernelspec": {
   "display_name": "Python 3 (ipykernel)",
   "language": "python",
   "name": "python3"
  },
  "language_info": {
   "codemirror_mode": {
    "name": "ipython",
    "version": 3
   },
   "file_extension": ".py",
   "mimetype": "text/x-python",
   "name": "python",
   "nbconvert_exporter": "python",
   "pygments_lexer": "ipython3",
   "version": "3.9.7"
  }
 },
 "nbformat": 4,
 "nbformat_minor": 5
}
