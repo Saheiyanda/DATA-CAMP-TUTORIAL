{
 "cells": [
  {
   "cell_type": "markdown",
   "metadata": {
    "id": "5yPcxK7VVfx2"
   },
   "source": [
    "# Africa Biomass Challenge\n",
    "**Can you predict biomass in cocoa plantations in Côte d'Ivoire?**"
   ]
  },
  {
   "cell_type": "markdown",
   "metadata": {
    "id": "BiF5fKp2Qv1d"
   },
   "source": [
    "# Images Extractions"
   ]
  },
  {
   "cell_type": "code",
   "execution_count": 7,
   "metadata": {
    "execution": {
     "iopub.execute_input": "2023-01-28T12:06:18.030703Z",
     "iopub.status.busy": "2023-01-28T12:06:18.030258Z",
     "iopub.status.idle": "2023-01-28T12:06:18.194564Z",
     "shell.execute_reply": "2023-01-28T12:06:18.193578Z",
     "shell.execute_reply.started": "2023-01-28T12:06:18.030617Z"
    },
    "id": "ghyAh0w20yIH"
   },
   "outputs": [],
   "source": [
    "import h5py\n",
    "import matplotlib.pyplot as plt\n",
    "import pandas as pd\n",
    "import numpy as np\n",
    "import warnings\n",
    "warnings.filterwarnings('ignore')"
   ]
  },
  {
   "cell_type": "code",
   "execution_count": 5,
   "metadata": {
    "execution": {
     "iopub.execute_input": "2023-01-28T12:06:18.197467Z",
     "iopub.status.busy": "2023-01-28T12:06:18.196823Z",
     "iopub.status.idle": "2023-01-28T12:06:40.545991Z",
     "shell.execute_reply": "2023-01-28T12:06:40.544623Z",
     "shell.execute_reply.started": "2023-01-28T12:06:18.197427Z"
    },
    "id": "FSbBd9XiQ5q5"
   },
   "outputs": [
    {
     "name": "stderr",
     "output_type": "stream",
     "text": [
      "'wget' is not recognized as an internal or external command,\n",
      "operable program or batch file.\n",
      "'wget' is not recognized as an internal or external command,\n",
      "operable program or batch file.\n",
      "'wget' is not recognized as an internal or external command,\n",
      "operable program or batch file.\n"
     ]
    }
   ],
   "source": [
    "!wget -q  https://share.phys.ethz.ch/~pf/albecker/abc/09072022_1154_train.h5\n",
    "!wget -q  https://share.phys.ethz.ch/~pf/albecker/abc/09072022_1154_val.h5\n",
    "!wget -q https://share.phys.ethz.ch/~pf/albecker/abc/09072022_1154_test.h5"
   ]
  },
  {
   "cell_type": "code",
   "execution_count": 6,
   "metadata": {
    "execution": {
     "iopub.execute_input": "2023-01-28T12:06:53.464487Z",
     "iopub.status.busy": "2023-01-28T12:06:53.464010Z",
     "iopub.status.idle": "2023-01-28T12:06:53.472498Z",
     "shell.execute_reply": "2023-01-28T12:06:53.471513Z",
     "shell.execute_reply.started": "2023-01-28T12:06:53.464453Z"
    },
    "id": "k3ZQRlZOQ65B"
   },
   "outputs": [
    {
     "ename": "FileNotFoundError",
     "evalue": "[Errno 2] Unable to open file (unable to open file: name = '09072022_1154_train.h5', errno = 2, error message = 'No such file or directory', flags = 0, o_flags = 0)",
     "output_type": "error",
     "traceback": [
      "\u001b[1;31m---------------------------------------------------------------------------\u001b[0m",
      "\u001b[1;31mFileNotFoundError\u001b[0m                         Traceback (most recent call last)",
      "\u001b[1;32mC:\\Users\\SAHEED~1\\AppData\\Local\\Temp/ipykernel_20916/4215126784.py\u001b[0m in \u001b[0;36m<module>\u001b[1;34m\u001b[0m\n\u001b[1;32m----> 1\u001b[1;33m \u001b[0mtrainset\u001b[0m \u001b[1;33m=\u001b[0m \u001b[0mh5py\u001b[0m\u001b[1;33m.\u001b[0m\u001b[0mFile\u001b[0m\u001b[1;33m(\u001b[0m\u001b[1;34m\"09072022_1154_train.h5\"\u001b[0m\u001b[1;33m,\u001b[0m \u001b[1;34m\"r\"\u001b[0m\u001b[1;33m)\u001b[0m\u001b[1;33m\u001b[0m\u001b[1;33m\u001b[0m\u001b[0m\n\u001b[0m\u001b[0;32m      2\u001b[0m \u001b[0mvalidateset\u001b[0m \u001b[1;33m=\u001b[0m \u001b[0mh5py\u001b[0m\u001b[1;33m.\u001b[0m\u001b[0mFile\u001b[0m\u001b[1;33m(\u001b[0m\u001b[1;34m\"09072022_1154_val.h5\"\u001b[0m\u001b[1;33m,\u001b[0m \u001b[1;34m\"r\"\u001b[0m\u001b[1;33m)\u001b[0m\u001b[1;33m\u001b[0m\u001b[1;33m\u001b[0m\u001b[0m\n\u001b[0;32m      3\u001b[0m \u001b[0mtestset\u001b[0m \u001b[1;33m=\u001b[0m \u001b[0mh5py\u001b[0m\u001b[1;33m.\u001b[0m\u001b[0mFile\u001b[0m\u001b[1;33m(\u001b[0m\u001b[1;34m\"09072022_1154_test.h5\"\u001b[0m\u001b[1;33m,\u001b[0m \u001b[1;34m\"r\"\u001b[0m\u001b[1;33m)\u001b[0m\u001b[1;33m\u001b[0m\u001b[1;33m\u001b[0m\u001b[0m\n",
      "\u001b[1;32m~\\Anaconda5\\lib\\site-packages\\h5py\\_hl\\files.py\u001b[0m in \u001b[0;36m__init__\u001b[1;34m(self, name, mode, driver, libver, userblock_size, swmr, rdcc_nslots, rdcc_nbytes, rdcc_w0, track_order, fs_strategy, fs_persist, fs_threshold, **kwds)\u001b[0m\n\u001b[0;32m    440\u001b[0m             \u001b[1;32mwith\u001b[0m \u001b[0mphil\u001b[0m\u001b[1;33m:\u001b[0m\u001b[1;33m\u001b[0m\u001b[1;33m\u001b[0m\u001b[0m\n\u001b[0;32m    441\u001b[0m                 \u001b[0mfapl\u001b[0m \u001b[1;33m=\u001b[0m \u001b[0mmake_fapl\u001b[0m\u001b[1;33m(\u001b[0m\u001b[0mdriver\u001b[0m\u001b[1;33m,\u001b[0m \u001b[0mlibver\u001b[0m\u001b[1;33m,\u001b[0m \u001b[0mrdcc_nslots\u001b[0m\u001b[1;33m,\u001b[0m \u001b[0mrdcc_nbytes\u001b[0m\u001b[1;33m,\u001b[0m \u001b[0mrdcc_w0\u001b[0m\u001b[1;33m,\u001b[0m \u001b[1;33m**\u001b[0m\u001b[0mkwds\u001b[0m\u001b[1;33m)\u001b[0m\u001b[1;33m\u001b[0m\u001b[1;33m\u001b[0m\u001b[0m\n\u001b[1;32m--> 442\u001b[1;33m                 fid = make_fid(name, mode, userblock_size,\n\u001b[0m\u001b[0;32m    443\u001b[0m                                fapl, fcpl=make_fcpl(track_order=track_order, fs_strategy=fs_strategy,\n\u001b[0;32m    444\u001b[0m                                fs_persist=fs_persist, fs_threshold=fs_threshold),\n",
      "\u001b[1;32m~\\Anaconda5\\lib\\site-packages\\h5py\\_hl\\files.py\u001b[0m in \u001b[0;36mmake_fid\u001b[1;34m(name, mode, userblock_size, fapl, fcpl, swmr)\u001b[0m\n\u001b[0;32m    193\u001b[0m         \u001b[1;32mif\u001b[0m \u001b[0mswmr\u001b[0m \u001b[1;32mand\u001b[0m \u001b[0mswmr_support\u001b[0m\u001b[1;33m:\u001b[0m\u001b[1;33m\u001b[0m\u001b[1;33m\u001b[0m\u001b[0m\n\u001b[0;32m    194\u001b[0m             \u001b[0mflags\u001b[0m \u001b[1;33m|=\u001b[0m \u001b[0mh5f\u001b[0m\u001b[1;33m.\u001b[0m\u001b[0mACC_SWMR_READ\u001b[0m\u001b[1;33m\u001b[0m\u001b[1;33m\u001b[0m\u001b[0m\n\u001b[1;32m--> 195\u001b[1;33m         \u001b[0mfid\u001b[0m \u001b[1;33m=\u001b[0m \u001b[0mh5f\u001b[0m\u001b[1;33m.\u001b[0m\u001b[0mopen\u001b[0m\u001b[1;33m(\u001b[0m\u001b[0mname\u001b[0m\u001b[1;33m,\u001b[0m \u001b[0mflags\u001b[0m\u001b[1;33m,\u001b[0m \u001b[0mfapl\u001b[0m\u001b[1;33m=\u001b[0m\u001b[0mfapl\u001b[0m\u001b[1;33m)\u001b[0m\u001b[1;33m\u001b[0m\u001b[1;33m\u001b[0m\u001b[0m\n\u001b[0m\u001b[0;32m    196\u001b[0m     \u001b[1;32melif\u001b[0m \u001b[0mmode\u001b[0m \u001b[1;33m==\u001b[0m \u001b[1;34m'r+'\u001b[0m\u001b[1;33m:\u001b[0m\u001b[1;33m\u001b[0m\u001b[1;33m\u001b[0m\u001b[0m\n\u001b[0;32m    197\u001b[0m         \u001b[0mfid\u001b[0m \u001b[1;33m=\u001b[0m \u001b[0mh5f\u001b[0m\u001b[1;33m.\u001b[0m\u001b[0mopen\u001b[0m\u001b[1;33m(\u001b[0m\u001b[0mname\u001b[0m\u001b[1;33m,\u001b[0m \u001b[0mh5f\u001b[0m\u001b[1;33m.\u001b[0m\u001b[0mACC_RDWR\u001b[0m\u001b[1;33m,\u001b[0m \u001b[0mfapl\u001b[0m\u001b[1;33m=\u001b[0m\u001b[0mfapl\u001b[0m\u001b[1;33m)\u001b[0m\u001b[1;33m\u001b[0m\u001b[1;33m\u001b[0m\u001b[0m\n",
      "\u001b[1;32mh5py\\_objects.pyx\u001b[0m in \u001b[0;36mh5py._objects.with_phil.wrapper\u001b[1;34m()\u001b[0m\n",
      "\u001b[1;32mh5py\\_objects.pyx\u001b[0m in \u001b[0;36mh5py._objects.with_phil.wrapper\u001b[1;34m()\u001b[0m\n",
      "\u001b[1;32mh5py\\h5f.pyx\u001b[0m in \u001b[0;36mh5py.h5f.open\u001b[1;34m()\u001b[0m\n",
      "\u001b[1;31mFileNotFoundError\u001b[0m: [Errno 2] Unable to open file (unable to open file: name = '09072022_1154_train.h5', errno = 2, error message = 'No such file or directory', flags = 0, o_flags = 0)"
     ]
    }
   ],
   "source": [
    "trainset = h5py.File(\"09072022_1154_train.h5\", \"r\")\n",
    "validateset = h5py.File(\"09072022_1154_val.h5\", \"r\")\n",
    "testset = h5py.File(\"09072022_1154_test.h5\", \"r\")"
   ]
  },
  {
   "cell_type": "code",
   "execution_count": null,
   "metadata": {
    "colab": {
     "base_uri": "https://localhost:8080/"
    },
    "execution": {
     "iopub.execute_input": "2023-01-28T12:06:53.475411Z",
     "iopub.status.busy": "2023-01-28T12:06:53.474757Z",
     "iopub.status.idle": "2023-01-28T12:06:53.488299Z",
     "shell.execute_reply": "2023-01-28T12:06:53.487139Z",
     "shell.execute_reply.started": "2023-01-28T12:06:53.475376Z"
    },
    "id": "sQnKRSw9RDu6",
    "outputId": "82337ee8-cb5b-46a1-be4c-ed1b7344e30b"
   },
   "outputs": [],
   "source": [
    "# attributes of trainset\n",
    "trainset.keys()"
   ]
  },
  {
   "cell_type": "code",
   "execution_count": null,
   "metadata": {
    "colab": {
     "base_uri": "https://localhost:8080/"
    },
    "execution": {
     "iopub.execute_input": "2023-01-28T12:06:53.490172Z",
     "iopub.status.busy": "2023-01-28T12:06:53.489664Z",
     "iopub.status.idle": "2023-01-28T12:06:53.499561Z",
     "shell.execute_reply": "2023-01-28T12:06:53.498569Z",
     "shell.execute_reply.started": "2023-01-28T12:06:53.490137Z"
    },
    "id": "4ZE8sYUWAK-P",
    "outputId": "9c5ff409-19e4-4576-b41d-c684e41fcea8"
   },
   "outputs": [],
   "source": [
    "# attributes of validset\n",
    "validateset.keys()"
   ]
  },
  {
   "cell_type": "code",
   "execution_count": null,
   "metadata": {
    "colab": {
     "base_uri": "https://localhost:8080/"
    },
    "execution": {
     "iopub.execute_input": "2023-01-28T12:06:53.503343Z",
     "iopub.status.busy": "2023-01-28T12:06:53.502838Z",
     "iopub.status.idle": "2023-01-28T12:06:53.510642Z",
     "shell.execute_reply": "2023-01-28T12:06:53.509530Z",
     "shell.execute_reply.started": "2023-01-28T12:06:53.503313Z"
    },
    "id": "feHFIAk4ANU_",
    "outputId": "7ad0f22a-41cd-4d0c-a51a-dc0972dcc00c"
   },
   "outputs": [],
   "source": [
    "# attributes of testset\n",
    "testset.keys()"
   ]
  },
  {
   "cell_type": "markdown",
   "metadata": {
    "id": "2rKhoGtGR1Xu"
   },
   "source": [
    "## Explore datasets"
   ]
  },
  {
   "cell_type": "code",
   "execution_count": null,
   "metadata": {
    "execution": {
     "iopub.execute_input": "2023-01-28T12:06:53.513246Z",
     "iopub.status.busy": "2023-01-28T12:06:53.512161Z",
     "iopub.status.idle": "2023-01-28T12:06:54.361026Z",
     "shell.execute_reply": "2023-01-28T12:06:54.360004Z",
     "shell.execute_reply.started": "2023-01-28T12:06:53.513210Z"
    },
    "id": "YgOvKhevSGNV"
   },
   "outputs": [],
   "source": [
    "# train\n",
    "train_images = np.array(trainset['images'],dtype=np.float64)\n",
    "train_images = train_images.transpose(0,3,1,2)\n",
    "\n",
    "train_biomasses = np.array(trainset['agbd'],dtype=np.float64)\n",
    "\n",
    "# validate\n",
    "validate_images = np.array(validateset['images'],dtype=np.float64)\n",
    "validate_images = validate_images.transpose(0,3,1,2)\n",
    "validate_biomasses = np.array(validateset['agbd'],dtype=np.float64)\n",
    "\n",
    "# test \n",
    "test_images = np.array(testset['images'],dtype=np.float32)\n",
    "test_images = test_images.transpose(0,3,1,2)\n",
    "test_biomasses = np.array(testset['agbd'],dtype=np.float32)"
   ]
  },
  {
   "cell_type": "code",
   "execution_count": null,
   "metadata": {
    "colab": {
     "base_uri": "https://localhost:8080/"
    },
    "execution": {
     "iopub.execute_input": "2023-01-28T12:06:54.365135Z",
     "iopub.status.busy": "2023-01-28T12:06:54.363557Z",
     "iopub.status.idle": "2023-01-28T12:06:54.371670Z",
     "shell.execute_reply": "2023-01-28T12:06:54.370658Z",
     "shell.execute_reply.started": "2023-01-28T12:06:54.365101Z"
    },
    "id": "Ps-9IeIgSJ4w",
    "outputId": "db998d3c-287e-47f5-f35a-2be7a91b6972"
   },
   "outputs": [],
   "source": [
    "print(f\"train dataset size {train_images.shape} train lab size {train_biomasses.shape}\")\n",
    "print()\n",
    "print(f\"validate dataset size {validate_images.shape} validate lab size {validate_biomasses.shape}\")\n",
    "print()\n",
    "print(f\"test dataset size {test_images.shape} test lab size {test_biomasses.shape}\")"
   ]
  },
  {
   "cell_type": "markdown",
   "metadata": {
    "id": "zNdh9lMISRdZ"
   },
   "source": [
    "##  Some visulizations"
   ]
  },
  {
   "cell_type": "code",
   "execution_count": null,
   "metadata": {
    "colab": {
     "base_uri": "https://localhost:8080/",
     "height": 282
    },
    "execution": {
     "iopub.execute_input": "2023-01-28T12:06:54.373959Z",
     "iopub.status.busy": "2023-01-28T12:06:54.372992Z",
     "iopub.status.idle": "2023-01-28T12:06:54.594248Z",
     "shell.execute_reply": "2023-01-28T12:06:54.593335Z",
     "shell.execute_reply.started": "2023-01-28T12:06:54.373918Z"
    },
    "id": "fp5UpiavSMqn",
    "outputId": "3270120c-0384-43af-a2ef-e9a32b8dc72a"
   },
   "outputs": [],
   "source": [
    "plt.imshow(train_images[1,1,:,:])"
   ]
  },
  {
   "cell_type": "code",
   "execution_count": null,
   "metadata": {
    "colab": {
     "base_uri": "https://localhost:8080/"
    },
    "execution": {
     "iopub.execute_input": "2023-01-28T12:06:54.595924Z",
     "iopub.status.busy": "2023-01-28T12:06:54.595549Z",
     "iopub.status.idle": "2023-01-28T12:06:54.602479Z",
     "shell.execute_reply": "2023-01-28T12:06:54.601546Z",
     "shell.execute_reply.started": "2023-01-28T12:06:54.595887Z"
    },
    "id": "TAFde--LSZR5",
    "outputId": "71320f3b-264e-4f98-839c-2d4cc9f1b104"
   },
   "outputs": [],
   "source": [
    "train_biomasses[1]"
   ]
  },
  {
   "cell_type": "markdown",
   "metadata": {
    "id": "ffXv4PbxI5QS"
   },
   "source": [
    " **Below we explore the skewness of train dataset in each channel**"
   ]
  },
  {
   "cell_type": "code",
   "execution_count": null,
   "metadata": {
    "execution": {
     "iopub.execute_input": "2023-01-28T12:06:54.604576Z",
     "iopub.status.busy": "2023-01-28T12:06:54.603765Z",
     "iopub.status.idle": "2023-01-28T12:06:58.036637Z",
     "shell.execute_reply": "2023-01-28T12:06:58.035566Z",
     "shell.execute_reply.started": "2023-01-28T12:06:54.604539Z"
    },
    "id": "CrCKjC-mSmJm"
   },
   "outputs": [],
   "source": [
    "band_skewness = []\n",
    "band_skewness_after_sqrt = []\n",
    "for c in range(12):\n",
    "    #calculate skewness\n",
    "    band_skewness.append(pd.Series(train_images[:,c].flatten()).skew())\n",
    "    #calculate skewness after applying sqrt\n",
    "    band_skewness_after_sqrt.append(pd.Series(np.sqrt(train_images[:,c].flatten())).skew())"
   ]
  },
  {
   "cell_type": "code",
   "execution_count": null,
   "metadata": {
    "colab": {
     "base_uri": "https://localhost:8080/",
     "height": 279
    },
    "execution": {
     "iopub.execute_input": "2023-01-28T12:06:58.041481Z",
     "iopub.status.busy": "2023-01-28T12:06:58.041176Z",
     "iopub.status.idle": "2023-01-28T12:06:58.289457Z",
     "shell.execute_reply": "2023-01-28T12:06:58.288554Z",
     "shell.execute_reply.started": "2023-01-28T12:06:58.041452Z"
    },
    "id": "mQuF1liYSppT",
    "outputId": "ff355216-8970-49a4-c049-2579e3a750e2"
   },
   "outputs": [],
   "source": [
    "# skweness\n",
    "width = 0.25\n",
    "\n",
    "rng = [i for i in range(0,12)]\n",
    "rng2 = [i+width for i in range(0,12)]\n",
    "\n",
    "plt.bar(rng, band_skewness, align='center', width = width, label='Original', color ='b')\n",
    "plt.bar(rng2, band_skewness_after_sqrt, align='center', width = width, label='After sqrt', color ='g')\n",
    "plt.gca().set_xticks(rng)\n",
    "plt.legend()\n",
    "plt.xlabel('Band ID')\n",
    "plt.ylabel('Skewness')\n",
    "plt.show()"
   ]
  },
  {
   "cell_type": "markdown",
   "metadata": {
    "id": "SYkqo_nDQlzS"
   },
   "source": [
    "# First Baseline With Sklearn"
   ]
  },
  {
   "cell_type": "code",
   "execution_count": null,
   "metadata": {
    "execution": {
     "iopub.execute_input": "2023-01-28T12:06:58.291210Z",
     "iopub.status.busy": "2023-01-28T12:06:58.290876Z",
     "iopub.status.idle": "2023-01-28T12:07:08.948969Z",
     "shell.execute_reply": "2023-01-28T12:07:08.947612Z",
     "shell.execute_reply.started": "2023-01-28T12:06:58.291183Z"
    },
    "id": "7nuxtET5djwK"
   },
   "outputs": [],
   "source": [
    "!pip install -qq catboost --quiet"
   ]
  },
  {
   "cell_type": "code",
   "execution_count": null,
   "metadata": {
    "execution": {
     "iopub.execute_input": "2023-01-28T12:07:08.952789Z",
     "iopub.status.busy": "2023-01-28T12:07:08.952109Z",
     "iopub.status.idle": "2023-01-28T12:07:11.995184Z",
     "shell.execute_reply": "2023-01-28T12:07:11.994201Z",
     "shell.execute_reply.started": "2023-01-28T12:07:08.952746Z"
    },
    "id": "is7xLI-1VzAW",
    "outputId": "52fcd67a-8e91-48ae-f8d4-dc59b4782bca"
   },
   "outputs": [],
   "source": [
    "from sklearn.linear_model import LinearRegression,Ridge,Lasso\n",
    "from sklearn.linear_model import LinearRegression, Lasso, Ridge, ElasticNet\n",
    "from sklearn.svm import LinearSVR\n",
    "from sklearn.tree import DecisionTreeRegressor\n",
    "from sklearn.neighbors import KNeighborsRegressor\n",
    "from sklearn.ensemble import RandomForestRegressor, GradientBoostingRegressor\n",
    "from sklearn.model_selection import GridSearchCV\n",
    "from sklearn.pipeline import Pipeline\n",
    "from sklearn.metrics import mean_squared_error\n",
    "from sklearn import model_selection\n",
    "from sklearn.compose import ColumnTransformer\n",
    "from sklearn.impute import SimpleImputer\n",
    "from sklearn.preprocessing import StandardScaler\n",
    "from sklearn.base import BaseEstimator, TransformerMixin\n",
    "from scipy.stats import kurtosis, skew\n",
    "from xgboost.sklearn import XGBRegressor\n",
    "import xgboost as xgb\n",
    "import lightgbm as lgb\n",
    "import catboost as cb"
   ]
  },
  {
   "cell_type": "code",
   "execution_count": null,
   "metadata": {
    "execution": {
     "iopub.execute_input": "2023-01-28T12:07:11.997102Z",
     "iopub.status.busy": "2023-01-28T12:07:11.996756Z",
     "iopub.status.idle": "2023-01-28T12:07:12.002560Z",
     "shell.execute_reply": "2023-01-28T12:07:12.001612Z",
     "shell.execute_reply.started": "2023-01-28T12:07:11.997067Z"
    },
    "id": "t54SAWW6pr1S"
   },
   "outputs": [],
   "source": [
    "from sklearn import set_config\n",
    "set_config(display='diagram')"
   ]
  },
  {
   "cell_type": "markdown",
   "metadata": {
    "id": "PVAxS2EwqKiW"
   },
   "source": [
    "## Modelisation"
   ]
  },
  {
   "cell_type": "markdown",
   "metadata": {
    "id": "wtNBm3d1qM1x"
   },
   "source": [
    "### Pipeline of training"
   ]
  },
  {
   "cell_type": "code",
   "execution_count": null,
   "metadata": {
    "execution": {
     "iopub.execute_input": "2023-01-28T12:07:12.004685Z",
     "iopub.status.busy": "2023-01-28T12:07:12.004053Z",
     "iopub.status.idle": "2023-01-28T12:07:12.678494Z",
     "shell.execute_reply": "2023-01-28T12:07:12.677455Z",
     "shell.execute_reply.started": "2023-01-28T12:07:12.004643Z"
    },
    "id": "T3OrinVvV3-8"
   },
   "outputs": [],
   "source": [
    "# constante for standardization\n",
    "MEAN = train_images.mean((0,2,3))\n",
    "STD = train_images.std((0,2,3))"
   ]
  },
  {
   "cell_type": "code",
   "execution_count": null,
   "metadata": {
    "execution": {
     "iopub.execute_input": "2023-01-28T12:07:12.680416Z",
     "iopub.status.busy": "2023-01-28T12:07:12.680025Z",
     "iopub.status.idle": "2023-01-28T12:07:12.690787Z",
     "shell.execute_reply": "2023-01-28T12:07:12.689748Z",
     "shell.execute_reply.started": "2023-01-28T12:07:12.680377Z"
    },
    "id": "FC2Gb-3cQDcO"
   },
   "outputs": [],
   "source": [
    "class CustomScaler(BaseEstimator, TransformerMixin):\n",
    "  def __init__(self,mean,std):\n",
    "    self.mean = mean\n",
    "    self.std = std\n",
    "  \n",
    "  def fit(self, X, y=None):\n",
    "    self.mean = X.mean((0,2,3)) \n",
    "    self.std = X.std((0,2,3))\n",
    "    return self\n",
    "\n",
    "  def transform(self, X, y=None):\n",
    "    return (X-self.mean[None,:,None,None])/self.std[None,:,None,None] \n",
    "\n",
    "    \n",
    "class FlattenTransformer(BaseEstimator, TransformerMixin):\n",
    "\n",
    "  def fit(self, X, y=None):\n",
    "    return self\n",
    "\n",
    "  def transform(self, X, y=None):\n",
    "    return X.reshape((X.shape[0], -1))\n",
    "\n",
    "\n",
    "pipe = Pipeline(steps=[(\"scaler\", CustomScaler(MEAN,STD)),  \n",
    "                       (\"flatten\", FlattenTransformer()),\n",
    "                       (\"classifier\",Lasso())   \n",
    "])"
   ]
  },
  {
   "cell_type": "code",
   "execution_count": null,
   "metadata": {
    "colab": {
     "base_uri": "https://localhost:8080/",
     "height": 158
    },
    "execution": {
     "iopub.execute_input": "2023-01-28T12:07:12.693853Z",
     "iopub.status.busy": "2023-01-28T12:07:12.692208Z",
     "iopub.status.idle": "2023-01-28T12:07:29.780841Z",
     "shell.execute_reply": "2023-01-28T12:07:29.779512Z",
     "shell.execute_reply.started": "2023-01-28T12:07:12.693814Z"
    },
    "id": "Ii56ZHoXmx5p",
    "outputId": "05919504-faa4-4ed8-d948-e52c8795fc02"
   },
   "outputs": [],
   "source": [
    "pipe.fit(train_images,train_biomasses)"
   ]
  },
  {
   "cell_type": "code",
   "execution_count": null,
   "metadata": {
    "colab": {
     "base_uri": "https://localhost:8080/"
    },
    "execution": {
     "iopub.execute_input": "2023-01-28T12:07:29.789076Z",
     "iopub.status.busy": "2023-01-28T12:07:29.785013Z",
     "iopub.status.idle": "2023-01-28T12:07:30.525860Z",
     "shell.execute_reply": "2023-01-28T12:07:30.524838Z",
     "shell.execute_reply.started": "2023-01-28T12:07:29.789005Z"
    },
    "id": "61dZDV4Dmx-h",
    "outputId": "d37f291d-eef0-4bc4-d2eb-264bbf3c878f"
   },
   "outputs": [],
   "source": [
    "# predict\n",
    "pred_train = pipe.predict(train_images)\n",
    "\n",
    "# train mse error\n",
    "mse = mean_squared_error(train_biomasses, pred_train) \n",
    "mse"
   ]
  },
  {
   "cell_type": "code",
   "execution_count": null,
   "metadata": {
    "colab": {
     "base_uri": "https://localhost:8080/"
    },
    "execution": {
     "iopub.execute_input": "2023-01-28T12:07:30.528446Z",
     "iopub.status.busy": "2023-01-28T12:07:30.527747Z",
     "iopub.status.idle": "2023-01-28T12:07:30.722676Z",
     "shell.execute_reply": "2023-01-28T12:07:30.721660Z",
     "shell.execute_reply.started": "2023-01-28T12:07:30.528407Z"
    },
    "id": "T17ZqXTop6DJ",
    "outputId": "19757564-1dd5-41c4-9848-0a77763aa6fc"
   },
   "outputs": [],
   "source": [
    "# predict\n",
    "pred_validate = pipe.predict(validate_images)\n",
    "\n",
    "#  validate mse error\n",
    "mse = mean_squared_error(validate_biomasses, pred_validate) \n",
    "mse"
   ]
  },
  {
   "cell_type": "markdown",
   "metadata": {
    "id": "MjL1gMrGqSwY"
   },
   "source": [
    "### Gridsearch"
   ]
  },
  {
   "cell_type": "markdown",
   "metadata": {
    "id": "1RbJjmyp6CYu"
   },
   "source": [
    "**Initiaze the hyperparameters for each dictionary:**"
   ]
  },
  {
   "cell_type": "code",
   "execution_count": null,
   "metadata": {
    "execution": {
     "iopub.execute_input": "2023-01-28T12:08:42.811652Z",
     "iopub.status.busy": "2023-01-28T12:08:42.811266Z",
     "iopub.status.idle": "2023-01-28T12:08:42.827338Z",
     "shell.execute_reply": "2023-01-28T12:08:42.826200Z",
     "shell.execute_reply.started": "2023-01-28T12:08:42.811610Z"
    },
    "id": "bZZ00__izp6T"
   },
   "outputs": [],
   "source": [
    "##### LinearRegression ######\n",
    "param1 = {}\n",
    "param1['classifier'] = [LinearRegression()]\n",
    "\n",
    "\n",
    "##### Ridge ######\n",
    "param2 = {}\n",
    "param2['classifier__alpha'] = np.logspace(-5, 2, 8)   # [0.1,0.5, 1]  \n",
    "param2['classifier'] = [Ridge()]\n",
    "\n",
    "\n",
    "##### Lasso ######\n",
    "param3 = {}\n",
    "param3['classifier__alpha'] = np.logspace(-6, 2, 8)  # [0.08,0.09, 0.1]\n",
    "param3['classifier'] = [Lasso()]\n",
    "\n",
    "\n",
    "##### KNeighborsRegressor ######\n",
    "param4 = {}\n",
    "param4['classifier__n_neighbors'] = [2,5,10,25,50]\n",
    "param4['classifier__leaf_size']= [12, 11, 13]\n",
    "param4['classifier__p'] = [1] \n",
    "param4['classifier'] = [KNeighborsRegressor()]\n",
    "\n",
    "\n",
    "##### XGBRegressor ###### \n",
    "param5 = {}\n",
    "param5['classifier__learning_rate']= [0.025]\n",
    "param5['classifier__max_depth']= [12,13]    \n",
    "param5['classifier__nthread']= [4]\n",
    "param5['classifier__objective']= ['reg:squarederror']\n",
    "param5['classifier__tree_method']= ['gpu_hist']\n",
    "param5['classifier__min_child_weight'] = [2,3] \n",
    "param5['classifier__subsample'] = [0.9] # 0.8,\n",
    "param5['classifier__colsample_bytree'] = [0.4,0.5] \n",
    "param5['classifier__n_estimators'] = [480,500] \n",
    "param5['classifier'] = [XGBRegressor()]\n",
    "\n",
    "##### ElasticNet ######\n",
    "param6 = {}\n",
    "param6['classifier__alpha'] = np.logspace(-5, 2, 8)    # [2,5,10,25,50]\n",
    "param6['classifier__l1_ratio'] = [.2,.4,.6,.8] \n",
    "param6['classifier'] = [ElasticNet()]\n",
    "\n",
    "\n",
    "##### RandomForestRegressor ######\n",
    "param7 = {}\n",
    "param7['classifier__n_estimators'] = [400,500]\n",
    "param7['classifier'] = [RandomForestRegressor()]\n",
    "\n",
    "\n",
    "##### GradientBoostingRegressor ######\n",
    "param8 = {}\n",
    "param8['classifier__n_estimators'] = [400,500] \n",
    "param8['classifier__min_samples_split'] = range(400,600,100)\n",
    "param8['classifier__min_samples_leaf'] = range(30,71,10)\n",
    "param8['classifier__learning_rate'] = [0.05]\n",
    "param8['classifier__max_depth'] = [4,5]\n",
    "param8['classifier__max_features'] = ['sqrt']\n",
    "param8['classifier__subsample'] = [0.7,0.8]\n",
    "param8['classifier'] = [GradientBoostingRegressor()]\n",
    "\n",
    "\n",
    "##### LinearSVR ######\n",
    "# param9 = {}\n",
    "# param9['classifier__C'] = [10**-2, 10**-1, 10**0, 10**1, 10**2] \n",
    "# param9['classifier__epsilon'] = [0.0,0.2,0.5,1]\n",
    "# param9['classifier'] = [LinearSVR()]"
   ]
  },
  {
   "cell_type": "code",
   "execution_count": null,
   "metadata": {
    "execution": {
     "iopub.execute_input": "2023-01-28T12:08:50.554324Z",
     "iopub.status.busy": "2023-01-28T12:08:50.553596Z",
     "iopub.status.idle": "2023-01-28T12:08:50.559684Z",
     "shell.execute_reply": "2023-01-28T12:08:50.558652Z",
     "shell.execute_reply.started": "2023-01-28T12:08:50.554284Z"
    },
    "id": "ptJz-yeCNYzM"
   },
   "outputs": [],
   "source": [
    "pipeline = pipe = Pipeline(steps=[(\"scaler\", CustomScaler(MEAN,STD)),\n",
    "                       (\"flatten\", FlattenTransformer()),\n",
    "                       (\"classifier\", LinearRegression())])\n",
    "# params = [param1, param2, param3, param4, param5, param6, param7, param8] \n",
    "params = [param5] # param1, param3, "
   ]
  },
  {
   "cell_type": "code",
   "execution_count": null,
   "metadata": {
    "execution": {
     "iopub.execute_input": "2023-01-28T12:08:50.565848Z",
     "iopub.status.busy": "2023-01-28T12:08:50.565029Z",
     "iopub.status.idle": "2023-01-28T15:58:42.590111Z",
     "shell.execute_reply": "2023-01-28T15:58:42.589073Z",
     "shell.execute_reply.started": "2023-01-28T12:08:50.565811Z"
    },
    "id": "f3NqYDHctRC5",
    "outputId": "fce00df5-ed87-44c6-82ee-a981e4e7d173"
   },
   "outputs": [],
   "source": [
    "%%time\n",
    "# Train the grid search model\n",
    "grid_search = GridSearchCV(pipeline, params, cv=3, scoring='neg_mean_squared_error').fit(train_images,train_biomasses)"
   ]
  },
  {
   "cell_type": "code",
   "execution_count": null,
   "metadata": {
    "execution": {
     "iopub.execute_input": "2023-01-28T15:58:42.592887Z",
     "iopub.status.busy": "2023-01-28T15:58:42.592272Z",
     "iopub.status.idle": "2023-01-28T15:58:42.601774Z",
     "shell.execute_reply": "2023-01-28T15:58:42.600820Z",
     "shell.execute_reply.started": "2023-01-28T15:58:42.592851Z"
    },
    "id": "GKM3uy2Cth2W",
    "outputId": "7681e1c0-6645-4f19-9dc7-7cbf04e0b73b"
   },
   "outputs": [],
   "source": [
    "# Best performing model and its corresponding hyperparameters\n",
    "grid_search.best_params_"
   ]
  },
  {
   "cell_type": "code",
   "execution_count": null,
   "metadata": {
    "execution": {
     "iopub.execute_input": "2023-01-28T15:58:42.603833Z",
     "iopub.status.busy": "2023-01-28T15:58:42.603434Z",
     "iopub.status.idle": "2023-01-28T15:58:46.016240Z",
     "shell.execute_reply": "2023-01-28T15:58:46.015130Z",
     "shell.execute_reply.started": "2023-01-28T15:58:42.603798Z"
    },
    "id": "Ohdx1LKttk2y",
    "outputId": "8cb3330d-7400-4680-a568-297323538b8f"
   },
   "outputs": [],
   "source": [
    "model = grid_search.best_estimator_\n",
    "# predict\n",
    "pred = model.predict(train_images)\n",
    "\n",
    "# validate mse error\n",
    "mse = mean_squared_error(train_biomasses, pred) \n",
    "rmse = np.sqrt(mse)\n",
    "\n",
    "print(mse, rmse)"
   ]
  },
  {
   "cell_type": "code",
   "execution_count": null,
   "metadata": {
    "execution": {
     "iopub.execute_input": "2023-01-28T15:58:46.022988Z",
     "iopub.status.busy": "2023-01-28T15:58:46.020785Z",
     "iopub.status.idle": "2023-01-28T15:58:46.028973Z",
     "shell.execute_reply": "2023-01-28T15:58:46.027987Z",
     "shell.execute_reply.started": "2023-01-28T15:58:46.022923Z"
    },
    "id": "J_tglR13QaEs"
   },
   "outputs": [],
   "source": [
    "# 2802.6255438618155 52.939829465741724"
   ]
  },
  {
   "cell_type": "code",
   "execution_count": null,
   "metadata": {
    "execution": {
     "iopub.execute_input": "2023-01-28T15:58:46.032832Z",
     "iopub.status.busy": "2023-01-28T15:58:46.032449Z",
     "iopub.status.idle": "2023-01-28T15:58:46.662286Z",
     "shell.execute_reply": "2023-01-28T15:58:46.661257Z",
     "shell.execute_reply.started": "2023-01-28T15:58:46.032778Z"
    },
    "id": "3vFO06ZYISof",
    "outputId": "72230b12-8220-4ede-8815-64f6ae1fb7bb"
   },
   "outputs": [],
   "source": [
    "model = grid_search.best_estimator_\n",
    "# predict\n",
    "pred = model.predict(validate_images)\n",
    "\n",
    "# validate mse error\n",
    "mse = mean_squared_error(validate_biomasses, pred) \n",
    "rmse = np.sqrt(mse)\n",
    "\n",
    "print(mse, rmse)"
   ]
  },
  {
   "cell_type": "code",
   "execution_count": null,
   "metadata": {
    "execution": {
     "iopub.execute_input": "2023-01-28T15:58:46.664294Z",
     "iopub.status.busy": "2023-01-28T15:58:46.663667Z",
     "iopub.status.idle": "2023-01-28T15:58:46.669512Z",
     "shell.execute_reply": "2023-01-28T15:58:46.668049Z",
     "shell.execute_reply.started": "2023-01-28T15:58:46.664255Z"
    },
    "id": "HdVaEXJPQdi2"
   },
   "outputs": [],
   "source": [
    "# 3790.385611052348 61.56610764903323"
   ]
  },
  {
   "cell_type": "markdown",
   "metadata": {
    "id": "pdAypOP5BkR_"
   },
   "source": [
    "### Predict GIZ Biomass"
   ]
  },
  {
   "cell_type": "code",
   "execution_count": null,
   "metadata": {
    "execution": {
     "iopub.execute_input": "2023-01-28T15:58:46.671544Z",
     "iopub.status.busy": "2023-01-28T15:58:46.671067Z",
     "iopub.status.idle": "2023-01-28T15:58:46.699103Z",
     "shell.execute_reply": "2023-01-28T15:58:46.697540Z",
     "shell.execute_reply.started": "2023-01-28T15:58:46.671506Z"
    },
    "id": "5LDX4p2XBoz2",
    "outputId": "eafbbcb9-80df-4459-fb19-f14627b59c69"
   },
   "outputs": [],
   "source": [
    "s2_images_h5 = h5py.File(\"/kaggle/input/biomass-data/images_test.h5\", \"r\")\n",
    "s2_images_h5"
   ]
  },
  {
   "cell_type": "code",
   "execution_count": null,
   "metadata": {
    "execution": {
     "iopub.execute_input": "2023-01-28T15:58:46.701179Z",
     "iopub.status.busy": "2023-01-28T15:58:46.700914Z",
     "iopub.status.idle": "2023-01-28T15:58:46.716715Z",
     "shell.execute_reply": "2023-01-28T15:58:46.715871Z",
     "shell.execute_reply.started": "2023-01-28T15:58:46.701148Z"
    },
    "id": "PG3shy0oDS4A"
   },
   "outputs": [],
   "source": [
    "#prepare test set sentinel 2 images \n",
    "s2_images = np.array(s2_images_h5[\"images\"])\n",
    "s2_images = s2_images.transpose(0,3,1,2)"
   ]
  },
  {
   "cell_type": "code",
   "execution_count": null,
   "metadata": {
    "execution": {
     "iopub.execute_input": "2023-01-28T15:58:46.718526Z",
     "iopub.status.busy": "2023-01-28T15:58:46.718180Z",
     "iopub.status.idle": "2023-01-28T15:58:46.733846Z",
     "shell.execute_reply": "2023-01-28T15:58:46.733020Z",
     "shell.execute_reply.started": "2023-01-28T15:58:46.718491Z"
    },
    "id": "isgLQGyKBde1",
    "outputId": "ed8b449b-d45f-4030-faa8-3e5b38c72173"
   },
   "outputs": [],
   "source": [
    "s2_images"
   ]
  },
  {
   "cell_type": "code",
   "execution_count": null,
   "metadata": {
    "execution": {
     "iopub.execute_input": "2023-01-28T15:58:46.738514Z",
     "iopub.status.busy": "2023-01-28T15:58:46.738257Z",
     "iopub.status.idle": "2023-01-28T15:58:46.760414Z",
     "shell.execute_reply": "2023-01-28T15:58:46.759569Z",
     "shell.execute_reply.started": "2023-01-28T15:58:46.738489Z"
    },
    "id": "F5uan3E8DpEU"
   },
   "outputs": [],
   "source": [
    "# predict on giz test data\n",
    "# pred_giz = pipe.predict(s2_images)\n",
    "pred_giz = model.predict(s2_images)"
   ]
  },
  {
   "cell_type": "code",
   "execution_count": null,
   "metadata": {
    "execution": {
     "iopub.execute_input": "2023-01-28T15:58:46.763049Z",
     "iopub.status.busy": "2023-01-28T15:58:46.762488Z",
     "iopub.status.idle": "2023-01-28T15:58:46.800698Z",
     "shell.execute_reply": "2023-01-28T15:58:46.799787Z",
     "shell.execute_reply.started": "2023-01-28T15:58:46.763015Z"
    },
    "id": "WD4IyJWvGgzo"
   },
   "outputs": [],
   "source": [
    "ID_S2_pair = pd.read_csv('/kaggle/input/biomass-data/UniqueID-SentinelPair.csv')\n",
    "\n",
    "preds = pd.DataFrame({'Target':pred_giz}).rename_axis('S2_idx').reset_index()\n",
    "preds = ID_S2_pair.merge(preds, on='S2_idx').drop(columns=['S2_idx'])\n",
    "preds['Target'] = preds['Target'].round().astype(int)"
   ]
  },
  {
   "cell_type": "code",
   "execution_count": null,
   "metadata": {
    "execution": {
     "iopub.execute_input": "2023-01-28T15:58:46.802422Z",
     "iopub.status.busy": "2023-01-28T15:58:46.802060Z",
     "iopub.status.idle": "2023-01-28T15:58:46.810378Z",
     "shell.execute_reply": "2023-01-28T15:58:46.809371Z",
     "shell.execute_reply.started": "2023-01-28T15:58:46.802387Z"
    },
    "id": "_zMlJsmG-rMO"
   },
   "outputs": [],
   "source": [
    "preds.to_csv('GIZ_Biomass_predictions.csv', index=False)"
   ]
  },
  {
   "cell_type": "code",
   "execution_count": null,
   "metadata": {
    "execution": {
     "iopub.execute_input": "2023-01-28T15:58:46.812410Z",
     "iopub.status.busy": "2023-01-28T15:58:46.812046Z",
     "iopub.status.idle": "2023-01-28T15:58:46.825252Z",
     "shell.execute_reply": "2023-01-28T15:58:46.824198Z",
     "shell.execute_reply.started": "2023-01-28T15:58:46.812375Z"
    },
    "id": "9AYlcFAhTiHi",
    "outputId": "fbbf4a33-715c-4b62-80d9-705e077b422f"
   },
   "outputs": [],
   "source": [
    "preds.head()"
   ]
  },
  {
   "cell_type": "code",
   "execution_count": null,
   "metadata": {
    "execution": {
     "iopub.execute_input": "2023-01-28T15:58:46.827290Z",
     "iopub.status.busy": "2023-01-28T15:58:46.826923Z",
     "iopub.status.idle": "2023-01-28T15:58:46.836615Z",
     "shell.execute_reply": "2023-01-28T15:58:46.835527Z",
     "shell.execute_reply.started": "2023-01-28T15:58:46.827252Z"
    },
    "id": "eBFtX_6LBolA",
    "outputId": "877b7940-3f8c-43de-ee53-cc9bf299b1b8"
   },
   "outputs": [],
   "source": [
    "import os\n",
    "os.chdir(r'./')\n",
    "\n",
    "preds.to_csv(r'xgbregressor_v2.csv', index=False)\n",
    "\n",
    "from IPython.display import FileLink\n",
    "FileLink(r'xgbregressor_v2.csv') "
   ]
  },
  {
   "cell_type": "code",
   "execution_count": null,
   "metadata": {
    "id": "Y1DccXXSPDKd"
   },
   "outputs": [],
   "source": []
  },
  {
   "cell_type": "code",
   "execution_count": null,
   "metadata": {
    "id": "8twTsgYMPDHh"
   },
   "outputs": [],
   "source": []
  },
  {
   "cell_type": "code",
   "execution_count": null,
   "metadata": {
    "id": "QVnc88AkPG2f"
   },
   "outputs": [],
   "source": []
  },
  {
   "cell_type": "code",
   "execution_count": null,
   "metadata": {
    "id": "2XgyPPZgPGz-"
   },
   "outputs": [],
   "source": []
  },
  {
   "cell_type": "code",
   "execution_count": null,
   "metadata": {
    "id": "w7ktobtdPGxf"
   },
   "outputs": [],
   "source": []
  },
  {
   "cell_type": "code",
   "execution_count": null,
   "metadata": {
    "id": "MG7EMMI9PGvK"
   },
   "outputs": [],
   "source": []
  },
  {
   "cell_type": "code",
   "execution_count": null,
   "metadata": {
    "execution": {
     "iopub.execute_input": "2023-01-28T15:58:46.838638Z",
     "iopub.status.busy": "2023-01-28T15:58:46.838311Z",
     "iopub.status.idle": "2023-01-28T15:58:46.847581Z",
     "shell.execute_reply": "2023-01-28T15:58:46.846486Z",
     "shell.execute_reply.started": "2023-01-28T15:58:46.838583Z"
    },
    "id": "oExg6jCHPGsl"
   },
   "outputs": [],
   "source": [
    "# # Number of trees in random forest\n",
    "# n_estimators = [int(x) for x in np.linspace(start = 200, stop = 2000, num = 10)]\n",
    "# # Number of features to consider at every split\n",
    "# max_features = ['auto', 'sqrt']\n",
    "# # Maximum number of levels in tree\n",
    "# max_depth = [int(x) for x in np.linspace(10, 110, num = 11)]\n",
    "# max_depth.append(None)\n",
    "# # Minimum number of samples required to split a node\n",
    "# min_samples_split = [2, 5, 10]\n",
    "# # Minimum number of samples required at each leaf node\n",
    "# min_samples_leaf = [1, 2, 4]"
   ]
  },
  {
   "cell_type": "code",
   "execution_count": null,
   "metadata": {
    "id": "Yk6a5AnqPGpr"
   },
   "outputs": [],
   "source": []
  }
 ],
 "metadata": {
  "accelerator": "GPU",
  "colab": {
   "provenance": []
  },
  "gpuClass": "standard",
  "kernelspec": {
   "display_name": "Python 3 (ipykernel)",
   "language": "python",
   "name": "python3"
  },
  "language_info": {
   "codemirror_mode": {
    "name": "ipython",
    "version": 3
   },
   "file_extension": ".py",
   "mimetype": "text/x-python",
   "name": "python",
   "nbconvert_exporter": "python",
   "pygments_lexer": "ipython3",
   "version": "3.9.7"
  }
 },
 "nbformat": 4,
 "nbformat_minor": 1
}
