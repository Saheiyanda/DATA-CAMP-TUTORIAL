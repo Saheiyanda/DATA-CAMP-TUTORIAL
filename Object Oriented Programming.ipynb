{
 "cells": [
  {
   "cell_type": "code",
   "execution_count": 1,
   "id": "3353857e",
   "metadata": {},
   "outputs": [],
   "source": [
    "import pandas as pd\n",
    "import numpy as np\n",
    "\n",
    "class Arithmetic():\n",
    "    def __init__(self, x, y):\n",
    "        self.x = x\n",
    "        self.y = y\n",
    "        \n",
    "    def add(self):\n",
    "        return self.x + self.y\n",
    "      \n",
    "    def multiply(self,x,y):\n",
    "        return self.x * self.y\n",
    "        self.x * self.y\n",
    "\n",
    "\n",
    "        "
   ]
  },
  {
   "cell_type": "code",
   "execution_count": 3,
   "id": "cf46cf31",
   "metadata": {},
   "outputs": [
    {
     "data": {
      "text/plain": [
       "6"
      ]
     },
     "execution_count": 3,
     "metadata": {},
     "output_type": "execute_result"
    }
   ],
   "source": [
    "a = Arithmetic(3,2)\n",
    "a.add()\n",
    "a.multiply(3,2)"
   ]
  },
  {
   "cell_type": "code",
   "execution_count": 4,
   "id": "728d90c2",
   "metadata": {},
   "outputs": [
    {
     "data": {
      "text/plain": [
       "5"
      ]
     },
     "execution_count": 4,
     "metadata": {},
     "output_type": "execute_result"
    }
   ],
   "source": [
    "a.add()"
   ]
  },
  {
   "cell_type": "code",
   "execution_count": 3,
   "id": "f75b9626",
   "metadata": {},
   "outputs": [
    {
     "data": {
      "text/plain": [
       "4"
      ]
     },
     "execution_count": 3,
     "metadata": {},
     "output_type": "execute_result"
    }
   ],
   "source": [
    "b = Arithmetic(4, 6)\n",
    "b.x"
   ]
  },
  {
   "cell_type": "code",
   "execution_count": 4,
   "id": "00ec4414",
   "metadata": {},
   "outputs": [],
   "source": [
    "class Account():\n",
    "    def __init__(self,owner, balance):\n",
    "        self.owner = owner\n",
    "        self.balance = balance\n",
    "        \n",
    "    def deposit(self,dep_amt):\n",
    "        self.balance = self.balance + dep_amt\n",
    "        return f\"a sum of {self.balance} is available\"\n",
    "    \n",
    "    def Withdrawal(self,withd_amt):\n",
    "        if self.balance >= withd_amt:\n",
    "            self.balance = self.balance - withd_amt\n",
    "            return f'withdrawal of {withd_amt} is completed'\n",
    "        else:\n",
    "            print('insufficient fund')\n",
    "            \n",
    "#     def __str__(self):\n",
    "            return f'owner:{self.owner}\\n Baance:{self.balance}'"
   ]
  },
  {
   "cell_type": "code",
   "execution_count": 5,
   "id": "cf795305",
   "metadata": {},
   "outputs": [],
   "source": [
    "a = Account('saheed', 1000)"
   ]
  },
  {
   "cell_type": "code",
   "execution_count": 6,
   "id": "926e8acc",
   "metadata": {},
   "outputs": [
    {
     "data": {
      "text/plain": [
       "'a sum of 1500 is available'"
      ]
     },
     "execution_count": 6,
     "metadata": {},
     "output_type": "execute_result"
    }
   ],
   "source": [
    "a.deposit(500)"
   ]
  },
  {
   "cell_type": "code",
   "execution_count": 7,
   "id": "3005cc75",
   "metadata": {},
   "outputs": [
    {
     "name": "stdout",
     "output_type": "stream",
     "text": [
      "saheed \n",
      " 1500\n"
     ]
    }
   ],
   "source": [
    "print(a.owner,'\\n', a.balance)"
   ]
  },
  {
   "cell_type": "code",
   "execution_count": 8,
   "id": "ce940712",
   "metadata": {},
   "outputs": [
    {
     "data": {
      "text/plain": [
       "'withdrawal of 1000 is completed'"
      ]
     },
     "execution_count": 8,
     "metadata": {},
     "output_type": "execute_result"
    }
   ],
   "source": [
    "a.Withdrawal(1000)"
   ]
  },
  {
   "cell_type": "code",
   "execution_count": 9,
   "id": "8cb9799d",
   "metadata": {},
   "outputs": [
    {
     "name": "stdout",
     "output_type": "stream",
     "text": [
      "insufficient fund\n"
     ]
    },
    {
     "data": {
      "text/plain": [
       "'owner:saheed\\n Baance:500'"
      ]
     },
     "execution_count": 9,
     "metadata": {},
     "output_type": "execute_result"
    }
   ],
   "source": [
    "a.Withdrawal(600)"
   ]
  },
  {
   "cell_type": "code",
   "execution_count": 10,
   "id": "ddde460b",
   "metadata": {},
   "outputs": [],
   "source": [
    "class Mycounter():\n",
    "    \n",
    "    def set_count(self, n):\n",
    "        self.count = n\n",
    "        "
   ]
  },
  {
   "cell_type": "code",
   "execution_count": 11,
   "id": "d488dbb6",
   "metadata": {},
   "outputs": [
    {
     "data": {
      "text/plain": [
       "11"
      ]
     },
     "execution_count": 11,
     "metadata": {},
     "output_type": "execute_result"
    }
   ],
   "source": [
    "mc = Mycounter()\n",
    "mc.set_count(10)\n",
    "mc.count = mc.count + 1\n",
    "mc.count\n"
   ]
  },
  {
   "cell_type": "code",
   "execution_count": 12,
   "id": "a73ac07a",
   "metadata": {},
   "outputs": [],
   "source": [
    " # Create an empty class Employee\n",
    "class Employee:\n",
    "    pass\n",
    "\n",
    "# Create an object emp of class Employee  \n",
    "emp = Employee()\n",
    "    "
   ]
  },
  {
   "cell_type": "code",
   "execution_count": 13,
   "id": "f20af1a8",
   "metadata": {},
   "outputs": [
    {
     "name": "stdout",
     "output_type": "stream",
     "text": [
      "Korel Rossi\n"
     ]
    }
   ],
   "source": [
    "# Include a set_name method\n",
    "class Employee:\n",
    "  \n",
    "  def set_name(self, new_name):\n",
    "\n",
    "    self.name = new_name\n",
    "\n",
    "# Create an object emp of class Employee  \n",
    "emp = Employee()\n",
    "\n",
    "# Use set_name() on emp to set the name of emp to 'Korel Rossi'\n",
    "emp.set_name('Korel Rossi')\n",
    "\n",
    "# Print the name of emp\n",
    "print(emp.name)"
   ]
  },
  {
   "cell_type": "code",
   "execution_count": 14,
   "id": "e82d51ee",
   "metadata": {},
   "outputs": [
    {
     "data": {
      "text/plain": [
       "50000"
      ]
     },
     "execution_count": 14,
     "metadata": {},
     "output_type": "execute_result"
    }
   ],
   "source": [
    "class Employee:\n",
    "  \n",
    "  def set_name(self, new_name):\n",
    "    self.name = new_name\n",
    "  \n",
    "  # Add set_salary() method\n",
    "  def set_salary(self,new_salary):\n",
    "    self.salary = new_salary  \n",
    "  \n",
    "# Create an object emp of class Employee  \n",
    "emp = Employee()\n",
    "\n",
    "# Use set_name to set the name of emp to 'Korel Rossi'\n",
    "emp.set_name('Korel Rossi')\n",
    "\n",
    "# Set the salary of emp to 50000\n",
    "emp.set_salary(50000)\n",
    "emp.salary\n"
   ]
  },
  {
   "cell_type": "code",
   "execution_count": 15,
   "id": "c2071ccf",
   "metadata": {},
   "outputs": [
    {
     "name": "stdout",
     "output_type": "stream",
     "text": [
      "50000\n",
      "51500\n"
     ]
    }
   ],
   "source": [
    "class Employee:\n",
    "    def set_name(self, new_name):\n",
    "        self.name = new_name\n",
    "\n",
    "    def set_salary(self, new_salary):\n",
    "        self.salary = new_salary \n",
    "  \n",
    "emp = Employee()\n",
    "emp.set_name('Korel Rossi')\n",
    "emp.set_salary(50000)\n",
    "\n",
    "# Print the salary attribute of emp\n",
    "print(emp.salary)\n",
    "\n",
    "# Increase salary of emp by 1500\n",
    "emp.salary = 50000 + 1500\n",
    "\n",
    "# Print the salary attribute of emp again\n",
    "print(emp.salary)"
   ]
  },
  {
   "cell_type": "code",
   "execution_count": 16,
   "id": "375c533b",
   "metadata": {},
   "outputs": [
    {
     "name": "stdout",
     "output_type": "stream",
     "text": [
      "50000\n",
      "51500\n"
     ]
    }
   ],
   "source": [
    "class Employee:\n",
    "    def set_name(self, new_name):\n",
    "        self.name = new_name\n",
    "\n",
    "    def set_salary(self, new_salary):\n",
    "        self.salary = new_salary \n",
    "\n",
    "    # Add a give_raise() method with raise amount as a parameter\n",
    "    def give_raise(self, amount):\n",
    "        self.salary = self.salary + amount\n",
    "\n",
    "emp = Employee()\n",
    "emp.set_name('Korel Rossi')\n",
    "emp.set_salary(50000)\n",
    "\n",
    "print(emp.salary)\n",
    "emp.give_raise(1500)\n",
    "print(emp.salary)"
   ]
  },
  {
   "cell_type": "code",
   "execution_count": 17,
   "id": "12a89e2b",
   "metadata": {},
   "outputs": [
    {
     "name": "stdout",
     "output_type": "stream",
     "text": [
      "Buddy says Woof!\n",
      "Kitty says Meow!\n",
      "Buddy says Woof!\n",
      "Kitty says Meow!\n"
     ]
    }
   ],
   "source": [
    "# An example using a basic Animal class and some derived classes\n",
    "\n",
    "# Base class\n",
    "class Animal:\n",
    "    def __init__(self, name):\n",
    "        self.name = name\n",
    "\n",
    "    def speak(self):\n",
    "        pass  # Abstract method\n",
    "\n",
    "# Derived class\n",
    "class Dog(Animal):\n",
    "    def speak(self):\n",
    "        return \"Woof!\"\n",
    "\n",
    "# Another derived class\n",
    "class Cat(Animal):\n",
    "    def speak(self):\n",
    "        return \"Meow!\"\n",
    "\n",
    "# Now, let's see them in action\n",
    "dog = Dog(\"Buddy\")\n",
    "cat = Cat(\"Kitty\")\n",
    "\n",
    "print(dog.name, \"says\", dog.speak())  # Buddy says Woof!\n",
    "print(cat.name, \"says\", cat.speak())  # Kitty says Meow!\n",
    "\n",
    "animals = [dog, cat]\n",
    "for animal in animals:\n",
    "    print(animal.name, \"says\", animal.speak())\n"
   ]
  },
  {
   "cell_type": "code",
   "execution_count": 18,
   "id": "24a5ff90",
   "metadata": {},
   "outputs": [
    {
     "ename": "TypeError",
     "evalue": "__init__() missing 1 required positional argument: 'name'",
     "output_type": "error",
     "traceback": [
      "\u001b[1;31m---------------------------------------------------------------------------\u001b[0m",
      "\u001b[1;31mTypeError\u001b[0m                                 Traceback (most recent call last)",
      "\u001b[1;32mC:\\Users\\SAHEED~1\\AppData\\Local\\Temp/ipykernel_9724/3194952816.py\u001b[0m in \u001b[0;36m<module>\u001b[1;34m\u001b[0m\n\u001b[1;32m----> 1\u001b[1;33m \u001b[0mcat\u001b[0m \u001b[1;33m=\u001b[0m \u001b[0mAnimal\u001b[0m\u001b[1;33m(\u001b[0m\u001b[1;33m)\u001b[0m\u001b[1;33m\u001b[0m\u001b[1;33m\u001b[0m\u001b[0m\n\u001b[0m\u001b[0;32m      2\u001b[0m \u001b[0mcat\u001b[0m\u001b[1;33m.\u001b[0m\u001b[0mname\u001b[0m\u001b[1;33m\u001b[0m\u001b[1;33m\u001b[0m\u001b[0m\n",
      "\u001b[1;31mTypeError\u001b[0m: __init__() missing 1 required positional argument: 'name'"
     ]
    }
   ],
   "source": [
    "cat = Animal()\n",
    "cat.name"
   ]
  },
  {
   "cell_type": "code",
   "execution_count": null,
   "id": "1f6d196a",
   "metadata": {},
   "outputs": [],
   "source": [
    "class Employee:\n",
    "    def set_name(self, new_name):\n",
    "        self.name = new_name\n",
    "\n",
    "    def set_salary(self, new_salary):\n",
    "        self.salary = new_salary \n",
    "\n",
    "    def give_raise(self, amount):\n",
    "        self.salary = self.salary + amount\n",
    "\n",
    "    # Add monthly_salary method that returns 1/12th of salary attribute\n",
    "    def monthly_salary(self):\n",
    "        return self.salary / 12\n",
    "    \n",
    "emp = Employee()\n",
    "emp.set_name('Korel Rossi')\n",
    "emp.set_salary(50000)\n",
    "\n",
    "# Get monthly salary of emp and assign to mon_sal\n",
    "mon_sal = emp.monthly_salary()\n",
    "\n",
    "# Print mon_sal\n",
    "print(mon_sal)"
   ]
  },
  {
   "cell_type": "code",
   "execution_count": null,
   "id": "4a1d38c3",
   "metadata": {},
   "outputs": [],
   "source": [
    "class Counter:\n",
    "    def __init__(self, count, name):\n",
    "    \n",
    "        self.count = count\n",
    "        self.name = name"
   ]
  },
  {
   "cell_type": "code",
   "execution_count": null,
   "id": "c28b7803",
   "metadata": {},
   "outputs": [],
   "source": [
    "cus = Counter(0, 'Saheed')\n",
    "cus.count"
   ]
  },
  {
   "cell_type": "code",
   "execution_count": null,
   "id": "0c089276",
   "metadata": {},
   "outputs": [],
   "source": [
    "class Employee:\n",
    "  \n",
    "    def __init__(self, name, salary=0):\n",
    "        self.name = name\n",
    "        # Modify code below to check if salary is positive\n",
    "        if salary > 0:\n",
    "            self.salary = 0\n",
    "        else:\n",
    "            self.salary = 0\n",
    "            \n",
    "            print('Invalid salary')\n",
    "                \n",
    "        \n",
    "   # ...Other methods omitted for brevity ...\n",
    "      \n",
    "emp = Employee(\"Korel Rossi\", -1000)\n",
    "print(emp.name)\n",
    "print(emp.salary)"
   ]
  },
  {
   "cell_type": "code",
   "execution_count": null,
   "id": "e8fbff17",
   "metadata": {},
   "outputs": [],
   "source": [
    "# Import datetime from datetime\n",
    "from datetime import datetime\n",
    "\n",
    "class Employee:\n",
    "    \n",
    "    def __init__(self, name, salary=0,hire_date=datetime.today()):\n",
    "        self.name = name\n",
    "        if salary > 0:\n",
    "          self.salary = salary\n",
    "        else:\n",
    "          self.salary = 0\n",
    "          print(\"Invalid salary!\")\n",
    "          \n",
    "        # Add the hire_date attribute and set it to today's date\n",
    "        \n",
    "        self.hire_date = datetime.today()\n",
    "    def __str__(self):\n",
    "        return datetime.today()\n",
    "        \n",
    "   # ...Other methods omitted for brevity ...\n",
    "      \n",
    "emp = Employee(\"Korel Rossi\", -1000)\n",
    "print(emp.name)\n",
    "print(emp.salary)"
   ]
  },
  {
   "cell_type": "code",
   "execution_count": null,
   "id": "9952d25e",
   "metadata": {},
   "outputs": [],
   "source": [
    "class Point:\n",
    "    def __init__(self, x=0, y=0):\n",
    "        self.x = x\n",
    "        self.y= y\n",
    "\n",
    "    def distance_to_origin(self, x, y):\n",
    "        return (x**2 + y**2)**0.5"
   ]
  },
  {
   "cell_type": "code",
   "execution_count": null,
   "id": "9564b21e",
   "metadata": {},
   "outputs": [],
   "source": [
    "a = Point(2, 3)\n",
    "a.distance_to_origin(2,3)\n"
   ]
  },
  {
   "cell_type": "code",
   "execution_count": null,
   "id": "21a5f3b3",
   "metadata": {},
   "outputs": [],
   "source": [
    "# For use of np.sqrt\n",
    "import numpy as np\n",
    "\n",
    "class Point:\n",
    "    \"\"\" A point on a 2D plane\n",
    "    \n",
    "   Attributes\n",
    "    ----------\n",
    "    x : float, default 0.0. The x coordinate of the point        \n",
    "    y : float, default 0.0. The y coordinate of the point\n",
    "    \"\"\"\n",
    "    def __init__(self, x=0.0, y=0.0):\n",
    "      self.x = x\n",
    "      self.y = y\n",
    "      \n",
    "    def distance_to_origin(self):\n",
    "      \"\"\"Calculate distance from the point to the origin (0,0)\"\"\"\n",
    "      return np.sqrt(self.x ** 2 + self.y ** 2)\n",
    "    \n",
    "    def reflect(self, axis):\n",
    "      \"\"\"Reflect the point with respect to x or y axis.\"\"\"\n",
    "      if axis == \"x\":\n",
    "        self.y = - self.y\n",
    "      elif axis == \"y\":\n",
    "        self.x = - self.x\n",
    "      else:\n",
    "        print(\"The argument axis only accepts values 'x' and 'y'!\")"
   ]
  },
  {
   "cell_type": "code",
   "execution_count": null,
   "id": "b6c89347",
   "metadata": {},
   "outputs": [],
   "source": [
    "coor = Point(3,4)\n",
    "coor.distance_to_origin()"
   ]
  },
  {
   "cell_type": "code",
   "execution_count": null,
   "id": "b5cb79b1",
   "metadata": {},
   "outputs": [],
   "source": [
    "coor.reflect(5)"
   ]
  },
  {
   "cell_type": "code",
   "execution_count": null,
   "id": "123b8c6c",
   "metadata": {},
   "outputs": [],
   "source": [
    "class Player:\n",
    "    MAX_POSITION = 10\n",
    "    \n",
    "    def __init__(self):\n",
    "        self.position = 0\n",
    "\n",
    "    # Add a move() method with steps parameter\n",
    "    def move(self,steps):\n",
    "#         return steps\n",
    "    \n",
    "        if self.position + steps < Player.MAX_POSITION:\n",
    "            self.position += steps\n",
    "        else:\n",
    "            self.position = Player.MAX_POSITION\n",
    "    \n",
    "\n",
    "       \n",
    "    # This method provides a rudimentary visualization in the console    \n",
    "    def draw(self):\n",
    "        drawing = \"-\" * self.position + \"|\" +\"-\"*(Player.MAX_POSITION - self.position)\n",
    "        print(drawing)\n",
    "\n",
    "p = Player(); p.draw()\n",
    "p.move(4); p.draw()\n",
    "p.move(5); p.draw()\n",
    "p.move(3); p.draw()\n",
    "p.move(12);p.draw()"
   ]
  },
  {
   "cell_type": "code",
   "execution_count": null,
   "id": "98092ca7",
   "metadata": {},
   "outputs": [],
   "source": [
    "p=Player( )"
   ]
  },
  {
   "cell_type": "code",
   "execution_count": null,
   "id": "b77ffb32",
   "metadata": {},
   "outputs": [],
   "source": [
    "print(p.MAX_POSITION)"
   ]
  },
  {
   "cell_type": "code",
   "execution_count": null,
   "id": "eb3d536e",
   "metadata": {},
   "outputs": [],
   "source": [
    "Player.MAX_POSITION"
   ]
  },
  {
   "cell_type": "code",
   "execution_count": null,
   "id": "a490b32f",
   "metadata": {},
   "outputs": [],
   "source": [
    "print(p.move(12))"
   ]
  },
  {
   "cell_type": "code",
   "execution_count": null,
   "id": "53d39700",
   "metadata": {},
   "outputs": [],
   "source": [
    "class Player:\n",
    "\n",
    "    \n",
    "    MAX_SPEED = 3\n",
    "    \n",
    "def __init__(self,amount):\n",
    "    self.amount = amount\n",
    "    \n",
    "    "
   ]
  },
  {
   "cell_type": "code",
   "execution_count": null,
   "id": "8f6419a3",
   "metadata": {},
   "outputs": [],
   "source": [
    "\n",
    "# Define the Player class with an attribute MAX_SPEED\n",
    "class Player:\n",
    "    MAX_SPEED = 10\n",
    "\n",
    "# Create Players p1 and p2\n",
    "p1 = Player()\n",
    "p2 = Player()\n",
    "\n",
    "print(\"MAX_SPEED of p1 and p2 before assignment:\")\n",
    "# Print p1.MAX_SPEED and p2.MAX_SPEED\n",
    "print(p1.MAX_SPEED)\n",
    "print(p2.MAX_SPEED)\n",
    "\n",
    "# Modify the MAX_SPEED attribute for the p1 instance\n",
    "p1.MAX_SPEED = 7\n",
    "\n",
    "print(\"MAX_SPEED of p1 and p2 after assignment:\")\n",
    "# Print p1.MAX_SPEED and p2.MAX_SPEED\n",
    "print(p1.MAX_SPEED)\n",
    "print(p2.MAX_SPEED)\n",
    "\n",
    "print(\"MAX_SPEED of Player class:\")\n",
    "# Print Player.MAX_SPEED\n",
    "print(Player.MAX_SPEED)\n"
   ]
  },
  {
   "cell_type": "markdown",
   "id": "2e6a4bb2",
   "metadata": {},
   "source": [
    "Even though MAX_SPEED is shared across instances, assigning 7 to p1.MAX_SPEED didn't change the value of MAX_SPEED in p2, or in the Player class.\n",
    "\n",
    "So what happened? In fact, Python created a new instance attribute in p1, also called it MAX_SPEED, and assigned 7 to it, without touching the class attribute.\n",
    "\n"
   ]
  },
  {
   "cell_type": "code",
   "execution_count": null,
   "id": "86d19d94",
   "metadata": {},
   "outputs": [],
   "source": [
    "# Define the Player class with an attribute MAX_SPEED\n",
    "class Player:\n",
    "    MAX_SPEED = 10\n",
    "\n",
    "# Create Players p1 and p2\n",
    "p1 = Player()\n",
    "p2 = Player()\n",
    "print(\"MAX_SPEED of p1 and p2 before assignment:\")\n",
    "# Print p1.MAX_SPEED and p2.MAX_SPEED\n",
    "print(p1.MAX_SPEED)\n",
    "print(p2.MAX_SPEED)\n",
    "\n",
    "# ---MODIFY THIS LINE--- \n",
    "Player.MAX_SPEED = 7\n",
    "\n",
    "print(\"MAX_SPEED of p1 and p2 after assignment:\")\n",
    "# Print p1.MAX_SPEED and p2.MAX_SPEED\n",
    "print(p1.MAX_SPEED)\n",
    "print(p2.MAX_SPEED)\n",
    "\n",
    "print(\"MAX_SPEED of Player:\")\n",
    "# Print Player.MAX_SPEED\n",
    "print(Player.MAX_SPEED)"
   ]
  },
  {
   "cell_type": "code",
   "execution_count": null,
   "id": "7c608d53",
   "metadata": {},
   "outputs": [],
   "source": [
    "class BetterDate:    \n",
    "    # Constructor\n",
    "    def __init__(self, year, month, day):\n",
    "      # Recall that Python allows multiple variable assignments in one line\n",
    "      self.year, self.month, self.day = year, month, day\n",
    "    \n",
    "    # Define a class method from_str\n",
    "    @classmethod\n",
    "    def from_str(cls, datestr):\n",
    "        # Split the string at \"-\" and convert each part to integer\n",
    "        parts = datestr.split(\"-\")\n",
    "        year, month, day = int(parts[0]), int(parts[1]), int(parts[2])\n",
    "        # Return the class instance\n",
    "        return cls(year, month, day)\n",
    "        \n",
    "bd = BetterDate.from_str('2020-04-30')   \n",
    "print(bd.year)\n",
    "print(bd.month)\n",
    "print(bd.day)"
   ]
  },
  {
   "cell_type": "code",
   "execution_count": null,
   "id": "f4708108",
   "metadata": {},
   "outputs": [],
   "source": [
    "# import datetime from datetime\n",
    "from datetime import datetime\n",
    "\n",
    "class BetterDate:\n",
    "    def __init__(self, year, month, day):\n",
    "      self.year, self.month, self.day = year, month, day\n",
    "      \n",
    "    @classmethod\n",
    "    def from_str(cls, datestr):\n",
    "        year, month, day = map(int, datestr.split(\"-\"))\n",
    "        return cls(year, month, day)\n",
    "      \n",
    "    # Define a class method from_datetime accepting a datetime object\n",
    "    @classmethod\n",
    "    def from_datetime(cls, datetime_obj):   # Renamed the parameter to datetime_obj\n",
    "       year, month, day = datetime_obj.year, datetime_obj.month, datetime_obj.day\n",
    "       return cls(year, month, day)         # Return an instance of BetterDate\n",
    "\n",
    "# You should be able to run the code below with no errors: \n",
    "today = datetime.today()     \n",
    "bd = BetterDate.from_datetime(today)   \n",
    "print(bd.year)\n",
    "print(bd.month)\n",
    "print(bd.day)\n",
    "# Now the code should work as expected and print the current year, month, and day.\n",
    "\n",
    "\n",
    "\n",
    "\n",
    "\n",
    "\n"
   ]
  },
  {
   "cell_type": "code",
   "execution_count": null,
   "id": "0a8ab53c",
   "metadata": {},
   "outputs": [],
   "source": [
    "class Circle():\n",
    "    \n",
    "    pie = 3.142\n",
    "    \n",
    "    def __init__(self, radius):\n",
    "        \n",
    "    \n",
    "         self.r=radius\n",
    "   \n",
    "    \n",
    "    def Area(self):\n",
    "        \n",
    "        return self.pie * (self.r)**2\n",
    "\n",
    "    def Circum(self):\n",
    "            \n",
    "        return self.pie * self.r * 2"
   ]
  },
  {
   "cell_type": "code",
   "execution_count": null,
   "id": "52830ac2",
   "metadata": {},
   "outputs": [],
   "source": [
    "k = Circle(4)\n",
    "print(k.Area())\n",
    "print(k.Circum())"
   ]
  },
  {
   "cell_type": "code",
   "execution_count": null,
   "id": "c2754459",
   "metadata": {},
   "outputs": [],
   "source": [
    "K.radius"
   ]
  },
  {
   "cell_type": "code",
   "execution_count": null,
   "id": "b8a5e87a",
   "metadata": {},
   "outputs": [],
   "source": [
    "# Base Class\n",
    "class Animal:\n",
    "    def __init__(self, name):\n",
    "        self.name = name\n",
    "        \n",
    "    def speak(self):\n",
    "        raise NotImplementedError(\"Subclasses should implement this method!\")\n",
    "\n",
    "# Derived Class\n",
    "class Dog(Animal):\n",
    "    def speak(self):\n",
    "        return f\"{self.name} says Woof!\"\n",
    "\n",
    "class Cat(Animal):\n",
    "    def speak(self):\n",
    "        return f\"{self.name} says Meow!\"\n",
    "\n",
    "# Create instances\n",
    "dog = Dog(\"Buddy\")\n",
    "cat = Cat(\"Kitty\")\n",
    "\n",
    "print(dog.speak())  # Output: Buddy says Woof!\n",
    "print(cat.speak())  # Output: Kitty says Meow!\n",
    "\n",
    "# Animal is the base (or parent) class.\n",
    "# Dog and Cat are derived (or child) classes.\n",
    "# The speak method in the Animal class is a general method that raises an error, suggesting that any subclass of Animal should provide its specific implementation. This is a form of polymorphism.\n",
    "# Both Dog and Cat classes provide their specific implementations of the speak method, which are different from each other.\n",
    "# Inheritance allows the derived classes (Dog and Cat) to reuse the code from the base class (Animal) and also provide their unique implementations. This avoids code duplication and makes the code more structured and maintainable.\n",
    "\n",
    "\n",
    "\n",
    "\n",
    "\n",
    "\n"
   ]
  },
  {
   "cell_type": "code",
   "execution_count": null,
   "id": "74443e00",
   "metadata": {},
   "outputs": [],
   "source": [
    "class Employee:\n",
    "  MIN_SALARY = 30000    \n",
    "\n",
    "  def __init__(self, name, salary=MIN_SALARY):\n",
    "      self.name = name\n",
    "      if salary >= Employee.MIN_SALARY:\n",
    "        self.salary = salary\n",
    "      else:\n",
    "        self.salary = Employee.MIN_SALARY\n",
    "        \n",
    "  def give_raise(self, amount):\n",
    "      self.salary += amount      \n",
    "        \n",
    "# Define a new class Manager inheriting from Employee\n",
    "# MODIFY Manager class and add a display method\n",
    "class Manager(Employee):\n",
    "    def display(self):\n",
    "        return f' Manager {self.name}'\n",
    "\n",
    "  \n",
    "\n",
    "\n",
    "# Define a Manager object\n",
    "# MODIFY Manager class and add a display method\n",
    "mng = Manager('Debbie Lashko',86500)\n",
    "\n",
    "# Print mng's name\n",
    "print(mng.name)\n",
    "print(mng.display())"
   ]
  },
  {
   "cell_type": "code",
   "execution_count": null,
   "id": "d22ff021",
   "metadata": {},
   "outputs": [],
   "source": [
    "mng = Manager('Debbie Lashko',86500)\n",
    "print(mng)"
   ]
  },
  {
   "cell_type": "code",
   "execution_count": null,
   "id": "14fef7e7",
   "metadata": {},
   "outputs": [],
   "source": [
    "class Employee:\n",
    "    def __init__(self, name, salary=30000):\n",
    "        self.name = name\n",
    "        self.salary = salary\n",
    "\n",
    "    def give_raise(self, amount):\n",
    "        self.salary += amount\n",
    "\n",
    "        \n",
    "class Manager(Employee):\n",
    "    def __init__(self, name, salary=50000, project=None):\n",
    "        super().__init__(name, salary)  # Using super() is recommended\n",
    "        self.project = project\n",
    "\n",
    "    def display(self):\n",
    "        print(\"Manager \", self.name)\n",
    "\n",
    "    # Overriding the give_raise method\n",
    "    def give_raise(self, amount, bonus=1.05):\n",
    "        new_amount = amount * bonus\n",
    "        super().give_raise(new_amount)\n",
    "# With this corrected code:\n",
    "\n",
    "# The Manager class can now give raises with a bonus multiplier.\n",
    "# If you don't specify a bonus when calling give_raise for a manager, it'll use the default value of 1.05.\n",
    "# The actual raise given will be amount * bonus.\n",
    "\n",
    "\n",
    "\n",
    "\n",
    "\n",
    "# Regenerate\n"
   ]
  },
  {
   "cell_type": "code",
   "execution_count": null,
   "id": "389686cc",
   "metadata": {},
   "outputs": [],
   "source": [
    "mngr = Manager(\"Ashta Dunbar\", 78500)\n",
    "mngr.give_raise(1000)\n",
    "print(mngr.salary)\n",
    "mngr.give_raise(2000, bonus=1.03)\n",
    "print(mngr.salary)"
   ]
  },
  {
   "cell_type": "code",
   "execution_count": null,
   "id": "41bd6c5b",
   "metadata": {},
   "outputs": [],
   "source": [
    "class Employee:\n",
    "    def __init__(self, name, salary=30000):\n",
    "        self.name = name\n",
    "        self.salary = salary\n",
    "\n",
    "    def give_raise(self, amount):\n",
    "        self.salary += amount\n",
    "        Employee.give_raise(self, amount)\n",
    "\n",
    "        \n",
    "class Manager(Employee):\n",
    "    def display(self):\n",
    "        print(\"Manager \", self.name)\n",
    "\n",
    "    def __init__(self, name, salary=50000, project=None):\n",
    "        Employee.__init__(self, name, salary)\n",
    "        self.project = project\n",
    "\n",
    "    # Add a give_raise method\n",
    "    def give_raise(self, amount, bonus=1.05):\n",
    "        new_amount = amount * bonus\n",
    "        Employee.give_raise(self, new_amount)\n",
    "    \n",
    "    \n",
    "mngr = Manager(\"Ashta Dunbar\", 78500)\n",
    "mngr.give_raise(1000)\n",
    "print(mngr.salary)\n",
    "mngr.give_raise(2000, bonus=1.03)\n",
    "print(mngr.salary)"
   ]
  },
  {
   "cell_type": "code",
   "execution_count": null,
   "id": "e0fea859",
   "metadata": {},
   "outputs": [],
   "source": [
    "mngr = Manager(\"Ashta Dunbar\", 78500)\n",
    "mngr.display()\n",
    "mngr.give_raise(1000)\n",
    "mngr.salary"
   ]
  },
  {
   "cell_type": "code",
   "execution_count": null,
   "id": "5aad2099",
   "metadata": {},
   "outputs": [],
   "source": [
    "class Number:\n",
    "    def __init__(self, x):\n",
    "        Number.__init__(self, x)\n",
    "        self.number = x\n",
    "        \n",
    "class even(Number):\n",
    "   \n",
    "    def even_number(self):\n",
    "        if self.number % 2==0:\n",
    "            print('even number')\n",
    "        else:\n",
    "            print('not even')"
   ]
  },
  {
   "cell_type": "code",
   "execution_count": null,
   "id": "f3b39b05",
   "metadata": {},
   "outputs": [],
   "source": [
    "obj = even(5)\n",
    "obj.even_number()"
   ]
  },
  {
   "cell_type": "code",
   "execution_count": null,
   "id": "19c71fb4",
   "metadata": {},
   "outputs": [],
   "source": [
    "obj.number"
   ]
  },
  {
   "cell_type": "code",
   "execution_count": null,
   "id": "f3a877bb",
   "metadata": {},
   "outputs": [],
   "source": [
    "kkk = Number(4)\n",
    "kkk.number"
   ]
  },
  {
   "cell_type": "code",
   "execution_count": null,
   "id": "507d3cc8",
   "metadata": {},
   "outputs": [],
   "source": [
    "obj2 = even(6)\n",
    "obj2.even_number()"
   ]
  },
  {
   "cell_type": "code",
   "execution_count": 1,
   "id": "8750368d",
   "metadata": {},
   "outputs": [
    {
     "name": "stdout",
     "output_type": "stream",
     "text": [
      "[[1 3]\n",
      " [2 4]]\n",
      "2023-09-20 10:37:54.505974\n"
     ]
    }
   ],
   "source": [
    "# Import pandas as pd\n",
    "import pandas as pd\n",
    "from datetime import datetime\n",
    "\n",
    "# Define LoggedDF inherited from pd.DataFrame and add the constructor\n",
    "class LoggedDF(pd.DataFrame):\n",
    "    def __init__(self, *args, **kwargs):\n",
    "        pd.DataFrame.__init__(self,*args, **kwargs)\n",
    "        self.created_at = datetime.today()\n",
    "\n",
    "    \n",
    "    \n",
    "ldf = LoggedDF({\"col1\": [1,2], \"col2\": [3,4]})\n",
    "print(ldf.values)\n",
    "print(ldf.created_at)"
   ]
  },
  {
   "cell_type": "code",
   "execution_count": null,
   "id": "7d558aee",
   "metadata": {},
   "outputs": [],
   "source": [
    "# Import pandas as pd\n",
    "import pandas as pd\n",
    "\n",
    "# Define LoggedDF inherited from pd.DataFrame and add the constructor\n",
    "class LoggedDF(pd.DataFrame):\n",
    "  \n",
    "  def __init__(self, *args, **kwargs):\n",
    "    pd.DataFrame.__init__(self, *args, **kwargs)\n",
    "    self.created_at = datetime.today()\n",
    "    \n",
    "  def to_csv(self, *args, **kwargs):\n",
    "    # Copy self to a temporary DataFrame\n",
    "    temp = self.copy()\n",
    "    \n",
    "    # Create a new column filled with self.created_at\n",
    "    temp[\"created_at\"] = self.created_at\n",
    "    \n",
    "    # Call pd.DataFrame.to_csv on temp, passing in *args and **kwargs\n",
    "    pd.DataFrame.to_csv(temp, *args, **kwargs)"
   ]
  },
  {
   "cell_type": "code",
   "execution_count": null,
   "id": "b5e054fa",
   "metadata": {},
   "outputs": [],
   "source": [
    "3 * 4"
   ]
  },
  {
   "cell_type": "code",
   "execution_count": 4,
   "id": "5f5b9194",
   "metadata": {},
   "outputs": [
    {
     "name": "stdout",
     "output_type": "stream",
     "text": [
      "True\n",
      "False\n"
     ]
    }
   ],
   "source": [
    "class BankAccount:\n",
    "   # MODIFY to initialize a number attribute\n",
    "    def __init__(self, number,balance=0):\n",
    "        self.balance = balance\n",
    "        self.number = number\n",
    "      \n",
    "    def withdraw(self, amount):\n",
    "        self.balance -= amount \n",
    "\n",
    "    \n",
    "    # Define __eq__ that returns True if the number attributes are equal \n",
    "    def __eq__(self, other):\n",
    "        return self.number == other.number\n",
    "   \n",
    "\n",
    "# Create accounts and compare them       \n",
    "acct1 = BankAccount(123, 1000)\n",
    "acct2 = BankAccount(123, 1000)\n",
    "acct3 = BankAccount(456, 1000)\n",
    "print(acct1 == acct2)\n",
    "print(acct1 == acct3)\n",
    "    "
   ]
  },
  {
   "cell_type": "code",
   "execution_count": 18,
   "id": "4970fe49",
   "metadata": {},
   "outputs": [],
   "source": [
    "# class BankAccount:\n",
    "#     def __init__(self, number, balance=0,phone=0):\n",
    "#         self.number, self.balance = number, balance,phone\n",
    "      \n",
    "#     def withdraw(self, amount):\n",
    "#         self.balance -= amount \n",
    "\n",
    "# class Phone(BankAccount):\n",
    "    \n",
    "    \n",
    "    \n",
    "\n",
    "#     # MODIFY to add a check for the type()\n",
    "#     def __eq__(self, other):\n",
    "#         return (self.number == other.number) and (type(self) == type(other))\n",
    "    \n",
    "\n",
    "# acct = BankAccount(873555333)      \n",
    "# pn = Phone(873555333)\n",
    "# print(acct == pn)"
   ]
  },
  {
   "cell_type": "code",
   "execution_count": 20,
   "id": "a549d5a6",
   "metadata": {},
   "outputs": [],
   "source": [
    "class Parent:\n",
    "    def __eq__(self, other):\n",
    "        print(\"Parent's __eq__() called\")\n",
    "        return True\n",
    "\n",
    "class Child(Parent):\n",
    "    def __eq__(self, other):\n",
    "        print(\"Child's __eq__() called\")\n",
    "        return True\n",
    "\n",
    "        p = Parent()\n",
    "        c = Child()\n",
    "\n",
    "        p == c"
   ]
  },
  {
   "cell_type": "markdown",
   "id": "41242f58",
   "metadata": {},
   "source": [
    "# String formatting review"
   ]
  },
  {
   "cell_type": "code",
   "execution_count": 21,
   "id": "bdfa7596",
   "metadata": {},
   "outputs": [
    {
     "name": "stdout",
     "output_type": "stream",
     "text": [
      "my_num is 5, and my_str is \"Hello\".\n"
     ]
    }
   ],
   "source": [
    "my_num = 5\n",
    "my_str = \"Hello\"\n",
    "\n",
    "f =  \"my_num is {}, and my_str is \\\"{}\\\".\".format(my_num, my_str)\n",
    "print(f)"
   ]
  },
  {
   "cell_type": "code",
   "execution_count": 22,
   "id": "50e2b5a1",
   "metadata": {},
   "outputs": [
    {
     "name": "stdout",
     "output_type": "stream",
     "text": [
      "my_num is 5, and my_str is 'Hello'.\n"
     ]
    }
   ],
   "source": [
    "f = \"my_num is {n}, and my_str is '{s}'.\".format(n=my_num, s=my_str)\n",
    "print(f)"
   ]
  },
  {
   "cell_type": "code",
   "execution_count": 24,
   "id": "ad28b21f",
   "metadata": {},
   "outputs": [
    {
     "name": "stdout",
     "output_type": "stream",
     "text": [
      "my_num is 5, and my_str is Hello.\n"
     ]
    }
   ],
   "source": [
    "\n",
    "\n",
    "f = \"my_num is {0}, and my_str is {1}.\".format(my_num, my_str)\n",
    " \n",
    "print(f)"
   ]
  },
  {
   "cell_type": "code",
   "execution_count": 39,
   "id": "a9a12e59",
   "metadata": {},
   "outputs": [
    {
     "name": "stdout",
     "output_type": "stream",
     "text": [
      "Employee name: Amar Howard\n",
      "Employee salary: 30000\n",
      "Employee name: Carolyn Ramirez\n",
      "Employee salary: 35000\n"
     ]
    }
   ],
   "source": [
    "class Employee:\n",
    "    def __init__(self, name, salary=30000):\n",
    "        self.name, self.salary = name, salary\n",
    "      \n",
    "    # Add the __str__() method\n",
    "    def __str__(self):\n",
    "        s = \"Employee name: {name}\\nEmployee salary: {salary}\".format(name=self.name, salary=self.salary)      \n",
    "        return s\n",
    "\n",
    "emp1 = Employee(\"Amar Howard\", 30000)\n",
    "print(emp1)\n",
    "emp2 = Employee(\"Carolyn Ramirez\", 35000)\n",
    "print(emp2)"
   ]
  },
  {
   "cell_type": "code",
   "execution_count": 42,
   "id": "ad39b508",
   "metadata": {},
   "outputs": [
    {
     "name": "stdout",
     "output_type": "stream",
     "text": [
      "Employee('Amar Howard', 40000)\n",
      "Employee('Carolyn Ramirez', 35000)\n"
     ]
    }
   ],
   "source": [
    "class Employee:\n",
    "    def __init__(self, name, salary=30000):\n",
    "        self.name, self.salary = name, salary\n",
    "\n",
    "    def __str__(self):\n",
    "        s = \"Employee name: {name}\\nEmployee salary: {salary}\".format(name=self.name, salary=self.salary)      \n",
    "        return s\n",
    "\n",
    "    # Add the __repr__ method  \n",
    "    def __repr__(self):\n",
    "        return \"Employee(\\'{}\\', {})\".format(self.name, self.salary)\n",
    "\n",
    "emp1 = Employee(\"Amar Howard\", 40000)\n",
    "print(repr(emp1))\n",
    "emp2 = Employee(\"Carolyn Ramirez\", 35000)\n",
    "print(repr(emp2))\n",
    "\n",
    "\n",
    "\n",
    "\n",
    "\n"
   ]
  },
  {
   "cell_type": "code",
   "execution_count": null,
   "id": "96f966bc",
   "metadata": {},
   "outputs": [],
   "source": []
  },
  {
   "cell_type": "code",
   "execution_count": 53,
   "id": "4081e524",
   "metadata": {},
   "outputs": [
    {
     "data": {
      "text/plain": [
       "2"
      ]
     },
     "execution_count": 53,
     "metadata": {},
     "output_type": "execute_result"
    }
   ],
   "source": [
    "a = [5,6,0,7]\n",
    "\n",
    "a.index()"
   ]
  },
  {
   "cell_type": "code",
   "execution_count": 54,
   "id": "3aaa8cac",
   "metadata": {},
   "outputs": [
    {
     "name": "stdout",
     "output_type": "stream",
     "text": [
      "0.16666666666666666\n",
      "cannot divide by zero\n",
      "Index out of range\n"
     ]
    }
   ],
   "source": [
    "# MODIFY the function to catch exceptions\n",
    "def invert_at_index(x, ind):\n",
    "    try:\n",
    "        return 1/x[ind]\n",
    "        \n",
    "    except ZeroDivisionError:\n",
    "\n",
    "        return 'cannot divide by zero'\n",
    "    except IndexError:\n",
    "\n",
    "        return 'Index out of range'\n",
    "\n",
    "    \n",
    "a = [5,6,0,7]\n",
    "\n",
    "# Works okay\n",
    "print(invert_at_index(a, 1))\n",
    "\n",
    "# Potential ZeroDivisionError\n",
    "print(invert_at_index(a, 2))\n",
    "\n",
    "# Potential IndexError\n",
    "print(invert_at_index(a, 5))"
   ]
  },
  {
   "cell_type": "code",
   "execution_count": 56,
   "id": "bd82537e",
   "metadata": {},
   "outputs": [
    {
     "data": {
      "text/plain": [
       "6"
      ]
     },
     "execution_count": 56,
     "metadata": {},
     "output_type": "execute_result"
    }
   ],
   "source": [
    "a = [5, 6, 0, 7]\n",
    "a[1]"
   ]
  },
  {
   "cell_type": "code",
   "execution_count": 57,
   "id": "73c0082e",
   "metadata": {},
   "outputs": [],
   "source": [
    "class SalaryError(ValueError): pass\n",
    "class BonusError(SalaryError): pass\n",
    "\n",
    "class Employee:\n",
    "  MIN_SALARY = 30000\n",
    "  MAX_BONUS = 5000\n",
    "\n",
    "  def __init__(self, name, salary = 30000):\n",
    "    self.name = name    \n",
    "    if salary < Employee.MIN_SALARY:\n",
    "      raise SalaryError(\"Salary is too low!\")      \n",
    "    self.salary = salary\n",
    "    \n",
    "  # Rewrite using exceptions  \n",
    "  def give_bonus(self, amount):\n",
    "    if amount > Employee.MAX_BONUS:\n",
    "       print(\"The bonus amount is too high!\")  \n",
    "        \n",
    "    elif self.salary + amount <  Employee.MIN_SALARY:\n",
    "       print(\"The salary after bonus is too low!\")\n",
    "      \n",
    "    else:  \n",
    "      self.salary += amount"
   ]
  },
  {
   "cell_type": "code",
   "execution_count": 67,
   "id": "8a2bb2f0",
   "metadata": {},
   "outputs": [
    {
     "name": "stdout",
     "output_type": "stream",
     "text": [
      "The bonus amount is too high!\n",
      "The bonus amount is too high!\n",
      "The salary after bonus is too low!\n",
      "The salary after bonus is too low!\n"
     ]
    }
   ],
   "source": [
    "emp = Employee(\"Katze Rik\", salary=50000)\n",
    "try:\n",
    "  emp.give_bonus(7000)\n",
    "except SalaryError:\n",
    "  print(\"SalaryError caught!\")\n",
    "\n",
    "try:\n",
    "  emp.give_bonus(7000)\n",
    "except BonusError:\n",
    "  print(\"BonusError caught!\")\n",
    "\n",
    "try:\n",
    "  emp.give_bonus(-100000)\n",
    "except SalaryError:\n",
    "  print(\"SalaryError caught again!\")\n",
    "\n",
    "try:\n",
    "  emp.give_bonus(-100000)\n",
    "except BonusError:\n",
    "  print(\"BonusError caught again!\")  "
   ]
  },
  {
   "cell_type": "code",
   "execution_count": 68,
   "id": "76482775",
   "metadata": {},
   "outputs": [
    {
     "name": "stdout",
     "output_type": "stream",
     "text": [
      "The bonus amount is too high!\n"
     ]
    }
   ],
   "source": [
    "\n",
    "emp = Employee(\"Katze Rik\",\\\n",
    "                    50000)\n",
    "try:\n",
    "  emp.give_bonus(7000)\n",
    "except SalaryError:\n",
    "  print(\"SalaryError caught\")\n",
    "except BonusError:\n",
    "  print(\"BonusError caught\")\n",
    "      "
   ]
  },
  {
   "cell_type": "code",
   "execution_count": null,
   "id": "16d0a310",
   "metadata": {},
   "outputs": [],
   "source": []
  },
  {
   "cell_type": "code",
   "execution_count": null,
   "id": "5f1bf53f",
   "metadata": {},
   "outputs": [],
   "source": []
  },
  {
   "cell_type": "code",
   "execution_count": 70,
   "id": "5e6550da",
   "metadata": {},
   "outputs": [
    {
     "name": "stdout",
     "output_type": "stream",
     "text": [
      "The bonus amount is too high!\n"
     ]
    }
   ],
   "source": [
    "emp = Employee(\"Katze Rik\",\\\n",
    "                    50000)\n",
    "try:\n",
    "  emp.give_bonus(7000)\n",
    "except SalaryError:\n",
    "  print(\"SalaryError caught\")\n",
    "except BonusError:\n",
    "  print(\"BonusError caught\")\n",
    "      "
   ]
  },
  {
   "cell_type": "code",
   "execution_count": 71,
   "id": "60c6bf05",
   "metadata": {},
   "outputs": [
    {
     "name": "stdout",
     "output_type": "stream",
     "text": [
      "The bonus amount is too high!\n"
     ]
    }
   ],
   "source": [
    "\n",
    "emp = Employee(\"Katze Rik\",\\\n",
    "                    50000)\n",
    "try:\n",
    "  emp.give_bonus(7000)\n",
    "except BonusError:\n",
    "  print(\"BonusError caught\")\n",
    "except SalaryError:\n",
    "  print(\"SalaryError caught\")\n",
    "      "
   ]
  },
  {
   "cell_type": "code",
   "execution_count": 38,
   "id": "2eca47d9",
   "metadata": {},
   "outputs": [],
   "source": [
    "class Planeshapes:\n",
    "    def __init__(self, length,breadth):\n",
    "        self.l = length\n",
    "        self.b = breadth\n",
    "        \n",
    "class Triangle(Planeshapes):\n",
    "    \n",
    "    def area_calc(self,h):\n",
    "        area = 0.5 * self.l * h\n",
    "        return 'the area is',area"
   ]
  },
  {
   "cell_type": "code",
   "execution_count": 39,
   "id": "9e221043",
   "metadata": {},
   "outputs": [],
   "source": [
    "area = Triangle(8,4)"
   ]
  },
  {
   "cell_type": "code",
   "execution_count": 40,
   "id": "0f332915",
   "metadata": {},
   "outputs": [
    {
     "data": {
      "text/plain": [
       "('the area is', 32.0)"
      ]
     },
     "execution_count": 40,
     "metadata": {},
     "output_type": "execute_result"
    }
   ],
   "source": [
    "area.area_calc(8)"
   ]
  },
  {
   "cell_type": "code",
   "execution_count": 44,
   "id": "2f4346d2",
   "metadata": {},
   "outputs": [],
   "source": [
    "# Ploymorphism means using a unified interface to operate on object of different classes.\n",
    "# Liskov substitution principle:\n",
    "# Base class should be interchangeable with any of the subclasses without altering any property\n",
    "# of the program.the principle base on the following:\n",
    "# Syntatically\n",
    "# function signatures are compactible argument, returned valus.\n",
    "# Semantically:\n",
    "# the state of the object and the program remain consistent\n",
    "# subclass method does not strengthen the input condition\n",
    "# subclass method does not weaken the input condition\n",
    "# no other exceptions."
   ]
  },
  {
   "cell_type": "code",
   "execution_count": 5,
   "id": "ea7e7506",
   "metadata": {},
   "outputs": [
    {
     "name": "stdout",
     "output_type": "stream",
     "text": [
      "Parent talking!\n",
      "Child talking!\n",
      "TalkativeChild talking!\n",
      "Parent talking!\n"
     ]
    }
   ],
   "source": [
    "class Parent:\n",
    "    def talk(self):\n",
    "        print(\"Parent talking!\")     \n",
    "\n",
    "class Child(Parent):\n",
    "    def talk(self):\n",
    "        print(\"Child talking!\")          \n",
    "\n",
    "class TalkativeChild(Parent):\n",
    "    def talk(self):\n",
    "        print(\"TalkativeChild talking!\")\n",
    "        Parent.talk(self)\n",
    "\n",
    "\n",
    "p, c, tc = Parent(), Child(), TalkativeChild()\n",
    "\n",
    "for obj in (p, c, tc):\n",
    "    obj.talk()"
   ]
  },
  {
   "cell_type": "code",
   "execution_count": 6,
   "id": "dee47c6c",
   "metadata": {},
   "outputs": [
    {
     "name": "stdout",
     "output_type": "stream",
     "text": [
      "Parent talking!\n"
     ]
    }
   ],
   "source": [
    "k = Parent()\n",
    "k.talk()"
   ]
  },
  {
   "cell_type": "code",
   "execution_count": 7,
   "id": "6d76e7ac",
   "metadata": {},
   "outputs": [],
   "source": [
    "# Define a Rectangle class\n",
    "class Rectangle:\n",
    "    def __init__(self, h, w):\n",
    "      self.h, self.w = h, w\n",
    "\n",
    "# Define a Square class\n",
    "class Square(Rectangle):\n",
    "    def __init__(self, w):\n",
    "      self.h, self.w = w, w  \n",
    "      "
   ]
  },
  {
   "cell_type": "code",
   "execution_count": 1,
   "id": "3f9b2a5d",
   "metadata": {},
   "outputs": [
    {
     "name": "stdout",
     "output_type": "stream",
     "text": [
      "True\n",
      "False\n"
     ]
    }
   ],
   "source": [
    "# Add class attributes for max number of days and months\n",
    "class BetterDate:\n",
    "    _MAX_DAYS = 30\n",
    "    _MAX_MONTHS = 12\n",
    "    \n",
    "    def __init__(self, year, month, day):\n",
    "        self.year, self.month, self.day = year, month, day\n",
    "        \n",
    "    @classmethod\n",
    "    def from_str(cls, datestr):\n",
    "        year, month, day = map(int, datestr.split(\"-\"))\n",
    "        return cls(year, month, day)\n",
    "        \n",
    "    # Add _is_valid() checking day and month values\n",
    "    def _is_valid(self):\n",
    "        return (self.day <= BetterDate._MAX_DAYS) and \\\n",
    "               (self.month <= BetterDate._MAX_MONTHS)\n",
    "        \n",
    "bd1 = BetterDate(2020, 4, 30)\n",
    "print(bd1._is_valid())\n",
    "\n",
    "bd2 = BetterDate(2020, 6, 45)\n",
    "print(bd2._is_valid())"
   ]
  },
  {
   "cell_type": "code",
   "execution_count": 2,
   "id": "6dbb03b5",
   "metadata": {},
   "outputs": [
    {
     "name": "stdout",
     "output_type": "stream",
     "text": [
      "Setter method called\n",
      "3000\n"
     ]
    }
   ],
   "source": [
    "class Customer:\n",
    "    def __init__(self, name, new_bal):\n",
    "        self.name = name\n",
    "        if new_bal < 0:\n",
    "           raise ValueError(\"Invalid balance!\")\n",
    "        self._balance = new_bal  \n",
    "\n",
    "    # Add a decorated balance() method returning _balance        \n",
    "    @property\n",
    "    def balance(self):\n",
    "        return self._balance\n",
    "\n",
    "    # Add a setter balance() method\n",
    "    @balance.setter\n",
    "    def balance(self, new_bal):\n",
    "        # Validate the parameter value\n",
    "        if new_bal < 0:\n",
    "           raise ValueError(\"Invalid balance!\")\n",
    "        self._balance = new_bal\n",
    "        print(\"Setter method called\")\n",
    "\n",
    "# Create a Customer        \n",
    "cust = Customer('Belinda Lutz',2000)\n",
    "\n",
    "# Assign 3000 to the balance property\n",
    "cust.balance = 3000\n",
    "\n",
    "# Print the balance property\n",
    "print(cust.balance)"
   ]
  },
  {
   "cell_type": "code",
   "execution_count": 3,
   "id": "1ee216b6",
   "metadata": {},
   "outputs": [],
   "source": [
    "import pandas as pd\n",
    "from datetime import datetime\n",
    "\n",
    "# MODIFY the class to use _created_at instead of created_at\n",
    "class LoggedDF(pd.DataFrame):\n",
    "    def __init__(self, *args, **kwargs):\n",
    "        pd.DataFrame.__init__(self, *args, **kwargs)\n",
    "        self._created_at = datetime.today()\n",
    "    \n",
    "    def to_csv(self, *args, **kwargs):\n",
    "        temp = self.copy()\n",
    "        temp[\"created_at\"] = self._created_at\n",
    "        pd.DataFrame.to_csv(temp, *args, **kwargs)   \n",
    "    \n",
    "    # Add a read-only property: _created_at\n",
    "    @property  \n",
    "    def created_at(self):\n",
    "        return self._created_at\n",
    "\n",
    "# Instantiate a LoggedDF called ldf\n",
    "ldf = LoggedDF({\"col1\": [1,2], \"col2\":[3,4]}) "
   ]
  },
  {
   "cell_type": "code",
   "execution_count": 12,
   "id": "b9ef9c5d",
   "metadata": {},
   "outputs": [],
   "source": [
    "d = Square(4)"
   ]
  },
  {
   "cell_type": "code",
   "execution_count": 13,
   "id": "855dfebd",
   "metadata": {},
   "outputs": [],
   "source": [
    "d = Square(7)"
   ]
  },
  {
   "cell_type": "code",
   "execution_count": null,
   "id": "f4482b2e",
   "metadata": {},
   "outputs": [],
   "source": []
  }
 ],
 "metadata": {
  "kernelspec": {
   "display_name": "Python 3 (ipykernel)",
   "language": "python",
   "name": "python3"
  },
  "language_info": {
   "codemirror_mode": {
    "name": "ipython",
    "version": 3
   },
   "file_extension": ".py",
   "mimetype": "text/x-python",
   "name": "python",
   "nbconvert_exporter": "python",
   "pygments_lexer": "ipython3",
   "version": "3.9.7"
  }
 },
 "nbformat": 4,
 "nbformat_minor": 5
}
