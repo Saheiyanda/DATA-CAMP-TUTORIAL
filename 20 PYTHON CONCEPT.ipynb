{
 "cells": [
  {
   "cell_type": "code",
   "execution_count": 6,
   "id": "9305070f",
   "metadata": {},
   "outputs": [],
   "source": [
    "import pandas as pd\n",
    "import numpy as np\n",
    "\n"
   ]
  },
  {
   "cell_type": "markdown",
   "id": "db7084e6",
   "metadata": {},
   "source": [
    "# 1 If we need to find squares of all even numbers in a range, we can use:"
   ]
  },
  {
   "cell_type": "code",
   "execution_count": 22,
   "id": "c5edcb44",
   "metadata": {},
   "outputs": [],
   "source": [
    "square = [x**2 for x in range(10) if x % 2 ==0]"
   ]
  },
  {
   "cell_type": "code",
   "execution_count": 23,
   "id": "d64b64fe",
   "metadata": {},
   "outputs": [
    {
     "data": {
      "text/plain": [
       "[0, 4, 16, 36, 64]"
      ]
     },
     "execution_count": 23,
     "metadata": {},
     "output_type": "execute_result"
    }
   ],
   "source": [
    "square"
   ]
  },
  {
   "cell_type": "markdown",
   "id": "e8de3b09",
   "metadata": {},
   "source": [
    "# 2 Imagine processing user input from a website, where you need to extract only the numeric inputs:"
   ]
  },
  {
   "cell_type": "code",
   "execution_count": 24,
   "id": "ad58172d",
   "metadata": {},
   "outputs": [],
   "source": [
    "# inputs = ['john',23,'saheed',43]\n",
    "# ages = [int([x]) for x in inputs if x.isdigit()]"
   ]
  },
  {
   "cell_type": "markdown",
   "id": "bf64b6fa",
   "metadata": {},
   "source": [
    "# 3 Sorting a list of strings based on their length:"
   ]
  },
  {
   "cell_type": "code",
   "execution_count": 25,
   "id": "4668fbc1",
   "metadata": {},
   "outputs": [],
   "source": [
    "word = [\"apple\", \"banana\", \"cherry\", \"date\"]\n",
    "sorted_word = sorted(word, key=lambda x: len(x))"
   ]
  },
  {
   "cell_type": "code",
   "execution_count": 26,
   "id": "3f84ee5c",
   "metadata": {},
   "outputs": [
    {
     "data": {
      "text/plain": [
       "['date', 'apple', 'banana', 'cherry']"
      ]
     },
     "execution_count": 26,
     "metadata": {},
     "output_type": "execute_result"
    }
   ],
   "source": [
    "sorted_word"
   ]
  },
  {
   "cell_type": "markdown",
   "id": "f6cd9fda",
   "metadata": {},
   "source": [
    "# 4 Imagine filtering out products from an inventory based on a minimum price:"
   ]
  },
  {
   "cell_type": "code",
   "execution_count": 25,
   "id": "71c6adbb",
   "metadata": {},
   "outputs": [],
   "source": [
    "products = [{'name':'A','Price': 50},{'name':'B','Price':30}]\n",
    "filter_products = list(filter(lambda x: x['Price'] > 40,products))"
   ]
  },
  {
   "cell_type": "code",
   "execution_count": 26,
   "id": "8eeb7d8a",
   "metadata": {},
   "outputs": [
    {
     "name": "stdout",
     "output_type": "stream",
     "text": [
      "[{'name': 'A', 'Price': 50}]\n"
     ]
    }
   ],
   "source": [
    "print(filter_products)"
   ]
  },
  {
   "cell_type": "code",
   "execution_count": 22,
   "id": "7e7c128f",
   "metadata": {},
   "outputs": [
    {
     "name": "stdout",
     "output_type": "stream",
     "text": [
      "  name  price\n",
      "0    A     50\n"
     ]
    }
   ],
   "source": [
    "products = pd.DataFrame([{\"name\": \"A\", \"price\": 50}, {\"name\": \"B\", \"price\": 30}])\n",
    "filtered_products = products[products['price'] > 40]\n",
    "\n",
    "print(filtered_products)"
   ]
  },
  {
   "cell_type": "code",
   "execution_count": 20,
   "id": "bbe9495c",
   "metadata": {},
   "outputs": [
    {
     "data": {
      "text/plain": [
       "[{'name': 'A', 'price': 50}]"
      ]
     },
     "execution_count": 20,
     "metadata": {},
     "output_type": "execute_result"
    }
   ],
   "source": [
    "filtered_products"
   ]
  },
  {
   "cell_type": "markdown",
   "id": "5f3556b4",
   "metadata": {},
   "source": [
    "# 5  Using `map()` to convert strings to upper case:"
   ]
  },
  {
   "cell_type": "code",
   "execution_count": 1,
   "id": "128d9c38",
   "metadata": {},
   "outputs": [],
   "source": [
    "name = ['alice', 'bob','saheed']\n",
    "upper = list(map(str.upper,name))"
   ]
  },
  {
   "cell_type": "code",
   "execution_count": 2,
   "id": "3a216f5a",
   "metadata": {},
   "outputs": [
    {
     "data": {
      "text/plain": [
       "['ALICE', 'BOB', 'SAHEED']"
      ]
     },
     "execution_count": 2,
     "metadata": {},
     "output_type": "execute_result"
    }
   ],
   "source": [
    "upper"
   ]
  },
  {
   "cell_type": "markdown",
   "id": "af6213e0",
   "metadata": {},
   "source": [
    "# 6 Calculating the total price of items in a shopping cart:"
   ]
  },
  {
   "cell_type": "code",
   "execution_count": 15,
   "id": "b5694e57",
   "metadata": {},
   "outputs": [],
   "source": [
    "from functools import reduce\n",
    "cart = [{\"name\":\"item1\",\"price\":50},{\"name\":\"item2\",\"price\":100}]\n",
    "total = reduce(lambda x, y: x + y['price'],cart, 0)"
   ]
  },
  {
   "cell_type": "code",
   "execution_count": 16,
   "id": "9b180e1b",
   "metadata": {},
   "outputs": [
    {
     "data": {
      "text/plain": [
       "150"
      ]
     },
     "execution_count": 16,
     "metadata": {},
     "output_type": "execute_result"
    }
   ],
   "source": [
    "total"
   ]
  },
  {
   "cell_type": "markdown",
   "id": "e0d8b783",
   "metadata": {},
   "source": [
    "# 7 A function that multiplies all given arguments:"
   ]
  },
  {
   "cell_type": "code",
   "execution_count": 37,
   "id": "577fe5a0",
   "metadata": {},
   "outputs": [],
   "source": [
    "def func(*arg):\n",
    "    result = 1\n",
    "    for num in arg:\n",
    "        \n",
    "        result *=num\n",
    "    return result"
   ]
  },
  {
   "cell_type": "code",
   "execution_count": 38,
   "id": "c5dc7f4b",
   "metadata": {},
   "outputs": [
    {
     "data": {
      "text/plain": [
       "6"
      ]
     },
     "execution_count": 38,
     "metadata": {},
     "output_type": "execute_result"
    }
   ],
   "source": [
    "func(1,2,3)"
   ]
  },
  {
   "cell_type": "markdown",
   "id": "7c043eeb",
   "metadata": {},
   "source": [
    "# 8 Whenever you need both the index and value during iterations."
   ]
  },
  {
   "cell_type": "code",
   "execution_count": 39,
   "id": "ff47323d",
   "metadata": {},
   "outputs": [
    {
     "name": "stdout",
     "output_type": "stream",
     "text": [
      "0: Alice\n",
      "1: Bob\n",
      "2: Charlie\n"
     ]
    }
   ],
   "source": [
    "names = [\"Alice\", \"Bob\", \"Charlie\"]\n",
    "for index, name in enumerate(names):\n",
    " print(f\"{index}: {name}\")"
   ]
  },
  {
   "cell_type": "markdown",
   "id": "c4de749f",
   "metadata": {},
   "source": [
    "# 9 When you need to iterate simultaneously through multiple sequences."
   ]
  },
  {
   "cell_type": "code",
   "execution_count": 40,
   "id": "90da6f7f",
   "metadata": {},
   "outputs": [
    {
     "name": "stdout",
     "output_type": "stream",
     "text": [
      "saheed:90\n",
      "yusuf:100\n"
     ]
    }
   ],
   "source": [
    "names = ['saheed','yusuf']\n",
    "scores = [90, 100]\n",
    "for names, scores in zip(names,scores):\n",
    "    print (f'{names}:{scores}')"
   ]
  },
  {
   "cell_type": "markdown",
   "id": "ce87e1ac",
   "metadata": {},
   "source": [
    "# 10 Dictionaries — get() and setdefault()"
   ]
  },
  {
   "cell_type": "code",
   "execution_count": 45,
   "id": "2413d8a9",
   "metadata": {},
   "outputs": [
    {
     "name": "stdout",
     "output_type": "stream",
     "text": [
      "{'name': 'Alice', 'country': 'USA'}\n"
     ]
    }
   ],
   "source": [
    "data = {\"name\": \"Alice\"}\n",
    "age = data.get(\"age\", 30)\n",
    "data.setdefault(\"country\", \"USA\")\n",
    "print(data)"
   ]
  },
  {
   "cell_type": "code",
   "execution_count": 42,
   "id": "ed97f29c",
   "metadata": {},
   "outputs": [
    {
     "data": {
      "text/plain": [
       "30"
      ]
     },
     "execution_count": 42,
     "metadata": {},
     "output_type": "execute_result"
    }
   ],
   "source": [
    "age"
   ]
  },
  {
   "cell_type": "code",
   "execution_count": null,
   "id": "766eb4cf",
   "metadata": {},
   "outputs": [],
   "source": []
  }
 ],
 "metadata": {
  "kernelspec": {
   "display_name": "Python 3 (ipykernel)",
   "language": "python",
   "name": "python3"
  },
  "language_info": {
   "codemirror_mode": {
    "name": "ipython",
    "version": 3
   },
   "file_extension": ".py",
   "mimetype": "text/x-python",
   "name": "python",
   "nbconvert_exporter": "python",
   "pygments_lexer": "ipython3",
   "version": "3.9.7"
  }
 },
 "nbformat": 4,
 "nbformat_minor": 5
}
