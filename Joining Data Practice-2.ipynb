{
 "cells": [
  {
   "cell_type": "code",
   "execution_count": 4,
   "id": "ac455b0d",
   "metadata": {},
   "outputs": [
    {
     "name": "stdout",
     "output_type": "stream",
     "text": [
      "  account ward  aid                   business               address    zip\n",
      "0  307071    3  743       REGGIE'S BAR & GRILL       2105 S STATE ST  60616\n",
      "1      10   10  829                 HONEYBEERS   13200 S HOUSTON AVE  60633\n",
      "2   10002   14  775                CELINA DELI     5089 S ARCHER AVE  60632\n",
      "3   10005   12  NaN  KRAFT FOODS NORTH AMERICA        2005 W 43RD ST  60609\n",
      "4   10044   44  638  NEYBOUR'S TAVERN & GRILLE  3651 N SOUTHPORT AVE  60613\n",
      "\n",
      "  account first_name  last_name      title\n",
      "0      10      PEARL    SHERMAN  PRESIDENT\n",
      "1      10      PEARL    SHERMAN  SECRETARY\n",
      "2   10002     WALTER     MROZEK    PARTNER\n",
      "3   10002     CELINA     BYRDAK    PARTNER\n",
      "4   10005      IRENE  ROSENFELD  PRESIDENT\n",
      "(21352, 4) (10000, 6)\n"
     ]
    }
   ],
   "source": [
    "import pandas as pd\n",
    "licenses = pd.read_pickle('https://assets.datacamp.com/production/repositories/5486/datasets/2a4d8e5d91f6f2b41477fa6ea81da91e4f09305e/licenses.p')\n",
    "\n",
    "biz_owners = pd.read_pickle('https://assets.datacamp.com/production/repositories/5486/datasets/fc3c75b236ed090f487b044603c0f7ff6825d911/business_owners.p')\n",
    "print(licenses.head())\n",
    "print()\n",
    "print(biz_owners.head())\n",
    "print(biz_owners.shape,licenses.shape)"
   ]
  },
  {
   "cell_type": "code",
   "execution_count": 5,
   "id": "5a58801b",
   "metadata": {},
   "outputs": [
    {
     "name": "stdout",
     "output_type": "stream",
     "text": [
      "  account ward  aid              business              address    zip  \\\n",
      "0  307071    3  743  REGGIE'S BAR & GRILL      2105 S STATE ST  60616   \n",
      "1      10   10  829            HONEYBEERS  13200 S HOUSTON AVE  60633   \n",
      "2      10   10  829            HONEYBEERS  13200 S HOUSTON AVE  60633   \n",
      "3   10002   14  775           CELINA DELI    5089 S ARCHER AVE  60632   \n",
      "4   10002   14  775           CELINA DELI    5089 S ARCHER AVE  60632   \n",
      "\n",
      "  first_name last_name      title  \n",
      "0     ROBERT     GLICK     MEMBER  \n",
      "1      PEARL   SHERMAN  PRESIDENT  \n",
      "2      PEARL   SHERMAN  SECRETARY  \n",
      "3     WALTER    MROZEK    PARTNER  \n",
      "4     CELINA    BYRDAK    PARTNER  \n",
      "(19497, 9)\n"
     ]
    }
   ],
   "source": [
    "# Merge the licenses and biz_owners table on account\n",
    "licenses_owners = licenses.merge(biz_owners, on='account')\n",
    "print(licenses_owners.head())\n",
    "print(licenses_owners.shape)"
   ]
  },
  {
   "cell_type": "code",
   "execution_count": 12,
   "id": "7beeb963",
   "metadata": {},
   "outputs": [
    {
     "name": "stdout",
     "output_type": "stream",
     "text": [
      "                    account\n",
      "title                      \n",
      "ASST. SECRETARY         111\n",
      "BENEFICIARY               4\n",
      "CEO                     110\n",
      "DIRECTOR                146\n",
      "EXECUTIVE DIRECTOR       10\n"
     ]
    }
   ],
   "source": [
    "#Group licenses_owners by title and count the number of accounts for each title. Save the result as counted_df\n",
    "counted_df = licenses_owners.groupby('title').agg({'account':'count'})\n",
    "print(counted_df.head())"
   ]
  },
  {
   "cell_type": "code",
   "execution_count": 15,
   "id": "2ddcdda5",
   "metadata": {},
   "outputs": [],
   "source": [
    "counted_df1=licenses_owners.groupby('title')['account'].count()"
   ]
  },
  {
   "cell_type": "code",
   "execution_count": 17,
   "id": "364a8262",
   "metadata": {},
   "outputs": [
    {
     "data": {
      "text/plain": [
       "title\n",
       "ASST. SECRETARY       111\n",
       "BENEFICIARY             4\n",
       "CEO                   110\n",
       "DIRECTOR              146\n",
       "EXECUTIVE DIRECTOR     10\n",
       "Name: account, dtype: int64"
      ]
     },
     "execution_count": 17,
     "metadata": {},
     "output_type": "execute_result"
    }
   ],
   "source": [
    "counted_df1.head()"
   ]
  },
  {
   "cell_type": "code",
   "execution_count": null,
   "id": "b45acea3",
   "metadata": {},
   "outputs": [],
   "source": []
  }
 ],
 "metadata": {
  "kernelspec": {
   "display_name": "Python 3 (ipykernel)",
   "language": "python",
   "name": "python3"
  },
  "language_info": {
   "codemirror_mode": {
    "name": "ipython",
    "version": 3
   },
   "file_extension": ".py",
   "mimetype": "text/x-python",
   "name": "python",
   "nbconvert_exporter": "python",
   "pygments_lexer": "ipython3",
   "version": "3.9.7"
  }
 },
 "nbformat": 4,
 "nbformat_minor": 5
}
